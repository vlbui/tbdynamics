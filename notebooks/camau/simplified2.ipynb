{
 "cells": [
  {
   "cell_type": "code",
   "execution_count": null,
   "id": "74c72501",
   "metadata": {},
   "outputs": [],
   "source": [
    "import arviz as az\n",
    "from summer2 import CompartmentalModel\n",
    "from summer2 import AgeStratification\n",
    "from summer2 import Overwrite\n",
    "from summer2.parameters import Parameter, Function\n",
    "from tbdynamics.tools.utils import (\n",
    "    interpolate_age_strata_values,\n",
    "    adjust_latency_rates,\n",
    ")\n",
    "from estival.model import BayesianCompartmentalModel\n",
    "from tbdynamics.constants import AGE_STRATA, QUANTILES, PLACEHOLDER_PARAM\n",
    "from tbdynamics.tools.inputs import load_params\n",
    "\n",
    "from tbdynamics.settings import CM_PATH\n",
    "from tbdynamics.camau.calibration.utils import get_all_priors\n",
    "import estival.sampling.tools as esamp\n",
    "import estival.targets as est\n",
    "import pandas as pd\n",
    "\n",
    "import plotly.graph_objects as go"
   ]
  },
  {
   "cell_type": "code",
   "execution_count": null,
   "id": "644c72cd",
   "metadata": {},
   "outputs": [],
   "source": [
    "fixed_params = load_params(CM_PATH / \"params.yml\")\n",
    "adult_latency = {k: v[15] for k, v in fixed_params[\"age_latency\"].items()}\n",
    "compartments = [\"early_latent\", \"late_latent\", \"infectious\"]\n",
    "model = CompartmentalModel(\n",
    "    times=(0.0, 20.0),\n",
    "    compartments=compartments,\n",
    "    infectious_compartments=\"infectious\",\n",
    "    timestep=0.01,\n",
    ")\n",
    "model.set_initial_population({\"early_latent\": 1.0})\n",
    "latency_flows = [\n",
    "    (\"stabilisation\", Parameter(\"stabilisation\"), \"early_latent\", \"late_latent\"),\n",
    "    (\"early_activation\", Parameter(\"early_activation\"), \"early_latent\", \"infectious\"),\n",
    "    (\"late_activation\", Parameter(\"late_activation\"), \"late_latent\", \"infectious\"),\n",
    "]\n",
    "for latency_flow in latency_flows:\n",
    "    model.add_transition_flow(*latency_flow)\n",
    "model.run(adult_latency)\n",
    "model.get_outputs_df()[\"infectious\"].plot()"
   ]
  },
  {
   "cell_type": "code",
   "execution_count": null,
   "id": "fb4d6034",
   "metadata": {},
   "outputs": [],
   "source": [
    " age_strata = [0,5,15]\n",
    "def get_age_strat(fixed_params):\n",
    "    strat = AgeStratification(\"age\", age_strata, compartments)\n",
    "    for age in age_strata:\n",
    "        for flow_name, latency_params in fixed_params[\"age_latency\"].items():\n",
    "            adjs = {str(k): Overwrite(v) for k, v in latency_params.items()}\n",
    "            strat.set_flow_adjustments(flow_name, adjs)\n",
    "    return strat"
   ]
  },
  {
   "cell_type": "code",
   "execution_count": null,
   "id": "29b69812",
   "metadata": {},
   "outputs": [],
   "source": [
    "model = CompartmentalModel(\n",
    "    times=(0.0, 20.0),\n",
    "    compartments=compartments,\n",
    "    infectious_compartments=\"infectious\",\n",
    "    timestep=0.01,\n",
    ")\n",
    "model.set_initial_population({\"early_latent\": 3.0})\n",
    "# model.add_importation_flow(\"seeding\", 1.0, \"early_latent\", split_imports=False, dest_strata={'age':'0'})\n",
    "latency_flows = [\n",
    "    (\"stabilisation\", Parameter(\"stabilisation\"), \"early_latent\", \"late_latent\"),\n",
    "    (\"early_activation\", Parameter(\"early_activation\"), \"early_latent\", \"infectious\"),\n",
    "    (\"late_activation\", Parameter(\"late_activation\"), \"late_latent\", \"infectious\"),\n",
    "]\n",
    "for latency_flow in latency_flows:\n",
    "    model.add_transition_flow(*latency_flow)\n",
    "model.stratify_with(get_age_strat(fixed_params))"
   ]
  },
  {
   "cell_type": "code",
   "execution_count": null,
   "id": "48b7ea9d",
   "metadata": {},
   "outputs": [],
   "source": [
    "model.run()"
   ]
  },
  {
   "cell_type": "code",
   "execution_count": null,
   "id": "0360742f",
   "metadata": {},
   "outputs": [],
   "source": [
    "res = model.get_outputs_df()"
   ]
  },
  {
   "cell_type": "code",
   "execution_count": null,
   "id": "4c372de2",
   "metadata": {},
   "outputs": [],
   "source": [
    "res[[f\"infectiousXage_{age}\" for age in age_strata]].plot()"
   ]
  }
 ],
 "metadata": {
  "kernelspec": {
   "display_name": "tbdyn",
   "language": "python",
   "name": "python3"
  },
  "language_info": {
   "codemirror_mode": {
    "name": "ipython",
    "version": 3
   },
   "file_extension": ".py",
   "mimetype": "text/x-python",
   "name": "python",
   "nbconvert_exporter": "python",
   "pygments_lexer": "ipython3",
   "version": "3.10.13"
  }
 },
 "nbformat": 4,
 "nbformat_minor": 5
}
