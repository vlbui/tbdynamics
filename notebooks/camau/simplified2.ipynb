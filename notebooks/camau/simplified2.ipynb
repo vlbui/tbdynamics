{
 "cells": [
  {
   "cell_type": "code",
   "execution_count": null,
   "id": "74c72501",
   "metadata": {},
   "outputs": [],
   "source": [
    "from summer2 import CompartmentalModel\n",
    "from summer2 import AgeStratification\n",
    "from summer2 import Overwrite\n",
    "from summer2.parameters import Parameter\n",
    "from tbdynamics.tools.inputs import load_params\n",
    "from tbdynamics.settings import CM_PATH\n",
    "import pandas as pd\n",
    "import plotly.graph_objects as go"
   ]
  },
  {
   "cell_type": "code",
   "execution_count": null,
   "id": "644c72cd",
   "metadata": {},
   "outputs": [],
   "source": [
    "fixed_params = load_params(CM_PATH / \"params.yml\")\n",
    "adult_latency = {k: v[15] for k, v in fixed_params[\"age_latency\"].items()}\n",
    "compartments = [\"early_latent\", \"late_latent\", \"infectious\"]\n",
    "model = CompartmentalModel(\n",
    "    times=(0.0, 20.0),\n",
    "    compartments=compartments,\n",
    "    infectious_compartments=\"infectious\",\n",
    "    timestep=0.01,\n",
    ")\n",
    "model.set_initial_population({\"early_latent\": 1.0})\n",
    "latency_flows = [\n",
    "    (\"stabilisation\", Parameter(\"stabilisation\"), \"early_latent\", \"late_latent\"),\n",
    "    (\"early_activation\", Parameter(\"early_activation\"), \"early_latent\", \"infectious\"),\n",
    "    (\"late_activation\", Parameter(\"late_activation\"), \"late_latent\", \"infectious\"),\n",
    "]\n",
    "for latency_flow in latency_flows:\n",
    "    model.add_transition_flow(*latency_flow)\n",
    "model.run(adult_latency)\n",
    "model.get_outputs_df()[\"infectious\"].plot()"
   ]
  },
  {
   "cell_type": "code",
   "execution_count": null,
   "id": "fb4d6034",
   "metadata": {},
   "outputs": [],
   "source": [
    "age_strata = [0,5,15]\n",
    "def get_age_strat(fixed_params, start_group):\n",
    "    strat = AgeStratification(\"age\", age_strata, compartments)\n",
    "\n",
    "    for age in age_strata:\n",
    "        for flow_name, latency_params in fixed_params[\"age_latency\"].items():\n",
    "            adjs = {str(k): Overwrite(v) for k, v in latency_params.items()}\n",
    "            strat.set_flow_adjustments(flow_name, adjs)\n",
    "\n",
    "    # Correct dictionary comprehension\n",
    "    pop_splits = {str(age): 0 for age in age_strata}\n",
    "    pop_splits[str(start_group)] = 1\n",
    "    strat.set_population_split(pop_splits)\n",
    "\n",
    "    return strat"
   ]
  },
  {
   "cell_type": "code",
   "execution_count": null,
   "id": "6a768198",
   "metadata": {},
   "outputs": [],
   "source": [
    "def run_model_for_start_group(start_group):\n",
    "    model = CompartmentalModel(\n",
    "        times=(0.0, 20.0),\n",
    "        compartments=compartments,\n",
    "        infectious_compartments=[\"infectious\"],\n",
    "        timestep=0.1,\n",
    "    )\n",
    "    # Set a default initial population in early_latent\n",
    "    model.set_initial_population({\"early_latent\": 1.0})\n",
    "\n",
    "    # Add transition flows\n",
    "    latency_flows = [\n",
    "        (\"stabilisation\", Parameter(\"stabilisation\"), \"early_latent\", \"late_latent\"),\n",
    "        (\"early_activation\", Parameter(\"early_activation\"), \"early_latent\", \"infectious\"),\n",
    "        (\"late_activation\", Parameter(\"late_activation\"), \"late_latent\", \"infectious\"),\n",
    "    ]\n",
    "    for latency_flow in latency_flows:\n",
    "        model.add_transition_flow(*latency_flow)\n",
    "\n",
    "    # Apply the age stratification with the given start_group\n",
    "    model.stratify_with(get_age_strat(fixed_params, start_group))\n",
    "    model.run()\n",
    "    return model.get_outputs_df()\n",
    "\n",
    "# --- Loop over each start_group, run the model, build a combined results DataFrame ---\n",
    "all_results = []\n",
    "for start_group in age_strata:\n",
    "    # Run model\n",
    "    res = run_model_for_start_group(start_group)\n",
    "\n",
    "    # Extract the column matching \"infectiousXage_{start_group}\" plus index``\n",
    "    col_name = f\"infectiousXage_{start_group}\"\n",
    "\n",
    "    # Make a DataFrame with [time, infectious] and add metadata about the start age\n",
    "    subset = pd.DataFrame({\n",
    "        \"time\": res.index,\n",
    "        \"infectious\": res[col_name],\n",
    "        \"start_age\": start_group\n",
    "    })\n",
    "    all_results.append(subset)\n",
    "\n",
    "# Concatenate results from all runs\n",
    "final_df = pd.concat(all_results, ignore_index=True)"
   ]
  },
  {
   "cell_type": "code",
   "execution_count": null,
   "id": "350a7e19",
   "metadata": {},
   "outputs": [],
   "source": [
    "fig = go.Figure()\n",
    "for start_group in age_strata:\n",
    "    subset = final_df[final_df[\"start_age\"] == start_group]\n",
    "    fig.add_trace(\n",
    "        go.Scatter(\n",
    "            x=subset[\"time\"],\n",
    "            y=subset[\"infectious\"],\n",
    "            mode=\"lines\",\n",
    "            name=f\"Start age: {start_group}\",\n",
    "        )\n",
    "    )\n",
    "\n",
    "fig.update_layout(\n",
    "    title=\"\",  # Add or remove a title as desired\n",
    "    xaxis_title=\"Time from infectious\",\n",
    "    yaxis_title=\"Number infectious\"\n",
    ")\n",
    "fig.show()"
   ]
  },
  {
   "cell_type": "code",
   "execution_count": null,
   "id": "3472a09f",
   "metadata": {},
   "outputs": [],
   "source": [
    "final_df"
   ]
  }
 ],
 "metadata": {
  "kernelspec": {
   "display_name": "tbdyn",
   "language": "python",
   "name": "python3"
  },
  "language_info": {
   "codemirror_mode": {
    "name": "ipython",
    "version": 3
   },
   "file_extension": ".py",
   "mimetype": "text/x-python",
   "name": "python",
   "nbconvert_exporter": "python",
   "pygments_lexer": "ipython3",
   "version": "3.10.13"
  }
 },
 "nbformat": 4,
 "nbformat_minor": 5
}
