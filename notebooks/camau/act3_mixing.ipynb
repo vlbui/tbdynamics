{
 "cells": [
  {
   "cell_type": "code",
   "execution_count": null,
   "metadata": {},
   "outputs": [],
   "source": [
    "import numpy as np\n",
    "import seaborn as sns\n",
    "import matplotlib.pyplot as plt"
   ]
  },
  {
   "cell_type": "code",
   "execution_count": null,
   "metadata": {},
   "outputs": [],
   "source": [
    "def create_mixing_matrix(n_strata, prop_mixing_same_stratum, proportions):\n",
    "    \"\"\"\n",
    "    Creates a mixing matrix based on the number of strata, the within-stratum mixing proportion,\n",
    "    and the population proportions for each stratum.\n",
    "    \n",
    "    Parameters:\n",
    "    - n_strata (int): The number of strata.\n",
    "    - prop_mixing_same_stratum (float): The within-stratum mixing proportion (0 to 1).\n",
    "    - proportions (list): List of population proportions for each stratum. Should sum to 1.\n",
    "\n",
    "    Returns:\n",
    "    - mixing_matrix (np.array): Generated mixing matrix.\n",
    "    \"\"\"\n",
    "    # Initialize an n_strata x n_strata zero matrix\n",
    "    mixing_matrix = np.zeros((n_strata, n_strata))\n",
    "\n",
    "    # Populate the mixing matrix based on within- and between-strata mixing\n",
    "    for i in range(n_strata):\n",
    "        for j in range(n_strata):\n",
    "            if i == j:\n",
    "                # Apply within-stratum mixing proportion\n",
    "                mixing_matrix[i, j] = prop_mixing_same_stratum\n",
    "            else:\n",
    "                # Between-strata mixing\n",
    "                prop_pop_j = proportions[j]\n",
    "                prop_pop_non_i = sum(proportions[k] for k in range(n_strata) if k != i)\n",
    "                \n",
    "                # Ensure non-zero sum of proportions for non-i strata\n",
    "                assert prop_pop_non_i > 0, \"Population proportions for non-i strata must be positive.\"\n",
    "                \n",
    "                # Calculate the between-strata mixing proportion\n",
    "                mixing_matrix[i, j] = (1 - prop_mixing_same_stratum) * prop_pop_j / prop_pop_non_i\n",
    "\n",
    "    return mixing_matrix"
   ]
  },
  {
   "cell_type": "code",
   "execution_count": null,
   "metadata": {},
   "outputs": [],
   "source": [
    "n_strata = 3  # Define the number of strata\n",
    "prop_mixing_same_stratum = 0.9  # Define within-stratum mixing proportion\n",
    "\n",
    "# Example proportions (should sum to 1)\n",
    "proportions = [0.06, 0.06, 0.88]\n",
    "\n",
    "# Generate the mixing matrix\n",
    "mixing_matrix = create_mixing_matrix(n_strata, prop_mixing_same_stratum, proportions)\n",
    "\n",
    "# Display the mixing matrix\n",
    "print(\"Generated Mixing Matrix:\")\n",
    "print(mixing_matrix)"
   ]
  },
  {
   "cell_type": "code",
   "execution_count": null,
   "metadata": {},
   "outputs": [],
   "source": [
    "stratum_names = ['Trial', 'Control', 'Other']\n",
    "\n",
    "# Plot the mixing matrix using a heatmap\n",
    "plt.figure(figsize=(8, 6))\n",
    "sns.heatmap(mixing_matrix, annot=True, fmt=\".6f\", cmap=\"YlGnBu\", xticklabels=stratum_names, yticklabels=stratum_names)\n",
    "plt.title(\"\")\n",
    "plt.xlabel(\"Stratum\")\n",
    "plt.ylabel(\"Stratum\")\n",
    "plt.show()"
   ]
  }
 ],
 "metadata": {
  "kernelspec": {
   "display_name": "tbdyn",
   "language": "python",
   "name": "python3"
  },
  "language_info": {
   "codemirror_mode": {
    "name": "ipython",
    "version": 3
   },
   "file_extension": ".py",
   "mimetype": "text/x-python",
   "name": "python",
   "nbconvert_exporter": "python",
   "pygments_lexer": "ipython3",
   "version": "3.10.13"
  }
 },
 "nbformat": 4,
 "nbformat_minor": 2
}
