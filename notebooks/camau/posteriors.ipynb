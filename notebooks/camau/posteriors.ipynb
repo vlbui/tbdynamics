{
 "cells": [
  {
   "cell_type": "code",
   "execution_count": null,
   "metadata": {
    "metadata": {}
   },
   "outputs": [],
   "source": [
    "import warnings\n",
    "\n",
    "warnings.filterwarnings(\"ignore\")\n",
    "from pathlib import Path\n",
    "import numpy as np\n",
    "import arviz as az\n",
    "from tbdynamics.calibration.az_aux import (\n",
    "    tabulate_calib_results,\n",
    "    plot_post_prior_comparison,\n",
    "    plot_trace,\n",
    ")\n",
    "from tbdynamics.camau.calibration.utils import get_bcm\n",
    "from tbdynamics.camau.constants import params_name\n",
    "from tbdynamics.calibration.az_aux import (\n",
    "    process_idata_for_derived_metrics,\n",
    "    process_priors_for_derived_metrics,\n",
    "    plot_derived_comparison,\n",
    ")\n",
    "from tbdynamics.tools.inputs import get_death_rate, process_universal_death_rate"
   ]
  },
  {
   "cell_type": "code",
   "execution_count": null,
   "metadata": {},
   "outputs": [],
   "source": [
    "RUN_PATH = Path.cwd().parent.parent / 'data/outputs/camau/'\n",
    "idata = az.from_netcdf(RUN_PATH / 'r2008/calib_full_out.nc')\n",
    "# idata = idata.sel(draw=np.s_[80000:])\n",
    "burnt_idata = idata.sel(draw=np.s_[100000:])"
   ]
  },
  {
   "cell_type": "code",
   "execution_count": null,
   "metadata": {},
   "outputs": [],
   "source": [
    "idata"
   ]
  },
  {
   "cell_type": "code",
   "execution_count": null,
   "metadata": {},
   "outputs": [],
   "source": [
    "burnt_idata"
   ]
  },
  {
   "cell_type": "code",
   "execution_count": null,
   "metadata": {},
   "outputs": [],
   "source": [
    "params = {\n",
    "    \"start_population_size\": 30000.0,\n",
    "    \"seed_time\": 1805.0,\n",
    "    \"seed_num\": 1.0,\n",
    "    \"seed_duration\": 1.0,\n",
    "    # \"contact_rate\": 0.02,\n",
    "    # \"rr_infection_latent\": 0.1890473700762809,\n",
    "    # \"rr_infection_recovered\": 0.17781844797545143,\n",
    "    # \"smear_positive_death_rate\": 0.3655528915762244,\n",
    "    # \"smear_negative_death_rate\": 0.027358324164819155,\n",
    "    # \"smear_positive_self_recovery\": 0.18600338108638945,\n",
    "    # \"smear_negative_self_recovery\": 0.11333894801537307,\n",
    "    \"screening_scaleup_shape\": 0.3,\n",
    "    \"screening_inflection_time\": 1993,\n",
    "    # \"time_to_screening_end_asymp\": 2.1163556520843936,\n",
    "    # \"acf_sensitivity\": 0.90,\n",
    "    # \"prop_mixing_same_stratum\": 0.6920672992582717,\n",
    "    # \"early_prop_adjuster\": -0.017924441638418186,\n",
    "    # \"late_reactivation_adjuster\": 1.1083422207175728,\n",
    "    # \"detection_reduction\": 0.30,\n",
    "    # \"total_population_dispersion\": 3644.236227852164,\n",
    "    # \"notif_dispersion\": 88.37092488550051,\n",
    "    # \"latent_dispersion\": 7.470896188551709,\n",
    "}\n",
    "covid_effects = {\"detection_reduction\": True, \"contact_reduction\": False}\n",
    "bcm = get_bcm(params, covid_effects)"
   ]
  },
  {
   "cell_type": "code",
   "execution_count": null,
   "metadata": {},
   "outputs": [],
   "source": [
    "bcm.priors"
   ]
  },
  {
   "cell_type": "code",
   "execution_count": null,
   "metadata": {},
   "outputs": [],
   "source": [
    "fig = plot_post_prior_comparison(burnt_idata, bcm.priors, params_name)"
   ]
  },
  {
   "cell_type": "code",
   "execution_count": null,
   "metadata": {},
   "outputs": [],
   "source": [
    "# universal_death = process_universal_death_rate(get_death_rate())"
   ]
  },
  {
   "cell_type": "code",
   "execution_count": null,
   "metadata": {},
   "outputs": [],
   "source": [
    "# priors = {\n",
    "#     'smear_positive_death_rate': bcm.priors['smear_positive_death_rate'],\n",
    "#     'smear_positive_self_recovery': bcm.priors['smear_positive_self_recovery'],\n",
    "#     'smear_negative_death_rate': bcm.priors['smear_negative_death_rate'],\n",
    "#     'smear_negative_self_recovery': bcm.priors['smear_negative_self_recovery'],\n",
    "# }"
   ]
  },
  {
   "cell_type": "code",
   "execution_count": null,
   "metadata": {},
   "outputs": [],
   "source": [
    "tabulate_calib_results(burnt_idata, params_name)"
   ]
  },
  {
   "cell_type": "code",
   "execution_count": null,
   "metadata": {},
   "outputs": [],
   "source": [
    "tracing = plot_trace(burnt_idata, params_name)"
   ]
  },
  {
   "cell_type": "code",
   "execution_count": null,
   "metadata": {},
   "outputs": [],
   "source": [
    "tracing"
   ]
  },
  {
   "cell_type": "code",
   "execution_count": null,
   "metadata": {},
   "outputs": [],
   "source": [
    "# tracing.savefig('../docs/param_traces.png', dpi=300, bbox_inches='tight', format='png', pad_inches=0)"
   ]
  },
  {
   "cell_type": "code",
   "execution_count": null,
   "metadata": {},
   "outputs": [],
   "source": [
    "# posterior_metrics = process_idata_for_derived_metrics(burnt_idata, universal_death[2023])"
   ]
  },
  {
   "cell_type": "code",
   "execution_count": null,
   "metadata": {},
   "outputs": [],
   "source": [
    "# prior_metrics = process_priors_for_derived_metrics(priors, universal_death[2023])"
   ]
  },
  {
   "cell_type": "code",
   "execution_count": null,
   "metadata": {},
   "outputs": [],
   "source": [
    "# plot_derived_comparison(prior_metrics,posterior_metrics);"
   ]
  },
  {
   "cell_type": "code",
   "execution_count": null,
   "metadata": {},
   "outputs": [],
   "source": [
    "import arviz as az\n",
    "import matplotlib.pyplot as plt\n",
    "\n",
    "def plot_trace(idata, params_name: dict):\n",
    "    \"\"\"\n",
    "    Plot trace plots for the InferenceData object, excluding parameters containing '_dispersion'.\n",
    "    Adds descriptive titles from `params_name`.\n",
    "\n",
    "    Args:\n",
    "        idata: InferenceData object from ArviZ containing calibration outputs.\n",
    "        params_name: Dictionary mapping parameter names to descriptive titles.\n",
    "\n",
    "    Returns:\n",
    "        A Matplotlib figure object containing the trace plots.\n",
    "    \"\"\"\n",
    "    # Filter posterior\n",
    "    filtered_posterior = idata.posterior.drop_vars(\n",
    "        [\n",
    "            var\n",
    "            for var in idata.posterior.data_vars\n",
    "            if \"_dispersion\" in var \n",
    "        ]\n",
    "    )\n",
    "\n",
    "    # --- Reset draw index to 1..N but KEEP chain coords ---\n",
    "    n_draws = filtered_posterior.sizes[\"draw\"]\n",
    "    new_draw_idx = range(50000, n_draws + 50000)\n",
    "    filtered_posterior = filtered_posterior.assign_coords(draw=new_draw_idx)\n",
    "\n",
    "    # Wrap back into InferenceData to keep correct structure\n",
    "    new_idata = az.InferenceData(posterior=filtered_posterior)\n",
    "\n",
    "    # Plot\n",
    "    trace_fig = az.plot_trace(\n",
    "        new_idata, figsize=(28, 3.2 * len(filtered_posterior.data_vars))\n",
    "    )\n",
    "\n",
    "    # Titles and formatting\n",
    "    var_names = list(filtered_posterior.data_vars.keys())\n",
    "    for i, var_name in enumerate(var_names):\n",
    "        for ax in trace_fig[i]:\n",
    "            title = params_name.get(var_name, var_name)\n",
    "            ax.set_title(title, fontsize=28, loc=\"center\")\n",
    "            ax.tick_params(axis=\"both\", labelsize=30, length=18)\n",
    "\n",
    "    plt.tight_layout()\n",
    "    fig = plt.gcf()\n",
    "    plt.close(fig)\n",
    "    return fig\n"
   ]
  },
  {
   "cell_type": "code",
   "execution_count": null,
   "metadata": {},
   "outputs": [],
   "source": [
    "plot_trace(\n",
    "    burnt_idata, params_name  # your original InferenceData (with chain/draw)\n",
    ")"
   ]
  }
 ],
 "metadata": {
  "kernelspec": {
   "display_name": "tbdyn",
   "language": "python",
   "name": "python3"
  },
  "language_info": {
   "codemirror_mode": {
    "name": "ipython",
    "version": 3
   },
   "file_extension": ".py",
   "mimetype": "text/x-python",
   "name": "python",
   "nbconvert_exporter": "python",
   "pygments_lexer": "ipython3",
   "version": "3.10.16"
  }
 },
 "nbformat": 4,
 "nbformat_minor": 2
}
