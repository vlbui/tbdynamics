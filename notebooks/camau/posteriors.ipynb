{
 "cells": [
  {
   "cell_type": "code",
   "execution_count": null,
   "metadata": {
    "metadata": {}
   },
   "outputs": [],
   "source": [
    "import warnings\n",
    "\n",
    "warnings.filterwarnings(\"ignore\")\n",
    "from pathlib import Path\n",
    "import numpy as np\n",
    "import arviz as az\n",
    "from tbdynamics.calibration.az_aux import (\n",
    "    tabulate_calib_results,\n",
    "    plot_post_prior_comparison,\n",
    "    plot_trace,\n",
    ")\n",
    "from tbdynamics.camau.calibration.utils import get_bcm\n",
    "from tbdynamics.camau.constants import params_name\n",
    "from tbdynamics.calibration.az_aux import (\n",
    "    process_idata_for_derived_metrics,\n",
    "    process_priors_for_derived_metrics,\n",
    "    plot_derived_comparison,\n",
    ")\n",
    "from tbdynamics.tools.inputs import get_death_rate, process_universal_death_rate"
   ]
  },
  {
   "cell_type": "code",
   "execution_count": null,
   "metadata": {},
   "outputs": [],
   "source": [
    "RUN_PATH = Path.cwd().parent.parent / 'data/outputs/camau/'\n",
    "idata = az.from_netcdf(RUN_PATH / 'r0303/calib_full_out.nc')\n",
    "burnt_idata = idata.sel(draw=np.s_[2500:])"
   ]
  },
  {
   "cell_type": "code",
   "execution_count": null,
   "metadata": {},
   "outputs": [],
   "source": [
    "params = {\n",
    "    \"start_population_size\": 30000.0,\n",
    "    \"seed_time\": 1805.0,\n",
    "    \"seed_num\": 1.0,\n",
    "    \"seed_duration\": 1.0,\n",
    "}\n",
    "covid_effects = {\"detection_reduction\": True, \"contact_reduction\": False}\n",
    "bcm = get_bcm(params, covid_effects, homo_mixing=False)"
   ]
  },
  {
   "cell_type": "code",
   "execution_count": null,
   "metadata": {},
   "outputs": [],
   "source": [
    "bcm.priors"
   ]
  },
  {
   "cell_type": "code",
   "execution_count": null,
   "metadata": {},
   "outputs": [],
   "source": [
    "fig = plot_post_prior_comparison(burnt_idata, bcm.priors, params_name)"
   ]
  },
  {
   "cell_type": "code",
   "execution_count": null,
   "metadata": {},
   "outputs": [],
   "source": [
    "universal_death = process_universal_death_rate(get_death_rate())"
   ]
  },
  {
   "cell_type": "code",
   "execution_count": null,
   "metadata": {},
   "outputs": [],
   "source": [
    "priors = {\n",
    "    'smear_positive_death_rate': bcm.priors['smear_positive_death_rate'],\n",
    "    'smear_positive_self_recovery': bcm.priors['smear_positive_self_recovery'],\n",
    "    'smear_negative_death_rate': bcm.priors['smear_negative_death_rate'],\n",
    "    'smear_negative_self_recovery': bcm.priors['smear_negative_self_recovery'],\n",
    "}"
   ]
  },
  {
   "cell_type": "code",
   "execution_count": null,
   "metadata": {},
   "outputs": [],
   "source": [
    "tabulate_calib_results(burnt_idata, params_name)"
   ]
  },
  {
   "cell_type": "code",
   "execution_count": null,
   "metadata": {},
   "outputs": [],
   "source": [
    "tracing = plot_trace(idata, params_name)"
   ]
  },
  {
   "cell_type": "code",
   "execution_count": null,
   "metadata": {},
   "outputs": [],
   "source": [
    "tracing"
   ]
  },
  {
   "cell_type": "code",
   "execution_count": null,
   "metadata": {},
   "outputs": [],
   "source": [
    "# tracing.savefig('../docs/param_traces.png', dpi=300, bbox_inches='tight', format='png', pad_inches=0)"
   ]
  },
  {
   "cell_type": "code",
   "execution_count": null,
   "metadata": {},
   "outputs": [],
   "source": [
    "posterior_metrics = process_idata_for_derived_metrics(burnt_idata, universal_death[2023])"
   ]
  },
  {
   "cell_type": "code",
   "execution_count": null,
   "metadata": {},
   "outputs": [],
   "source": [
    "prior_metrics = process_priors_for_derived_metrics(priors, universal_death[2023])"
   ]
  },
  {
   "cell_type": "code",
   "execution_count": null,
   "metadata": {},
   "outputs": [],
   "source": [
    "plot_derived_comparison(prior_metrics,posterior_metrics);"
   ]
  }
 ],
 "metadata": {
  "kernelspec": {
   "display_name": "tb",
   "language": "python",
   "name": "python3"
  },
  "language_info": {
   "codemirror_mode": {
    "name": "ipython",
    "version": 3
   },
   "file_extension": ".py",
   "mimetype": "text/x-python",
   "name": "python",
   "nbconvert_exporter": "python",
   "pygments_lexer": "ipython3",
   "version": "3.10.15"
  }
 },
 "nbformat": 4,
 "nbformat_minor": 2
}
