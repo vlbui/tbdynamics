{
 "cells": [
  {
   "cell_type": "code",
   "execution_count": 1,
   "metadata": {},
   "outputs": [
    {
     "name": "stderr",
     "output_type": "stream",
     "text": [
      "WARNING (pytensor.tensor.blas): Using NumPy C-API based implementation for BLAS functions.\n"
     ]
    }
   ],
   "source": [
    "from typing import Dict, Any\n",
    "import numpy as np\n",
    "import arviz as az\n",
    "from summer2 import CompartmentalModel\n",
    "from estival.model import BayesianCompartmentalModel\n",
    "from summer2.functions.time import get_sigmoidal_interpolation_function\n",
    "from summer2.parameters import Parameter\n",
    "\n",
    "from tbdynamics.tools.inputs import get_birth_rate, get_death_rate, process_death_rate\n",
    "from tbdynamics.constants import COMPARTMENTS, INFECTIOUS_COMPARTMENTS, AGE_STRATA, QUANTILES\n",
    "from tbdynamics.camau.outputs import request_model_outputs\n",
    "from tbdynamics.camau.strats import get_organ_strat, get_act3_strat, get_age_strat\n",
    "from tbdynamics.tools.detect import get_detection_func\n",
    "from tbdynamics.camau.model import (\n",
    "    seed_infectious,\n",
    "    add_latency_flows,\n",
    "    add_infection_flows,\n",
    "    add_treatment_related_outcomes,\n",
    ")\n",
    "from tbdynamics.camau.constants import ACT3_STRATA\n",
    "from tbdynamics.tools.inputs import get_mix_from_strat_props, load_params, matrix\n",
    "from tbdynamics.settings import CM_PATH, OUT_PATH, DOCS_PATH\n",
    "from tbdynamics.camau.calibration.utils import get_all_priors, get_targets\n",
    "import estival.sampling.tools as esamp\n",
    "import pandas as pd\n",
    "\n",
    "pd.options.plotting.backend = \"plotly\"\n",
    "import plotly.graph_objects as go\n",
    "\n"
   ]
  },
  {
   "cell_type": "code",
   "execution_count": 2,
   "metadata": {},
   "outputs": [],
   "source": [
    "PLACEHOLDER_PARAM = 1.0"
   ]
  },
  {
   "cell_type": "code",
   "execution_count": 8,
   "metadata": {},
   "outputs": [],
   "source": [
    "def build_model(\n",
    "    fixed_params: Dict[str, Any],\n",
    "    matrix: np.ndarray,\n",
    "    covid_effects: Dict[str, bool],\n",
    "    implement_act3: bool = True\n",
    ") -> CompartmentalModel:\n",
    "    \"\"\"\n",
    "    Builds a compartmental model for TB transmission, incorporating infection dynamics,\n",
    "    treatment, and stratifications for age, organ status, and ACT3 trial arms.\n",
    "\n",
    "    Args:\n",
    "        fixed_params: Fixed parameter dictionary (e.g., time range, population size).\n",
    "        matrix: Age-mixing matrix for contact patterns.\n",
    "        covid_effects: Effects of COVID-19 on TB detection and transmission.\n",
    "        improved_detection_multiplier: Multiplier for improved case detection.\n",
    "\n",
    "    Returns:\n",
    "        A configured CompartmentalModel instance.\n",
    "    \"\"\"\n",
    "    model = CompartmentalModel(\n",
    "        times=(fixed_params[\"time_start\"], fixed_params[\"time_end\"]),\n",
    "        compartments=COMPARTMENTS,\n",
    "        infectious_compartments=INFECTIOUS_COMPARTMENTS,\n",
    "        timestep=fixed_params[\"time_step\"],\n",
    "    )\n",
    "\n",
    "    birth_rates = get_birth_rate()\n",
    "    death_rates = get_death_rate()\n",
    "    death_df = process_death_rate(death_rates, AGE_STRATA, birth_rates.index)\n",
    "    model.set_initial_population({\"susceptible\": Parameter(\"start_population_size\")})\n",
    "    seed_infectious(model,\"early_latent\")\n",
    "    # crude_birth_rate = get_sigmoidal_interpolation_function(\n",
    "    #     birth_rates.index, birth_rates.values\n",
    "    # )\n",
    "    # model.add_crude_birth_flow(\"birth\", crude_birth_rate, \"susceptible\")\n",
    "\n",
    "    model.add_universal_death_flows(\n",
    "        \"universal_death\", PLACEHOLDER_PARAM\n",
    "    )  # Adjust later in age strat\n",
    "    add_infection_flows(model, covid_effects[\"contact_reduction\"])\n",
    "    add_latency_flows(model)\n",
    "    model.add_transition_flow(\n",
    "        \"self_recovery\", PLACEHOLDER_PARAM, \"infectious\", \"recovered\"\n",
    "    )  # Adjust later in organ strat\n",
    "    model.add_transition_flow(\n",
    "        \"detection\", PLACEHOLDER_PARAM, \"infectious\", \"on_treatment\"\n",
    "    ) # adjust later in organ strat\n",
    "    add_treatment_related_outcomes(model)\n",
    "    model.add_death_flow(\n",
    "        \"infect_death\", PLACEHOLDER_PARAM, \"infectious\"\n",
    "    )  # Adjust later organ strat\n",
    "\n",
    "    age_strat = get_age_strat(death_df, fixed_params, matrix)\n",
    "    model.stratify_with(age_strat)\n",
    "\n",
    "    detection_func = get_detection_func(covid_effects[\"detection_reduction\"])\n",
    "\n",
    "    organ_strat = get_organ_strat(fixed_params, detection_func)\n",
    "    model.stratify_with(organ_strat)\n",
    "    if implement_act3:\n",
    "        act3_strat = get_act3_strat(COMPARTMENTS, fixed_params)\n",
    "        model.stratify_with(act3_strat)\n",
    "\n",
    "    request_model_outputs(model, covid_effects[\"detection_reduction\"],implement_act3)\n",
    "\n",
    "    return model\n"
   ]
  },
  {
   "cell_type": "code",
   "execution_count": 9,
   "metadata": {},
   "outputs": [],
   "source": [
    "fixed_params = load_params(CM_PATH / \"params.yml\")\n",
    "covid_effects = {\n",
    "    'detection_reduction':True,\n",
    "    'contact_reduction':False\n",
    "}"
   ]
  },
  {
   "cell_type": "code",
   "execution_count": null,
   "metadata": {},
   "outputs": [],
   "source": [
    "idata_raw = az.from_netcdf(OUT_PATH / 'camau/r2008/calib_full_out.nc')\n",
    "burnt_idata = idata_raw.sel(draw=np.s_[100000:])\n",
    "idata_extract = az.extract(burnt_idata, num_samples=500)\n",
    "params = {\n",
    "    \"start_population_size\": 30000.0,\n",
    "    \"seed_time\": 2000.0,\n",
    "    \"seed_num\": 1.0,\n",
    "    \"seed_duration\": 1.0,\n",
    "    # \"contact_rate\": 0.02,\n",
    "    # \"rr_infection_latent\": 0.1890473700762809,\n",
    "    # \"rr_infection_recovered\": 0.17781844797545143,\n",
    "    # \"smear_positive_death_rate\": 0.3655528915762244,\n",
    "    # \"smear_negative_death_rate\": 0.027358324164819155,\n",
    "    # \"smear_positive_self_recovery\": 0.18600338108638945,\n",
    "    # \"smear_negative_self_recovery\": 0.11333894801537307,\n",
    "    # \"screening_scaleup_shape\": 0.3,\n",
    "    # \"screening_inflection_time\": 1993,\n",
    "    # \"time_to_screening_end_asymp\": 2.1163556520843936,\n",
    "    # \"acf_sensitivity\": 0.90,\n",
    "    # \"prop_mixing_same_stratum\": 0.6920672992582717,\n",
    "    # \"early_prop_adjuster\": -0.017924441638418186,\n",
    "    # \"late_reactivation_adjuster\": 1.1083422207175728,\n",
    "    # \"detection_reduction\": 0.30,\n",
    "    # \"total_population_dispersion\": 3644.236227852164,\n",
    "    # \"notif_dispersion\": 88.37092488550051,\n",
    "    # \"latent_dispersion\": 7.470896188551709,\n",
    "}"
   ]
  },
  {
   "cell_type": "code",
   "execution_count": 6,
   "metadata": {},
   "outputs": [],
   "source": [
    "def get_bcm(\n",
    "    params,\n",
    "    covid_effects,\n",
    "):\n",
    "    \"\"\"\n",
    "    Constructs and returns a Bayesian Compartmental Model (BCM) for tuberculosis (TB) transmission.\n",
    "\n",
    "    This function:\n",
    "    - Loads model parameters.\n",
    "    - Defines mixing matrices based on homogeneous or heterogeneous mixing assumptions.\n",
    "    - Specifies Bayesian priors for inference.\n",
    "    - Retrieves calibration targets.\n",
    "    - Builds the compartmental model and wraps it within a Bayesian framework.\n",
    "\n",
    "    Args:\n",
    "        params (Dict[str, float]): Fixed parameters for the model.\n",
    "        covid_effects (Optional[Dict[str, bool]]): A dictionary specifying COVID-19 effects on TB transmission.\n",
    "        improved_detection_multiplier (Optional[float]): Multiplier for improved case detection, if applicable.\n",
    "        homo_mixing (bool): If True, uses a homogeneous mixing matrix; otherwise, uses an age-structured matrix.\n",
    "\n",
    "    Returns:\n",
    "        BayesianCompartmentalModel: A Bayesian model object for inference and analysis.\n",
    "    \"\"\"\n",
    "    params = params or {}\n",
    "    fixed_params = load_params(CM_PATH / \"params.yml\")\n",
    "\n",
    "\n",
    "    priors = get_all_priors(covid_effects)\n",
    "\n",
    "\n",
    "    targets = get_targets()\n",
    "    tb_model = build_model(\n",
    "        fixed_params, matrix, covid_effects, False\n",
    "    )\n",
    "\n",
    "    return BayesianCompartmentalModel(tb_model, params, priors, targets)"
   ]
  },
  {
   "cell_type": "code",
   "execution_count": 7,
   "metadata": {},
   "outputs": [
    {
     "ename": "NameError",
     "evalue": "name 'add_latency_flow' is not defined",
     "output_type": "error",
     "traceback": [
      "\u001b[1;31m---------------------------------------------------------------------------\u001b[0m",
      "\u001b[1;31mNameError\u001b[0m                                 Traceback (most recent call last)",
      "Cell \u001b[1;32mIn[7], line 1\u001b[0m\n\u001b[1;32m----> 1\u001b[0m bcm \u001b[38;5;241m=\u001b[39m \u001b[43mget_bcm\u001b[49m\u001b[43m(\u001b[49m\u001b[43mparams\u001b[49m\u001b[43m,\u001b[49m\u001b[43m \u001b[49m\u001b[43mcovid_effects\u001b[49m\u001b[43m)\u001b[49m\n",
      "Cell \u001b[1;32mIn[6], line 32\u001b[0m, in \u001b[0;36mget_bcm\u001b[1;34m(params, covid_effects)\u001b[0m\n\u001b[0;32m     28\u001b[0m priors \u001b[38;5;241m=\u001b[39m get_all_priors(covid_effects)\n\u001b[0;32m     31\u001b[0m targets \u001b[38;5;241m=\u001b[39m get_targets()\n\u001b[1;32m---> 32\u001b[0m tb_model \u001b[38;5;241m=\u001b[39m \u001b[43mbuild_model\u001b[49m\u001b[43m(\u001b[49m\n\u001b[0;32m     33\u001b[0m \u001b[43m    \u001b[49m\u001b[43mfixed_params\u001b[49m\u001b[43m,\u001b[49m\u001b[43m \u001b[49m\u001b[43mmatrix\u001b[49m\u001b[43m,\u001b[49m\u001b[43m \u001b[49m\u001b[43mcovid_effects\u001b[49m\u001b[43m,\u001b[49m\u001b[43m \u001b[49m\u001b[38;5;28;43;01mFalse\u001b[39;49;00m\n\u001b[0;32m     34\u001b[0m \u001b[43m\u001b[49m\u001b[43m)\u001b[49m\n\u001b[0;32m     36\u001b[0m \u001b[38;5;28;01mreturn\u001b[39;00m BayesianCompartmentalModel(tb_model, params, priors, targets)\n",
      "Cell \u001b[1;32mIn[3], line 41\u001b[0m, in \u001b[0;36mbuild_model\u001b[1;34m(fixed_params, matrix, covid_effects, implement_act3)\u001b[0m\n\u001b[0;32m     37\u001b[0m model\u001b[38;5;241m.\u001b[39madd_universal_death_flows(\n\u001b[0;32m     38\u001b[0m     \u001b[38;5;124m\"\u001b[39m\u001b[38;5;124muniversal_death\u001b[39m\u001b[38;5;124m\"\u001b[39m, PLACEHOLDER_PARAM\n\u001b[0;32m     39\u001b[0m )  \u001b[38;5;66;03m# Adjust later in age strat\u001b[39;00m\n\u001b[0;32m     40\u001b[0m add_infection_flows(model, covid_effects[\u001b[38;5;124m\"\u001b[39m\u001b[38;5;124mcontact_reduction\u001b[39m\u001b[38;5;124m\"\u001b[39m])\n\u001b[1;32m---> 41\u001b[0m \u001b[43madd_latency_flow\u001b[49m(model)\n\u001b[0;32m     42\u001b[0m model\u001b[38;5;241m.\u001b[39madd_transition_flow(\n\u001b[0;32m     43\u001b[0m     \u001b[38;5;124m\"\u001b[39m\u001b[38;5;124mself_recovery\u001b[39m\u001b[38;5;124m\"\u001b[39m, PLACEHOLDER_PARAM, \u001b[38;5;124m\"\u001b[39m\u001b[38;5;124minfectious\u001b[39m\u001b[38;5;124m\"\u001b[39m, \u001b[38;5;124m\"\u001b[39m\u001b[38;5;124mrecovered\u001b[39m\u001b[38;5;124m\"\u001b[39m\n\u001b[0;32m     44\u001b[0m )  \u001b[38;5;66;03m# Adjust later in organ strat\u001b[39;00m\n\u001b[0;32m     45\u001b[0m model\u001b[38;5;241m.\u001b[39madd_transition_flow(\n\u001b[0;32m     46\u001b[0m     \u001b[38;5;124m\"\u001b[39m\u001b[38;5;124mdetection\u001b[39m\u001b[38;5;124m\"\u001b[39m, PLACEHOLDER_PARAM, \u001b[38;5;124m\"\u001b[39m\u001b[38;5;124minfectious\u001b[39m\u001b[38;5;124m\"\u001b[39m, \u001b[38;5;124m\"\u001b[39m\u001b[38;5;124mon_treatment\u001b[39m\u001b[38;5;124m\"\u001b[39m\n\u001b[0;32m     47\u001b[0m ) \u001b[38;5;66;03m# adjust later in organ strat\u001b[39;00m\n",
      "\u001b[1;31mNameError\u001b[0m: name 'add_latency_flow' is not defined"
     ]
    }
   ],
   "source": [
    "bcm = get_bcm(params, covid_effects)"
   ]
  },
  {
   "cell_type": "code",
   "execution_count": null,
   "metadata": {},
   "outputs": [],
   "source": [
    "bcm.priors"
   ]
  },
  {
   "cell_type": "code",
   "execution_count": null,
   "metadata": {},
   "outputs": [],
   "source": [
    "base_results = esamp.model_results_for_samples(idata_extract, bcm).results"
   ]
  },
  {
   "cell_type": "code",
   "execution_count": null,
   "metadata": {},
   "outputs": [],
   "source": [
    "base_quantiles = esamp.quantiles_for_results(base_results, QUANTILES)"
   ]
  },
  {
   "cell_type": "code",
   "execution_count": null,
   "metadata": {},
   "outputs": [],
   "source": [
    "base_quantiles['early_latent_sizeXage_0'].plot()"
   ]
  },
  {
   "cell_type": "code",
   "execution_count": null,
   "metadata": {},
   "outputs": [],
   "source": [
    "fig = go.Figure()\n",
    "\n",
    "# Loop through all ages and add them to the same figure\n",
    "[\n",
    "    fig.add_trace(\n",
    "        go.Scatter(\n",
    "            x=base_quantiles[f\"early_latent_sizeXage_{age}\"].loc[2000:2005, 0.500].index,\n",
    "            y=base_quantiles[f\"early_latent_sizeXage_{age}\"].loc[2000:2005, 0.500].values,\n",
    "            mode='lines',\n",
    "            name=f'Age {age}'\n",
    "        )\n",
    "    )\n",
    "    for age in AGE_STRATA\n",
    "]\n",
    "\n",
    "fig.update_layout(\n",
    "    title=\"Early Latent by Age Group\",\n",
    "    xaxis_title=\"Time\",\n",
    "    yaxis_title=\"\",\n",
    "    legend_title=\"Age group\",\n",
    "    template=\"simple_white\",\n",
    "    width=800,\n",
    "    height=600,\n",
    ")\n",
    "\n",
    "fig.show()\n"
   ]
  },
  {
   "cell_type": "code",
   "execution_count": null,
   "metadata": {},
   "outputs": [],
   "source": [
    "fig = go.Figure()\n",
    "\n",
    "# Loop through all ages and add them to the same figure\n",
    "[\n",
    "    fig.add_trace(\n",
    "        go.Scatter(\n",
    "            x=base_quantiles[f\"late_latent_sizeXage_{age}\"].loc[2000:2005, 0.500].index,\n",
    "            y=base_quantiles[f\"late_latent_sizeXage_{age}\"].loc[2000:2005, 0.500].values,\n",
    "            mode='lines',\n",
    "            name=f'Age {age}'\n",
    "        )\n",
    "    )\n",
    "    for age in AGE_STRATA\n",
    "]\n",
    "\n",
    "fig.update_layout(\n",
    "    title=\"Late latent by Age Group\",\n",
    "    xaxis_title=\"Time\",\n",
    "    yaxis_title=\"\",\n",
    "    legend_title=\"Age group\",\n",
    "    template=\"simple_white\",\n",
    "    width=800,\n",
    "    height=600,\n",
    ")\n",
    "\n",
    "fig.show()\n"
   ]
  },
  {
   "cell_type": "code",
   "execution_count": null,
   "metadata": {},
   "outputs": [],
   "source": [
    "fig = go.Figure()\n",
    "\n",
    "# Loop through all ages and add them to the same figure\n",
    "[\n",
    "    fig.add_trace(\n",
    "        go.Scatter(\n",
    "            x=base_quantiles[f\"infectious_sizeXage_{age}\"].loc[2000:2005, 0.500].index,\n",
    "            y=base_quantiles[f\"infectious_sizeXage_{age}\"].loc[2000:2005, 0.500].values,\n",
    "            mode='lines',\n",
    "            name=f'Age {age}'\n",
    "        )\n",
    "    )\n",
    "    for age in AGE_STRATA\n",
    "]\n",
    "\n",
    "fig.update_layout(\n",
    "    title=\"infectious by Age Group\",\n",
    "    xaxis_title=\"Time\",\n",
    "    yaxis_title=\"\",\n",
    "    legend_title=\"Age group\",\n",
    "    template=\"simple_white\",\n",
    "    width=800,\n",
    "    height=600,\n",
    ")\n",
    "\n",
    "fig.show()\n"
   ]
  }
 ],
 "metadata": {
  "kernelspec": {
   "display_name": "tbdyn",
   "language": "python",
   "name": "python3"
  },
  "language_info": {
   "codemirror_mode": {
    "name": "ipython",
    "version": 3
   },
   "file_extension": ".py",
   "mimetype": "text/x-python",
   "name": "python",
   "nbconvert_exporter": "python",
   "pygments_lexer": "ipython3",
   "version": "3.10.16"
  }
 },
 "nbformat": 4,
 "nbformat_minor": 2
}
