{
 "cells": [
  {
   "cell_type": "code",
   "execution_count": null,
   "metadata": {},
   "outputs": [],
   "source": [
    "from typing import Dict, Any\n",
    "import numpy as np\n",
    "import arviz as az\n",
    "from summer2 import CompartmentalModel\n",
    "from summer2.functions.time import get_sigmoidal_interpolation_function\n",
    "from summer2.parameters import Parameter\n",
    "\n",
    "from tbdynamics.tools.inputs import get_birth_rate, get_death_rate, process_death_rate\n",
    "from tbdynamics.constants import COMPARTMENTS, INFECTIOUS_COMPARTMENTS, AGE_STRATA, QUANTILES\n",
    "from tbdynamics.camau.outputs import request_model_outputs\n",
    "from tbdynamics.camau.strats import get_organ_strat, get_act3_strat, get_age_strat\n",
    "from tbdynamics.tools.detect import get_detection_func\n",
    "from tbdynamics.camau.model import (\n",
    "    seed_infectious,\n",
    "    add_latency_flow,\n",
    "    add_infection_flow,\n",
    "    add_treatment_related_outcomes,\n",
    ")\n",
    "from tbdynamics.camau.constants import ACT3_STRATA\n",
    "from tbdynamics.tools.inputs import get_mix_from_strat_props, load_params, matrix\n",
    "from tbdynamics.settings import CM_PATH, OUT_PATH, DOCS_PATH\n",
    "from tbdynamics.camau.calibration.utils import get_bcm\n",
    "import estival.sampling.tools as esamp\n",
    "import pandas as pd\n",
    "\n",
    "pd.options.plotting.backend = \"plotly\"\n",
    "import plotly.graph_objects as go\n",
    "\n",
    "PLACEHOLDER_PARAM = 0.0"
   ]
  },
  {
   "cell_type": "code",
   "execution_count": null,
   "metadata": {},
   "outputs": [],
   "source": [
    "def build_model(\n",
    "    fixed_params: Dict[str, Any],\n",
    "    matrix: np.ndarray,\n",
    "    covid_effects: Dict[str, bool],\n",
    "    implement_act3: bool = True\n",
    ") -> CompartmentalModel:\n",
    "    \"\"\"\n",
    "    Builds a compartmental model for TB transmission, incorporating infection dynamics,\n",
    "    treatment, and stratifications for age, organ status, and ACT3 trial arms.\n",
    "\n",
    "    Args:\n",
    "        fixed_params: Fixed parameter dictionary (e.g., time range, population size).\n",
    "        matrix: Age-mixing matrix for contact patterns.\n",
    "        covid_effects: Effects of COVID-19 on TB detection and transmission.\n",
    "        improved_detection_multiplier: Multiplier for improved case detection.\n",
    "\n",
    "    Returns:\n",
    "        A configured CompartmentalModel instance.\n",
    "    \"\"\"\n",
    "    model = CompartmentalModel(\n",
    "        times=(fixed_params[\"time_start\"], fixed_params[\"time_end\"]),\n",
    "        compartments=COMPARTMENTS,\n",
    "        infectious_compartments=INFECTIOUS_COMPARTMENTS,\n",
    "        timestep=fixed_params[\"time_step\"],\n",
    "    )\n",
    "\n",
    "    birth_rates = get_birth_rate()\n",
    "    death_rates = get_death_rate()\n",
    "    death_df = process_death_rate(death_rates, AGE_STRATA, birth_rates.index)\n",
    "    model.set_initial_population({\"susceptible\": Parameter(\"start_population_size\")})\n",
    "    seed_infectious(model)\n",
    "    crude_birth_rate = get_sigmoidal_interpolation_function(\n",
    "        birth_rates.index, birth_rates.values\n",
    "    )\n",
    "    model.add_crude_birth_flow(\"birth\", crude_birth_rate, \"susceptible\")\n",
    "\n",
    "    # model.add_universal_death_flows(\n",
    "    #     \"universal_death\", PLACEHOLDER_PARAM\n",
    "    # )  # Adjust later in age strat\n",
    "    add_infection_flow(model, covid_effects[\"contact_reduction\"])\n",
    "    add_latency_flow(model)\n",
    "    model.add_transition_flow(\n",
    "        \"self_recovery\", PLACEHOLDER_PARAM, \"infectious\", \"recovered\"\n",
    "    )  # Adjust later in organ strat\n",
    "    model.add_transition_flow(\n",
    "        \"detection\", PLACEHOLDER_PARAM, \"infectious\", \"on_treatment\"\n",
    "    )\n",
    "    add_treatment_related_outcomes(model)\n",
    "    model.add_death_flow(\n",
    "        \"infect_death\", PLACEHOLDER_PARAM, \"infectious\"\n",
    "    )  # Adjust later organ strat\n",
    "\n",
    "    age_strat = get_age_strat(death_df, fixed_params, matrix)\n",
    "    model.stratify_with(age_strat)\n",
    "\n",
    "    detection_func = get_detection_func(covid_effects[\"detection_reduction\"])\n",
    "\n",
    "    organ_strat = get_organ_strat(fixed_params, detection_func)\n",
    "    model.stratify_with(organ_strat)\n",
    "    if implement_act3:\n",
    "        act3_strat = get_act3_strat(COMPARTMENTS, fixed_params)\n",
    "        model.stratify_with(act3_strat)\n",
    "\n",
    "    request_model_outputs(model, covid_effects[\"detection_reduction\"])\n",
    "\n",
    "    return model\n"
   ]
  },
  {
   "cell_type": "code",
   "execution_count": null,
   "metadata": {},
   "outputs": [],
   "source": [
    "fixed_params = load_params(CM_PATH / \"params.yml\")\n",
    "covid_effects = {\n",
    "    'detection_reduction':True,\n",
    "    'contact_reduction':False\n",
    "}"
   ]
  },
  {
   "cell_type": "code",
   "execution_count": null,
   "metadata": {},
   "outputs": [],
   "source": [
    "idata_raw = az.from_netcdf(OUT_PATH / 'camau/r0204/calib_full_out.nc')"
   ]
  },
  {
   "cell_type": "code",
   "execution_count": null,
   "metadata": {},
   "outputs": [],
   "source": [
    "burnt_idata = idata_raw.sel(draw=np.s_[50000:])\n",
    "idata_extract = az.extract(burnt_idata, num_samples=500)"
   ]
  },
  {
   "cell_type": "code",
   "execution_count": null,
   "metadata": {},
   "outputs": [],
   "source": [
    "params = {\n",
    "    \"start_population_size\": 30000.0,\n",
    "    \"seed_time\": 1805.0,\n",
    "    \"seed_num\": 1.0,\n",
    "    \"seed_duration\": 1.0,\n",
    "    # \"contact_rate\": 0.02,\n",
    "    \"rr_infection_latent\": 0.1890473700762809,\n",
    "    \"rr_infection_recovered\": 0.17781844797545143,\n",
    "    \"smear_positive_death_rate\": 0.3655528915762244,\n",
    "    \"smear_negative_death_rate\": 0.027358324164819155,\n",
    "    \"smear_positive_self_recovery\": 0.18600338108638945,\n",
    "    \"smear_negative_self_recovery\": 0.11333894801537307,\n",
    "    \"screening_scaleup_shape\": 0.3,\n",
    "    \"screening_inflection_time\": 1993,\n",
    "    # \"time_to_screening_end_asymp\": 2.1163556520843936,\n",
    "    \"acf_sensitivity\": 0.90,\n",
    "    # \"prop_mixing_same_stratum\": 0.6920672992582717,\n",
    "    # \"early_prop_adjuster\": -0.017924441638418186,\n",
    "    # \"late_reactivation_adjuster\": 1.1083422207175728,\n",
    "    \"detection_reduction\": 0.30,\n",
    "    # \"total_population_dispersion\": 3644.236227852164,\n",
    "    # \"notif_dispersion\": 88.37092488550051,\n",
    "    # \"latent_dispersion\": 7.470896188551709,\n",
    "}"
   ]
  },
  {
   "cell_type": "code",
   "execution_count": null,
   "metadata": {},
   "outputs": [],
   "source": [
    "bcm = get_bcm(params, covid_effects)"
   ]
  },
  {
   "cell_type": "code",
   "execution_count": null,
   "metadata": {},
   "outputs": [],
   "source": [
    "base_results = esamp.model_results_for_samples(idata_extract, bcm).results"
   ]
  },
  {
   "cell_type": "code",
   "execution_count": null,
   "metadata": {},
   "outputs": [],
   "source": [
    "base_quantiles = esamp.quantiles_for_results(base_results, QUANTILES)"
   ]
  },
  {
   "cell_type": "code",
   "execution_count": null,
   "metadata": {},
   "outputs": [],
   "source": [
    "fig = go.Figure()\n",
    "\n",
    "# Loop through all ages and add them to the same figure\n",
    "[\n",
    "    fig.add_trace(\n",
    "        go.Scatter(\n",
    "            x=base_quantiles[f\"early_activation_age_{age}\"].loc[:, 0.500].index,\n",
    "            y=base_quantiles[f\"early_activation_age_{age}\"].loc[:, 0.500].values,\n",
    "            mode='lines',\n",
    "            name=f'Age {age}'\n",
    "        )\n",
    "    )\n",
    "    for age in AGE_STRATA\n",
    "]\n",
    "\n",
    "fig.update_layout(\n",
    "    title=\"Early Activation by Age Group\",\n",
    "    xaxis_title=\"Time\",\n",
    "    yaxis_title=\"Rate\",\n",
    "    legend_title=\"Age group\",\n",
    "    template=\"simple_white\",\n",
    "    width=800,\n",
    "    height=600,\n",
    ")\n",
    "\n",
    "fig.show()\n"
   ]
  },
  {
   "cell_type": "code",
   "execution_count": null,
   "metadata": {},
   "outputs": [],
   "source": [
    "fig = go.Figure()\n",
    "\n",
    "# Loop through all ages and add them to the same figure\n",
    "[\n",
    "    fig.add_trace(\n",
    "        go.Scatter(\n",
    "            x=base_quantiles[f\"late_activation_age_{age}\"].loc[:, 0.500].index,\n",
    "            y=base_quantiles[f\"late_activation_age_{age}\"].loc[:, 0.500].values,\n",
    "            mode='lines',\n",
    "            name=f'Age {age}'\n",
    "        )\n",
    "    )\n",
    "    for age in AGE_STRATA\n",
    "]\n",
    "\n",
    "fig.update_layout(\n",
    "    title=\"Late Activation by Age Group\",\n",
    "    xaxis_title=\"Time\",\n",
    "    yaxis_title=\"Rate\",\n",
    "    legend_title=\"Age group\",\n",
    "    template=\"simple_white\",\n",
    "    width=800,\n",
    "    height=600,\n",
    ")\n",
    "\n",
    "fig.show()\n"
   ]
  },
  {
   "cell_type": "code",
   "execution_count": null,
   "metadata": {},
   "outputs": [],
   "source": [
    "bcm.model.flows"
   ]
  }
 ],
 "metadata": {
  "kernelspec": {
   "display_name": "tbdyn",
   "language": "python",
   "name": "python3"
  },
  "language_info": {
   "codemirror_mode": {
    "name": "ipython",
    "version": 3
   },
   "file_extension": ".py",
   "mimetype": "text/x-python",
   "name": "python",
   "nbconvert_exporter": "python",
   "pygments_lexer": "ipython3",
   "version": "3.10.13"
  }
 },
 "nbformat": 4,
 "nbformat_minor": 2
}
