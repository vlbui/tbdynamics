{
 "cells": [
  {
   "cell_type": "code",
   "execution_count": null,
   "metadata": {},
   "outputs": [],
   "source": [
    "from summer2.functions import time as stf\n",
    "import pandas as pd\n",
    "import numpy as np"
   ]
  },
  {
   "cell_type": "code",
   "execution_count": null,
   "metadata": {},
   "outputs": [],
   "source": [
    "pd.options.plotting.backend = \"plotly\""
   ]
  },
  {
   "cell_type": "code",
   "execution_count": null,
   "metadata": {},
   "outputs": [],
   "source": [
    "act_trial_reported_rates = {\n",
    "    2014: 0.0,\n",
    "    2015: 1.85,\n",
    "    2016: 1.61,\n",
    "    2017: 1.51,\n",
    "    2018: 1.36,\n",
    "    2018.1: 0.00,\n",
    "}"
   ]
  },
  {
   "cell_type": "code",
   "execution_count": null,
   "metadata": {},
   "outputs": [],
   "source": [
    "def get_interpolation_rates_from_annual(rates, most_of_year=0.9):\n",
    "    # Convert keys to float and create initial rates at the start of the period\n",
    "    start_rates = {float(k): v for k, v in rates.items()}\n",
    "    \n",
    "    # Create rates towards the end of the period based on most_of_year\n",
    "    end_rates = {}\n",
    "    keys = sorted(rates.keys())  # Sort keys to manage sequence properly\n",
    "    last_key_index = len(keys) - 1\n",
    "    \n",
    "    for i, k in enumerate(keys):\n",
    "        current_key = float(k)\n",
    "        current_value = rates[k]\n",
    "        \n",
    "        # Determine if we are at the last key or if the next key is a fractional continuation\n",
    "        if i != last_key_index:\n",
    "            next_key = keys[i + 1]\n",
    "            \n",
    "            # Check if the next key is a fractional continuation of the current year\n",
    "            if next_key == current_key + 0.1:\n",
    "                start_rates[next_key] = rates[next_key]\n",
    "            else:\n",
    "                # If not, then extend the current rate to the most_of_year point\n",
    "                end_rate_time = current_key + most_of_year\n",
    "                if end_rate_time < next_key:\n",
    "                    end_rates[end_rate_time] = current_value\n",
    "        else:\n",
    "            # For the last key, extend the rate to the end of the year and add an extra point\n",
    "            end_rates[current_key + most_of_year] = current_value\n",
    "            # This also means maintaining the last rate up to one year later if it's a special non-full-year key\n",
    "            if current_key != int(current_key):\n",
    "                end_rates[current_key + 1] = current_value\n",
    "\n",
    "    # Combine the start and end rates and ensure no duplicates with different values\n",
    "    interp_rates = {**start_rates, **end_rates}\n",
    "\n",
    "    # Sort and return the dictionary\n",
    "    return dict(sorted(interp_rates.items()))\n"
   ]
  },
  {
   "cell_type": "code",
   "execution_count": null,
   "metadata": {},
   "outputs": [],
   "source": [
    "act_trial_screening_rate = {\n",
    "        2014.0: 0.0,\n",
    "        2014.9: 0.0,\n",
    "        2015.0: 1.85,\n",
    "        2015.1: 1.61,\n",
    "        2016.0: 1.61,\n",
    "        2016.1: 1.51,\n",
    "        2017.0: 1.51,\n",
    "        2017.1: 1.36,\n",
    "        2018.0: 1.36,\n",
    "        2018.1: 0.00,\n",
    "    }"
   ]
  },
  {
   "cell_type": "code",
   "execution_count": null,
   "metadata": {},
   "outputs": [],
   "source": [
    "f_sig = stf.get_sigmoidal_interpolation_function(list(act_trial_screening_rate.keys()), list(act_trial_screening_rate.values()), curvature=8)\n",
    "trial_year = np.linspace(2014,2020.5,10000)\n",
    "pd.Series(stf.get_time_callable(f_sig)(trial_year), index=trial_year).plot()"
   ]
  },
  {
   "cell_type": "code",
   "execution_count": null,
   "metadata": {},
   "outputs": [],
   "source": [
    "act_control_screening_rate = {\n",
    "        2017: 0.0,\n",
    "        2018: 1.9,\n",
    "        2018.1: 0.0,\n",
    "}\n",
    "act_control_screening_rate = get_interpolation_rates_from_annual(act_control_screening_rate)"
   ]
  },
  {
   "cell_type": "code",
   "execution_count": null,
   "metadata": {},
   "outputs": [],
   "source": [
    "f_sig = stf.get_sigmoidal_interpolation_function(list(act_control_screening_rate.keys()), list(act_control_screening_rate.values()), curvature=8)\n",
    "control_year = np.linspace(2016,2020.5,100000)\n",
    "pd.Series(stf.get_time_callable(f_sig)(control_year), index=control_year).plot()"
   ]
  }
 ],
 "metadata": {
  "kernelspec": {
   "display_name": "tbdyn",
   "language": "python",
   "name": "python3"
  },
  "language_info": {
   "codemirror_mode": {
    "name": "ipython",
    "version": 3
   },
   "file_extension": ".py",
   "mimetype": "text/x-python",
   "name": "python",
   "nbconvert_exporter": "python",
   "pygments_lexer": "ipython3",
   "version": "3.10.13"
  }
 },
 "nbformat": 4,
 "nbformat_minor": 2
}
