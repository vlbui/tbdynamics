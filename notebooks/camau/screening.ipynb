{
 "cells": [
  {
   "cell_type": "code",
   "execution_count": null,
   "metadata": {},
   "outputs": [],
   "source": [
    "from summer2.functions import time as stf\n",
    "import pandas as pd\n",
    "import numpy as np"
   ]
  },
  {
   "cell_type": "code",
   "execution_count": null,
   "metadata": {},
   "outputs": [],
   "source": [
    "pd.options.plotting.backend = \"plotly\""
   ]
  },
  {
   "cell_type": "code",
   "execution_count": null,
   "metadata": {},
   "outputs": [],
   "source": [
    "# act_trial_screening_rate = {\n",
    "#         2014.0: 0.0,  # Value for 2014\n",
    "#         2014.1: 0.81,\n",
    "#         2015.0: 0.81,  # Value for 2015\n",
    "#         2015.1: 0.70,\n",
    "#         2016.0: 0.70,  # Value for 2016\n",
    "#         2016.1: 0.66,  # Value for 2017\n",
    "#         2017.0: 0.66,\n",
    "#         2017.1: 0.60,\n",
    "#         2018.0: 0.60,  # Value for 2018\n",
    "#         2018.1: 0.0,  # Value for 2019\n",
    "# }\n",
    "act_trial_reported_rates = {\n",
    "    2014: 0.0,\n",
    "    2015: 0.81,\n",
    "    2016: 0.70,\n",
    "    2017: 0.66,\n",
    "    2018: 0.60,\n",
    "    2019: 0.0,\n",
    "}"
   ]
  },
  {
   "cell_type": "code",
   "execution_count": null,
   "metadata": {},
   "outputs": [],
   "source": [
    "def get_interpolation_rates_from_annual(rates, most_of_year=0.9):\n",
    "    start_rates = {float(k): v for k, v in rates.items()}\n",
    "    end_rates = {float(k) + most_of_year: v for k, v in rates.items()}\n",
    "    interp_rates = start_rates | end_rates\n",
    "    return dict(sorted(interp_rates.items()))"
   ]
  },
  {
   "cell_type": "code",
   "execution_count": null,
   "metadata": {},
   "outputs": [],
   "source": [
    "act_trial_screening_rate = get_interpolation_rates_from_annual(act_trial_reported_rates)"
   ]
  },
  {
   "cell_type": "code",
   "execution_count": null,
   "metadata": {},
   "outputs": [],
   "source": [
    "f_sig = stf.get_linear_interpolation_function(list(act_trial_screening_rate.keys()), list(act_trial_screening_rate.values()))\n",
    "trial_year = np.linspace(2014,2020.5)\n",
    "pd.Series(stf.get_time_callable(f_sig)(trial_year), index=trial_year).plot()"
   ]
  },
  {
   "cell_type": "code",
   "execution_count": null,
   "metadata": {},
   "outputs": [],
   "source": [
    "f_sig = stf.get_sigmoidal_interpolation_function(list(act_trial_reported_rates.keys()), list(act_trial_reported_rates.values()))\n",
    "trial_year = np.linspace(2014,2020.5)\n",
    "pd.Series(stf.get_time_callable(f_sig)(trial_year), index=trial_year).plot()"
   ]
  },
  {
   "cell_type": "code",
   "execution_count": null,
   "metadata": {},
   "outputs": [],
   "source": [
    "act_control_screening_rate = {\n",
    "        2017: 0.0,\n",
    "        2018: 0.86,\n",
    "        2019: 0.0,\n",
    "}\n",
    "act_control_screening_rate = get_interpolation_rates_from_annual(act_control_screening_rate)"
   ]
  },
  {
   "cell_type": "code",
   "execution_count": null,
   "metadata": {},
   "outputs": [],
   "source": [
    "f_sig = stf.get_sigmoidal_interpolation_function(list(act_control_screening_rate.keys()), list(act_control_screening_rate.values()), curvature=128)\n",
    "control_year = np.linspace(2016,2020.5)\n",
    "pd.Series(stf.get_time_callable(f_sig)(control_year), index=control_year).plot()"
   ]
  }
 ],
 "metadata": {
  "kernelspec": {
   "display_name": "tbdyn",
   "language": "python",
   "name": "python3"
  },
  "language_info": {
   "codemirror_mode": {
    "name": "ipython",
    "version": 3
   },
   "file_extension": ".py",
   "mimetype": "text/x-python",
   "name": "python",
   "nbconvert_exporter": "python",
   "pygments_lexer": "ipython3",
   "version": "3.10.13"
  }
 },
 "nbformat": 4,
 "nbformat_minor": 2
}
