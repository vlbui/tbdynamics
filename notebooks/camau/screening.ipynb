{
 "cells": [
  {
   "cell_type": "code",
   "execution_count": null,
   "metadata": {},
   "outputs": [],
   "source": [
    "from summer2.functions import time as stf\n",
    "import pandas as pd\n",
    "import numpy as np\n",
    "from tbdynamics.tools.detect import get_interpolation_rates_from_annual\n",
    "import math\n",
    "from typing import List, Dict, Any"
   ]
  },
  {
   "cell_type": "code",
   "execution_count": null,
   "metadata": {},
   "outputs": [],
   "source": [
    "pd.options.plotting.backend = \"plotly\""
   ]
  },
  {
   "cell_type": "code",
   "execution_count": null,
   "metadata": {},
   "outputs": [],
   "source": [
    "act_trial_reported_rates = {\n",
    "    2014.9: 0.0,\n",
    "    2015: 1.85,\n",
    "    2016: 1.61,\n",
    "    2017: 1.51,\n",
    "    2018: 1.36,\n",
    "    2018.1: 0.00,\n",
    "}"
   ]
  },
  {
   "cell_type": "code",
   "execution_count": null,
   "metadata": {},
   "outputs": [],
   "source": [
    "# act_trial_screening_rate = {\n",
    "#         2014.0: 0.0,\n",
    "#         2015.0: 1.83,\n",
    "#         2015.1: 1.66,\n",
    "#         2016.0: 1.66,\n",
    "#         2016.1: 1.51,\n",
    "#         2017.0: 1.51,\n",
    "#         2017.1: 1.35,\n",
    "#         2018.0: 1.35,\n",
    "#         2018.1: 0.00,\n",
    "#     }\n",
    "act_trial_screening_rate = get_interpolation_rates_from_annual(act_trial_reported_rates)"
   ]
  },
  {
   "cell_type": "code",
   "execution_count": null,
   "metadata": {},
   "outputs": [],
   "source": [
    "f_sig = stf.get_linear_interpolation_function(list(act_trial_screening_rate.keys()), list(act_trial_screening_rate.values()))\n",
    "trial_year = np.linspace(2013,2020.5,10000)\n",
    "pd.Series(stf.get_time_callable(f_sig)(trial_year), index=trial_year).plot()"
   ]
  },
  {
   "cell_type": "code",
   "execution_count": null,
   "metadata": {},
   "outputs": [],
   "source": [
    "act_control_screening_rate = {\n",
    "        2017.9: 0.0,\n",
    "        2018: 1.14,\n",
    "        2018.1: 0.0,\n",
    "}\n",
    "act_control_screening_rate = get_interpolation_rates_from_annual(act_control_screening_rate)"
   ]
  },
  {
   "cell_type": "code",
   "execution_count": null,
   "metadata": {},
   "outputs": [],
   "source": [
    "f_sig = stf.get_linear_interpolation_function(list(act_control_screening_rate.keys()), list(act_control_screening_rate.values()))\n",
    "control_year = np.linspace(2016,2020.5,100000)\n",
    "pd.Series(stf.get_time_callable(f_sig)(control_year), index=control_year).plot()"
   ]
  },
  {
   "cell_type": "code",
   "execution_count": null,
   "metadata": {},
   "outputs": [],
   "source": [
    "def make_future_acf_scenarios(config: Dict[str, List]) -> Dict[str, Dict[float, float]]:\n",
    "    \"\"\"\n",
    "    Generates future ACF screening rate scenarios based on frequency and coverage.\n",
    "    \n",
    "    Args:\n",
    "        config (Dict): Configuration dictionary containing arm, frequency, and coverage settings.\n",
    "        \n",
    "    Returns:\n",
    "        Dict: A dictionary where the keys are scenario labels and values are rate dictionaries.\n",
    "    \"\"\"\n",
    "    scenarios = {}\n",
    "    arms = config.get(\"arm\", [])\n",
    "    every = config.get(\"every\", [])\n",
    "    coverages = config.get(\"coverage\", [])\n",
    "\n",
    "    for arm in arms:\n",
    "        for freq in every:\n",
    "            assert freq in [2, 4], f\"Frequency must be 2 or 4, got {freq}\"\n",
    "            years = list(range(2027, 2036, freq))  # Screening years\n",
    "            for cov in coverages:\n",
    "                assert 0 < cov <= 1.0, f\"Coverage must be in (0,1], got {cov}\"\n",
    "                rate = -math.log(1 - cov)\n",
    "                scenario_key = f\"{arm}_{freq}_{int(cov * 100)}\"\n",
    "                rate_dict = {2026.0: 0.0}\n",
    "                rate_dict.update({float(year): rate for year in years})\n",
    "                rate_dict[2035.1] = 0.0\n",
    "                scenarios[scenario_key] = rate_dict\n",
    "    return scenarios"
   ]
  },
  {
   "cell_type": "code",
   "execution_count": null,
   "metadata": {},
   "outputs": [],
   "source": [
    "config = {\n",
    "    \"arm\": [\"trial\", \"control\"],\n",
    "    \"every\": [2],\n",
    "    \"coverage\": [0.5,0.8],\n",
    "}\n",
    "future_acf_scenario = make_future_acf_scenarios(config)"
   ]
  },
  {
   "cell_type": "code",
   "execution_count": null,
   "metadata": {},
   "outputs": [],
   "source": []
  }
 ],
 "metadata": {
  "kernelspec": {
   "display_name": "tbdyn",
   "language": "python",
   "name": "python3"
  },
  "language_info": {
   "codemirror_mode": {
    "name": "ipython",
    "version": 3
   },
   "file_extension": ".py",
   "mimetype": "text/x-python",
   "name": "python",
   "nbconvert_exporter": "python",
   "pygments_lexer": "ipython3",
   "version": "3.10.16"
  }
 },
 "nbformat": 4,
 "nbformat_minor": 2
}
