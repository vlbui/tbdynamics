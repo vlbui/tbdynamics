{
 "cells": [
  {
   "cell_type": "code",
   "execution_count": null,
   "metadata": {},
   "outputs": [],
   "source": [
    "from summer2.functions import time as stf\n",
    "import pandas as pd\n",
    "import numpy as np\n",
    "from tbdynamics.tools.detect import get_interpolation_rates_from_annual, calculate_screening_rate, make_future_acf_scenarios\n",
    "import math\n",
    "from typing import List, Dict, Any\n",
    "from tbdynamics.tools.inputs import load_targets\n",
    "from tbdynamics.settings import CM_PATH\n",
    "import matplotlib.pyplot as plt\n",
    "import numpy as np"
   ]
  },
  {
   "cell_type": "code",
   "execution_count": null,
   "metadata": {},
   "outputs": [],
   "source": [
    "pd.options.plotting.backend = \"plotly\""
   ]
  },
  {
   "cell_type": "code",
   "execution_count": null,
   "metadata": {},
   "outputs": [],
   "source": [
    "targets = load_targets(CM_PATH / \"targets.yml\")"
   ]
  },
  {
   "cell_type": "code",
   "execution_count": null,
   "metadata": {},
   "outputs": [],
   "source": [
    "act_trial_screening_rate = calculate_screening_rate(\n",
    "        targets[\"act3_trial_adults_pop\"].to_dict(),\n",
    "        targets[\"act3_trial_sputum_collected\"].to_dict(),\n",
    "    )\n",
    "act_trial_screening_rate = get_interpolation_rates_from_annual(act_trial_screening_rate)"
   ]
  },
  {
   "cell_type": "code",
   "execution_count": null,
   "metadata": {},
   "outputs": [],
   "source": [
    "f_sig = stf.get_linear_interpolation_function(list(act_trial_screening_rate.keys()), list(act_trial_screening_rate.values()))\n",
    "trial_year = np.linspace(2013,2020.5,10000)\n",
    "pd.Series(stf.get_time_callable(f_sig)(trial_year), index=trial_year).plot()"
   ]
  },
  {
   "cell_type": "code",
   "execution_count": null,
   "metadata": {},
   "outputs": [],
   "source": [
    "act_control_screening_rate = calculate_screening_rate(\n",
    "    targets[\"act3_control_adults_pop\"].to_dict(),\n",
    "    targets[\"act3_control_sputum_collected\"].to_dict(),\n",
    ")\n",
    "act_control_screening_rate = get_interpolation_rates_from_annual(\n",
    "    act_control_screening_rate\n",
    ")"
   ]
  },
  {
   "cell_type": "code",
   "execution_count": null,
   "metadata": {},
   "outputs": [],
   "source": [
    "f_sig = stf.get_linear_interpolation_function(list(act_control_screening_rate.keys()), list(act_control_screening_rate.values()))\n",
    "control_year = np.linspace(2016,2019,10000)\n",
    "pd.Series(stf.get_time_callable(f_sig)(control_year), index=control_year).plot()"
   ]
  },
  {
   "cell_type": "code",
   "execution_count": null,
   "metadata": {},
   "outputs": [],
   "source": [
    "config = {\n",
    "    \"arm\": [\"trial\"],\n",
    "    \"every\": [2,4],\n",
    "    \"coverage\": [0.5, 0.8],\n",
    "}\n",
    "future_acf_scenario = make_future_acf_scenarios(config)"
   ]
  },
  {
   "cell_type": "code",
   "execution_count": null,
   "metadata": {},
   "outputs": [],
   "source": [
    "future_acf_scenario"
   ]
  },
  {
   "cell_type": "code",
   "execution_count": null,
   "metadata": {},
   "outputs": [],
   "source": [
    "future_rates = future_acf_scenario['trial_4_80']['trial']"
   ]
  },
  {
   "cell_type": "code",
   "execution_count": null,
   "metadata": {},
   "outputs": [],
   "source": [
    "future_rates = get_interpolation_rates_from_annual(future_rates)\n",
    "# funture_rates = "
   ]
  },
  {
   "cell_type": "code",
   "execution_count": null,
   "metadata": {},
   "outputs": [],
   "source": [
    "f_sig = stf.get_linear_interpolation_function(\n",
    "    list(future_rates.keys()), \n",
    "    list(future_rates.values())\n",
    ")\n",
    "\n",
    "control_year = np.linspace(2025, 2035.5, 100000)\n",
    "\n",
    "pd.Series(\n",
    "    stf.get_time_callable(f_sig)(control_year),\n",
    "    index=control_year\n",
    ").plot()\n",
    "\n",
    "# Get min and max for the range\n"
   ]
  },
  {
   "cell_type": "code",
   "execution_count": null,
   "metadata": {},
   "outputs": [],
   "source": []
  }
 ],
 "metadata": {
  "kernelspec": {
   "display_name": "tbdyn",
   "language": "python",
   "name": "python3"
  },
  "language_info": {
   "codemirror_mode": {
    "name": "ipython",
    "version": 3
   },
   "file_extension": ".py",
   "mimetype": "text/x-python",
   "name": "python",
   "nbconvert_exporter": "python",
   "pygments_lexer": "ipython3",
   "version": "3.10.16"
  }
 },
 "nbformat": 4,
 "nbformat_minor": 2
}
