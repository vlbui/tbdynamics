{
 "cells": [
  {
   "cell_type": "code",
   "execution_count": null,
   "metadata": {},
   "outputs": [],
   "source": [
    "from tbdynamics.camau.model import build_model\n",
    "from tbdynamics.tools.inputs import load_params\n",
    "import pandas as pd\n",
    "import numpy as np\n",
    "import matplotlib.pyplot as plt\n",
    "pd.options.plotting.backend = \"plotly\""
   ]
  },
  {
   "cell_type": "code",
   "execution_count": null,
   "metadata": {},
   "outputs": [],
   "source": [
    "from tbdynamics.settings import CM_PATH"
   ]
  },
  {
   "cell_type": "markdown",
   "metadata": {},
   "source": [
    "### Load fixed params"
   ]
  },
  {
   "cell_type": "code",
   "execution_count": null,
   "metadata": {},
   "outputs": [],
   "source": [
    "fixed_params = load_params(CM_PATH / \"params.yml\")\n",
    "covid_effects = {\n",
    "    'detection_reduction':True,\n",
    "    'contact_reduction':False\n",
    "}"
   ]
  },
  {
   "cell_type": "markdown",
   "metadata": {},
   "source": [
    "### Load params"
   ]
  },
  {
   "cell_type": "code",
   "execution_count": null,
   "metadata": {},
   "outputs": [],
   "source": [
    "init_params = {\n",
    "    \"start_population_size\": 30000.0,\n",
    "    # \"seed_time\": 1805.0,\n",
    "    # \"seed_num\": 1.0,\n",
    "    # \"seed_duration\": 1.0,\n",
    "}\n",
    "mle_params = {\n",
    "    \"contact_rate\": 2.4324427131100315,\n",
    "    \"rr_infection_latent\": 0.15120385349239338,\n",
    "    \"rr_infection_recovered\": 0.13139150248481948,\n",
    "    \"progression_multiplier\": 2.381997193280513,\n",
    "    \"seed_time\": 1829.2120565235152,\n",
    "    \"seed_num\": 31.914425611226136,\n",
    "    \"seed_duration\": 12.412727005336615,\n",
    "    \"smear_positive_death_rate\": 0.41245757422948465,\n",
    "    \"smear_negative_death_rate\": 0.0332667291039445,\n",
    "    \"smear_positive_self_recovery\": 0.24349543280847977,\n",
    "    \"smear_negative_self_recovery\": 0.11629142937039111,\n",
    "    \"screening_scaleup_shape\": 0.3083039887573705,\n",
    "    \"screening_inflection_time\": 1998.0496021545282,\n",
    "    \"time_to_screening_end_asymp\": 2.48351054145812,\n",
    "    \"acf_sensitivity\": 0.7444791569420837,\n",
    "    \"detection_reduction\": 0.376996321226916,\n",
    "    \"notif_dispersion\": 137.0004091235171,\n",
    "    \"latent_dispersion\": 6.633240194960637,\n",
    "    \"passive_notification_smear_positive_dispersion\": 19.88708767974502,\n",
    "    \"acf_detectionXact3_trail_dispersion\": 29.767148995137067,\n",
    "    \"acf_detectionXact3_control_dispersion\": 29.568100559882886,\n",
    "}\n",
    "params = init_params | mle_params"
   ]
  },
  {
   "cell_type": "code",
   "execution_count": null,
   "metadata": {},
   "outputs": [],
   "source": [
    "matrix_homo = np.ones((6, 6))"
   ]
  },
  {
   "cell_type": "markdown",
   "metadata": {},
   "source": [
    "### Build epidemiological model"
   ]
  },
  {
   "cell_type": "code",
   "execution_count": null,
   "metadata": {},
   "outputs": [],
   "source": [
    "model=build_model(fixed_params, matrix_homo,covid_effects)\n",
    "model.run(params)"
   ]
  },
  {
   "cell_type": "code",
   "execution_count": null,
   "metadata": {},
   "outputs": [],
   "source": [
    "trial_mixing = model._mixing_matrices[1]"
   ]
  },
  {
   "cell_type": "code",
   "execution_count": null,
   "metadata": {},
   "outputs": [],
   "source": [
    "plt.imshow(trial_mixing, cmap='Blues', interpolation='nearest')\n",
    "plt.colorbar(label='Value')\n",
    "\n",
    "# Add labels to the axes\n",
    "plt.xticks(np.arange(trial_mixing.shape[1]), ['Trial', 'Control', 'Other'])\n",
    "plt.yticks(np.arange(trial_mixing.shape[0]), ['Trial', 'Control', 'Other'])\n",
    "\n",
    "for i in range(trial_mixing.shape[0]):\n",
    "    for j in range(trial_mixing.shape[1]):\n",
    "        plt.text(j, i, f'{trial_mixing[i, j]:.4f}', ha='center', va='center', color='black')\n",
    "\n",
    "# Add title\n",
    "plt.title('Mixing Matrix')\n",
    "\n",
    "# Show the plot\n",
    "plt.show()"
   ]
  },
  {
   "cell_type": "markdown",
   "metadata": {},
   "source": [
    "### Get derived outputs"
   ]
  },
  {
   "cell_type": "code",
   "execution_count": null,
   "metadata": {},
   "outputs": [],
   "source": [
    "df = model.get_derived_outputs_df()"
   ]
  },
  {
   "cell_type": "markdown",
   "metadata": {},
   "source": [
    "### Plot outputs"
   ]
  },
  {
   "cell_type": "code",
   "execution_count": null,
   "metadata": {},
   "outputs": [],
   "source": [
    "df['total_population'].plot()"
   ]
  },
  {
   "cell_type": "code",
   "execution_count": null,
   "metadata": {},
   "outputs": [],
   "source": [
    "\n",
    "df[[f'total_populationXage_{age}' for age in [0, 5, 15, 35, 50, 70]]].plot()"
   ]
  },
  {
   "cell_type": "code",
   "execution_count": null,
   "metadata": {},
   "outputs": [],
   "source": [
    "df['incidence'].plot()"
   ]
  },
  {
   "cell_type": "code",
   "execution_count": null,
   "metadata": {},
   "outputs": [],
   "source": [
    "df['prevalence_pulmonary'].plot()"
   ]
  },
  {
   "cell_type": "code",
   "execution_count": null,
   "metadata": {},
   "outputs": [],
   "source": [
    "df['adults_prevalence_pulmonary'].plot()"
   ]
  },
  {
   "cell_type": "code",
   "execution_count": null,
   "metadata": {},
   "outputs": [],
   "source": [
    "df['notification'].plot()"
   ]
  },
  {
   "cell_type": "code",
   "execution_count": null,
   "metadata": {},
   "outputs": [],
   "source": [
    "df['detection_rate'].plot()"
   ]
  }
 ],
 "metadata": {
  "kernelspec": {
   "display_name": "tb",
   "language": "python",
   "name": "python3"
  },
  "language_info": {
   "codemirror_mode": {
    "name": "ipython",
    "version": 3
   },
   "file_extension": ".py",
   "mimetype": "text/x-python",
   "name": "python",
   "nbconvert_exporter": "python",
   "pygments_lexer": "ipython3",
   "version": "3.10.15"
  }
 },
 "nbformat": 4,
 "nbformat_minor": 2
}
