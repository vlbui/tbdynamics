{
 "cells": [
  {
   "cell_type": "code",
   "execution_count": null,
   "metadata": {},
   "outputs": [],
   "source": [
    "from tbdynamics.camau.model import build_model\n",
    "from tbdynamics.tools.inputs import load_params, matrix\n",
    "import pandas as pd\n",
    "import numpy as np\n",
    "import matplotlib.pyplot as plt\n",
    "pd.options.plotting.backend = \"plotly\""
   ]
  },
  {
   "cell_type": "code",
   "execution_count": null,
   "metadata": {},
   "outputs": [],
   "source": [
    "from tbdynamics.settings import CM_PATH"
   ]
  },
  {
   "cell_type": "markdown",
   "metadata": {},
   "source": [
    "### Load fixed params"
   ]
  },
  {
   "cell_type": "code",
   "execution_count": null,
   "metadata": {},
   "outputs": [],
   "source": [
    "fixed_params = load_params(CM_PATH / \"params.yml\")\n",
    "covid_effects = {\n",
    "    'detection_reduction':True,\n",
    "    'contact_reduction':False\n",
    "}"
   ]
  },
  {
   "cell_type": "markdown",
   "metadata": {},
   "source": [
    "### Load params"
   ]
  },
  {
   "cell_type": "code",
   "execution_count": null,
   "metadata": {},
   "outputs": [],
   "source": [
    "init_params = {\n",
    "    \"start_population_size\": 30000.0,\n",
    "    \"seed_time\": 1805.0,\n",
    "    \"seed_num\": 1.0,\n",
    "    \"seed_duration\": 1.0,\n",
    "}\n",
    "mle_params = {\n",
    "    \"contact_rate\": 0.017063119454831386,\n",
    "    \"rr_infection_latent\": 0.2834719413599314,\n",
    "    \"rr_infection_recovered\": 0.11176730285008912,\n",
    "    \"progression_multiplier\": 1.0685204262652557,\n",
    "    \"smear_positive_death_rate\": 0.4060239238201222,\n",
    "    \"smear_negative_death_rate\": 0.023268732220778673,\n",
    "    \"smear_positive_self_recovery\": 0.23740345447643982,\n",
    "    \"smear_negative_self_recovery\": 0.1300242851874353,\n",
    "    \"screening_scaleup_shape\": 0.16296765497848756,\n",
    "    \"screening_inflection_time\": 1994.655089927851,\n",
    "    \"time_to_screening_end_asymp\": 4.438247116650007,\n",
    "    \"acf_sensitivity\": 0.8035535310218854,\n",
    "    \"prop_mixing_same_stratum\": 0.5750785242998142,\n",
    "    \"incidence_props_pulmonary\": 0.7863042106741198,\n",
    "    \"incidence_props_smear_positive_among_pulmonary\": 0.4959894598362759,\n",
    "    \"detection_reduction\": 0.7066125356316282,\n",
    "    \"notif_dispersion\": 136.58684996583793,\n",
    "    \"latent_dispersion\": 7.8286516689892025,\n",
    "}\n",
    "\n",
    "params = init_params | mle_params"
   ]
  },
  {
   "cell_type": "code",
   "execution_count": null,
   "metadata": {},
   "outputs": [],
   "source": [
    "# matrix_homo = np.ones((6, 6))"
   ]
  },
  {
   "cell_type": "markdown",
   "metadata": {},
   "source": [
    "### Build epidemiological model"
   ]
  },
  {
   "cell_type": "code",
   "execution_count": null,
   "metadata": {},
   "outputs": [],
   "source": [
    "model=build_model(fixed_params, matrix,covid_effects)\n",
    "# model.run(params)"
   ]
  },
  {
   "cell_type": "code",
   "execution_count": null,
   "metadata": {},
   "outputs": [],
   "source": [
    "model.flows"
   ]
  },
  {
   "cell_type": "code",
   "execution_count": null,
   "metadata": {},
   "outputs": [],
   "source": [
    "trial_mixing = model._mixing_matrices[1]"
   ]
  },
  {
   "cell_type": "code",
   "execution_count": null,
   "metadata": {},
   "outputs": [],
   "source": [
    "plt.imshow(trial_mixing, cmap='Blues', interpolation='nearest')\n",
    "plt.colorbar(label='Value')\n",
    "\n",
    "# Add labels to the axes\n",
    "plt.xticks(np.arange(trial_mixing.shape[1]), ['Trial', 'Control', 'Other'])\n",
    "plt.yticks(np.arange(trial_mixing.shape[0]), ['Trial', 'Control', 'Other'])\n",
    "\n",
    "for i in range(trial_mixing.shape[0]):\n",
    "    for j in range(trial_mixing.shape[1]):\n",
    "        plt.text(j, i, f'{trial_mixing[i, j]:.4f}', ha='center', va='center', color='black')\n",
    "\n",
    "# Add title\n",
    "plt.title('Mixing Matrix')\n",
    "\n",
    "# Show the plot\n",
    "plt.show()"
   ]
  },
  {
   "cell_type": "markdown",
   "metadata": {},
   "source": [
    "### Get derived outputs"
   ]
  },
  {
   "cell_type": "code",
   "execution_count": null,
   "metadata": {},
   "outputs": [],
   "source": [
    "df = model.get_derived_outputs_df()"
   ]
  },
  {
   "cell_type": "markdown",
   "metadata": {},
   "source": [
    "### Plot outputs"
   ]
  },
  {
   "cell_type": "code",
   "execution_count": null,
   "metadata": {},
   "outputs": [],
   "source": [
    "df['total_population'].plot()"
   ]
  },
  {
   "cell_type": "code",
   "execution_count": null,
   "metadata": {},
   "outputs": [],
   "source": [
    "\n",
    "df[[f'total_populationXage_{age}' for age in [0, 5, 15, 35, 50, 70]]].plot()"
   ]
  },
  {
   "cell_type": "code",
   "execution_count": null,
   "metadata": {},
   "outputs": [],
   "source": [
    "df['incidence'].plot()"
   ]
  },
  {
   "cell_type": "code",
   "execution_count": null,
   "metadata": {},
   "outputs": [],
   "source": [
    "df['prevalence_pulmonary'].plot()"
   ]
  },
  {
   "cell_type": "code",
   "execution_count": null,
   "metadata": {},
   "outputs": [],
   "source": [
    "df['adults_prevalence_pulmonary'].plot()"
   ]
  },
  {
   "cell_type": "code",
   "execution_count": null,
   "metadata": {},
   "outputs": [],
   "source": [
    "df['notification'].plot()"
   ]
  },
  {
   "cell_type": "code",
   "execution_count": null,
   "metadata": {},
   "outputs": [],
   "source": [
    "df['detection_rate'].plot()"
   ]
  },
  {
   "cell_type": "code",
   "execution_count": null,
   "metadata": {},
   "outputs": [],
   "source": [
    "df[[f'total_populationXact3_{act3_stratum}' for act3_stratum in [\"trial\",\"control\", \"other\"]]].plot()"
   ]
  }
 ],
 "metadata": {
  "kernelspec": {
   "display_name": "tb",
   "language": "python",
   "name": "python3"
  },
  "language_info": {
   "codemirror_mode": {
    "name": "ipython",
    "version": 3
   },
   "file_extension": ".py",
   "mimetype": "text/x-python",
   "name": "python",
   "nbconvert_exporter": "python",
   "pygments_lexer": "ipython3",
   "version": "3.10.15"
  }
 },
 "nbformat": 4,
 "nbformat_minor": 2
}
