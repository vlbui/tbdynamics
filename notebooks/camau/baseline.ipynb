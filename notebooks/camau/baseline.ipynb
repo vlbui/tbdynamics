{
 "cells": [
  {
   "cell_type": "code",
   "execution_count": null,
   "metadata": {},
   "outputs": [],
   "source": [
    "import warnings\n",
    "warnings.filterwarnings(\"ignore\")\n",
    "import arviz as az\n",
    "import pandas as pd\n",
    "import plotly.express as px\n",
    "import numpy as np\n",
    "from tbdynamics.calibration.plotting import plot_output_ranges, plot_trial_output_ranges\n",
    "from tbdynamics.tools.inputs import load_targets\n",
    "from tbdynamics.settings import CM_PATH, OUT_PATH, DOCS_PATH\n",
    "from tbdynamics.constants import COMPARTMENTS, QUANTILES\n",
    "from tbdynamics.camau.constants import indicator_legends, indicator_names\n",
    "from  tbdynamics.camau.calibration.utils import get_bcm\n",
    "from estival.sampling import tools as esamp"
   ]
  },
  {
   "cell_type": "code",
   "execution_count": null,
   "metadata": {},
   "outputs": [],
   "source": [
    "# loaded_inference_data = az.from_netcdf(OUT_PATH / 'inference_data1.nc')\n",
    "# idata = az.from_netcdf(OUT_PATH / 'extracted_idata.nc')\n",
    "params = {\n",
    "    \"start_population_size\": 30000.0,\n",
    "    \"seed_time\": 1805.0,\n",
    "    \"seed_num\": 1.0,\n",
    "    \"seed_duration\": 1.0,\n",
    "    # \"contact_rate\": 0.02,\n",
    "    \"rr_infection_latent\": 0.1890473700762809,\n",
    "    \"rr_infection_recovered\": 0.17781844797545143,\n",
    "    \"smear_positive_death_rate\": 0.3655528915762244,\n",
    "    \"smear_negative_death_rate\": 0.027358324164819155,\n",
    "    \"smear_positive_self_recovery\": 0.18600338108638945,\n",
    "    \"smear_negative_self_recovery\": 0.11333894801537307,\n",
    "    \"screening_scaleup_shape\": 0.3,\n",
    "    \"screening_inflection_time\": 1993,\n",
    "    # \"time_to_screening_end_asymp\": 2.1163556520843936,\n",
    "    \"acf_sensitivity\": 0.90,\n",
    "    # \"prop_mixing_same_stratum\": 0.6920672992582717,\n",
    "    # \"early_prop_adjuster\": -0.017924441638418186,\n",
    "    # \"late_reactivation_adjuster\": 1.1083422207175728,\n",
    "    \"detection_reduction\": 0.30,\n",
    "    # \"total_population_dispersion\": 3644.236227852164,\n",
    "    # \"notif_dispersion\": 88.37092488550051,\n",
    "    # \"latent_dispersion\": 7.470896188551709,\n",
    "}\n",
    "targets = load_targets(CM_PATH / \"targets.yml\")"
   ]
  },
  {
   "cell_type": "code",
   "execution_count": null,
   "metadata": {},
   "outputs": [],
   "source": [
    "idata_raw = az.from_netcdf(OUT_PATH / 'camau/r0504/calib_full_out.nc')"
   ]
  },
  {
   "cell_type": "code",
   "execution_count": null,
   "metadata": {},
   "outputs": [],
   "source": [
    "burnt_idata = idata_raw.sel(draw=np.s_[25000:])\n",
    "idata_extract = az.extract(burnt_idata, num_samples=500)"
   ]
  },
  {
   "cell_type": "code",
   "execution_count": null,
   "metadata": {},
   "outputs": [],
   "source": [
    "# outputs = calculate_scenario_outputs(params, idata)\n",
    "# with open(OUT_PATH / 'quant_outputs.pkl', 'wb') as f:\n",
    "#      pickle.dump(outputs, f)"
   ]
  },
  {
   "cell_type": "code",
   "execution_count": null,
   "metadata": {},
   "outputs": [],
   "source": [
    "# with open(OUT_PATH /'camau/quant_outputs.pkl', 'rb') as f:\n",
    "#     outputs = pickle.load(f)\n",
    "scenario_config = {\"detection_reduction\": True, \"contact_reduction\": False}\n",
    "scenario_future = {\"trial\":True, \"control\":True}\n",
    "\n",
    "#     # Base scenario (calculate outputs for all indicators)\n",
    "bcm = get_bcm(params, scenario_config, scenario_future)\n",
    "base_results = esamp.model_results_for_samples(idata_extract, bcm).results\n",
    "base_quantiles = esamp.quantiles_for_results(base_results, QUANTILES)"
   ]
  },
  {
   "cell_type": "code",
   "execution_count": null,
   "metadata": {},
   "outputs": [],
   "source": [
    "# base_quantiles.to_pickle(OUT_PATH / 'camau/output0304.pkl')\n",
    "# base_quantiles = pd.read_pickle(OUT_PATH / 'camau/output0304.pkl')"
   ]
  },
  {
   "cell_type": "code",
   "execution_count": null,
   "metadata": {},
   "outputs": [],
   "source": [
    "# target_plot.write_image(DOCS_PATH / \"targets1.png\", scale=3)\n",
    "#plot_output_ranges(base_quantiles,targets,[\"total_population\",\"act3_trial_adults_pop\", \"act3_control_adults_pop\"],indicator_names,indicator_legends,1,2010,2025) #.write_image(DOCS_PATH /'camau/pops.png', scale=3)"
   ]
  },
  {
   "cell_type": "code",
   "execution_count": null,
   "metadata": {},
   "outputs": [],
   "source": [
    "#plot_output_ranges(base_quantiles,targets,['notification','percentage_latent_adults'],indicator_names,indicator_legends,2,2010,2025, option='camau') #.write_image(DOCS_PATH /'camau/targets.png', scale=3)\n"
   ]
  },
  {
   "cell_type": "code",
   "execution_count": null,
   "metadata": {},
   "outputs": [],
   "source": [
    "# plot_output_ranges(base_quantiles,targets,['acf_detectionXact3_trialXorgan_pulmonary','acf_detectionXact3_controlXorgan_pulmonary'],indicator_names,indicator_legends,2,2010,2025, option='camau')"
   ]
  },
  {
   "cell_type": "code",
   "execution_count": null,
   "metadata": {},
   "outputs": [],
   "source": [
    "plot_output_ranges(base_quantiles,targets,['incidence', 'prevalence_pulmonary', 'adults_prevalence_pulmonary','mortality'],indicator_names,indicator_legends,2,2010,2025, option='camau') #.write_image(DOCS_PATH /'camau/compare.png', scale=3)"
   ]
  },
  {
   "cell_type": "code",
   "execution_count": null,
   "metadata": {},
   "outputs": [],
   "source": [
    "plot_output_ranges(base_quantiles,targets,['detection_rate'],indicator_names,indicator_legends,1,1980,2025, option='camau') #.write_image(DOCS_PATH /'camau/detection.png', scale=3)"
   ]
  },
  {
   "cell_type": "code",
   "execution_count": null,
   "metadata": {},
   "outputs": [],
   "source": [
    "plot_trial_output_ranges(base_quantiles,targets,['acf_detectionXact3_trialXorgan_pulmonary'],indicator_names,1,True).write_image(DOCS_PATH /'camau/trial_future.png', scale=3)"
   ]
  },
  {
   "cell_type": "code",
   "execution_count": null,
   "metadata": {},
   "outputs": [],
   "source": [
    "# target_plot.write_image(DOCS_PATH / \"targets2.png\", scale=3)"
   ]
  },
  {
   "cell_type": "code",
   "execution_count": null,
   "metadata": {},
   "outputs": [],
   "source": [
    "# spah.write_image(DOCS_PATH / 'spah.png', scale = 3)"
   ]
  },
  {
   "cell_type": "code",
   "execution_count": null,
   "metadata": {},
   "outputs": [],
   "source": [
    "# target_plot_history = plot_output_ranges(outputs['base_scenario'],targets,['total_population','notification','adults_prevalence_pulmonary'],1,1800,2010, history =True)"
   ]
  },
  {
   "cell_type": "code",
   "execution_count": null,
   "metadata": {},
   "outputs": [],
   "source": [
    "# target_plot_history"
   ]
  },
  {
   "cell_type": "code",
   "execution_count": null,
   "metadata": {},
   "outputs": [],
   "source": [
    "# target_plot_history.write_image(DOCS_PATH / 'targets_history.png', scale=3)"
   ]
  },
  {
   "cell_type": "code",
   "execution_count": null,
   "metadata": {},
   "outputs": [],
   "source": [
    "# compare_target_plot = plot_output_ranges(outputs['base_scenario'],targets,['incidence','mortality_raw','prevalence_smear_positive', 'percentage_latent'],2,2010,2025)"
   ]
  },
  {
   "cell_type": "code",
   "execution_count": null,
   "metadata": {},
   "outputs": [],
   "source": [
    "# compare_target_plot.write_image(DOCS_PATH / \"non_targets.png\", scale='3')"
   ]
  },
  {
   "cell_type": "code",
   "execution_count": null,
   "metadata": {},
   "outputs": [],
   "source": [
    "# compare_target_plot"
   ]
  },
  {
   "cell_type": "code",
   "execution_count": null,
   "metadata": {},
   "outputs": [],
   "source": [
    "# screening_plot.write_image(DOCS_PATH / 'screening_plot.png', scale =3)"
   ]
  },
  {
   "cell_type": "code",
   "execution_count": null,
   "metadata": {},
   "outputs": [],
   "source": [
    "# cdr_plot = plot_output_ranges(outputs['base_scenario']['quantiles'],targets,['case_notification_rate'],1,2010,2025)"
   ]
  },
  {
   "cell_type": "code",
   "execution_count": null,
   "metadata": {},
   "outputs": [],
   "source": [
    "# cdr_plot"
   ]
  },
  {
   "cell_type": "code",
   "execution_count": null,
   "metadata": {},
   "outputs": [],
   "source": [
    "# cdr_plot.write_image(DOCS_PATH / 'cdr_plot.png', scale =3)"
   ]
  },
  {
   "cell_type": "code",
   "execution_count": null,
   "metadata": {},
   "outputs": [],
   "source": [
    "# early_plot = plot_output_ranges(base_quantiles,targets,['incidence_early_prop'], indicator_names, indicator_legends,1,2000,2025).write_image(DOCS_PATH /'camau/early.png', scale=3)"
   ]
  }
 ],
 "metadata": {
  "kernelspec": {
   "display_name": "autumn",
   "language": "python",
   "name": "python3"
  },
  "language_info": {
   "codemirror_mode": {
    "name": "ipython",
    "version": 3
   },
   "file_extension": ".py",
   "mimetype": "text/x-python",
   "name": "python",
   "nbconvert_exporter": "python",
   "pygments_lexer": "ipython3",
   "version": "3.10.0"
  }
 },
 "nbformat": 4,
 "nbformat_minor": 2
}
