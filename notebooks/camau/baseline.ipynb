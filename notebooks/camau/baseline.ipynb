{
 "cells": [
  {
   "cell_type": "code",
   "execution_count": null,
   "metadata": {},
   "outputs": [],
   "source": [
    "import warnings\n",
    "warnings.filterwarnings(\"ignore\")\n",
    "import arviz as az\n",
    "import pickle\n",
    "from tbdynamics.calibration.plotting import plot_output_ranges, plot_trial_output_ranges\n",
    "from tbdynamics.tools.inputs import load_targets\n",
    "from tbdynamics.settings import CM_PATH, OUT_PATH, DOCS_PATH\n",
    "\n",
    "import numpy as np\n",
    "from  tbdynamics.camau.calibration.utils import get_bcm\n",
    "from tbdynamics.constants import QUANTILES\n",
    "from tbdynamics.camau.constants import indicator_legends, indicator_names\n",
    "from estival.sampling import tools as esamp\n"
   ]
  },
  {
   "cell_type": "code",
   "execution_count": null,
   "metadata": {},
   "outputs": [],
   "source": [
    "# loaded_inference_data = az.from_netcdf(OUT_PATH / 'inference_data1.nc')\n",
    "# idata = az.from_netcdf(OUT_PATH / 'extracted_idata.nc')\n",
    "params = {\n",
    "    \"start_population_size\": 30000.0,\n",
    "    \"seed_time\": 1805.0,\n",
    "    \"seed_num\": 1.0,\n",
    "    \"seed_duration\": 1.0,\n",
    "}\n",
    "targets = load_targets(CM_PATH / \"targets.yml\")"
   ]
  },
  {
   "cell_type": "code",
   "execution_count": null,
   "metadata": {},
   "outputs": [],
   "source": [
    "idata_raw = az.from_netcdf(OUT_PATH / 'camau/r1103/calib_full_out.nc')"
   ]
  },
  {
   "cell_type": "code",
   "execution_count": null,
   "metadata": {},
   "outputs": [],
   "source": [
    "burnt_idata = idata_raw.sel(draw=np.s_[2500:])"
   ]
  },
  {
   "cell_type": "code",
   "execution_count": null,
   "metadata": {},
   "outputs": [],
   "source": [
    "idata_extract = az.extract(burnt_idata, num_samples=500)"
   ]
  },
  {
   "cell_type": "code",
   "execution_count": null,
   "metadata": {},
   "outputs": [],
   "source": [
    "# outputs = calculate_scenario_outputs(params, idata)\n",
    "# with open(OUT_PATH / 'quant_outputs.pkl', 'wb') as f:\n",
    "#      pickle.dump(outputs, f)"
   ]
  },
  {
   "cell_type": "code",
   "execution_count": null,
   "metadata": {},
   "outputs": [],
   "source": [
    "# with open(OUT_PATH /'camau/quant_outputs.pkl', 'rb') as f:\n",
    "#     outputs = pickle.load(f)\n",
    "scenario_config = {\"detection_reduction\": True, \"contact_reduction\": False}\n",
    "\n",
    "    # Base scenario (calculate outputs for all indicators)\n",
    "bcm = get_bcm(params, scenario_config, homo_mixing=False)\n",
    "base_results = esamp.model_results_for_samples(idata_extract, bcm).results\n",
    "base_quantiles = esamp.quantiles_for_results(base_results, QUANTILES)"
   ]
  },
  {
   "cell_type": "code",
   "execution_count": null,
   "metadata": {},
   "outputs": [],
   "source": [
    "# with open(OUT_PATH / 'camau/best2.pkl', 'wb') as f:\n",
    "#      pickle.dump(base_quantiles, f)\n",
    "# with open(OUT_PATH / 'camau/best.pkl', 'rb') as f:\n",
    "#      base_quantiles = pickle.load(f)"
   ]
  },
  {
   "cell_type": "code",
   "execution_count": null,
   "metadata": {},
   "outputs": [],
   "source": [
    "# target_plot.write_image(DOCS_PATH / \"targets1.png\", scale=3)\n",
    "plot_output_ranges(base_quantiles,targets,[\"total_population\",\"act3_trial_adults_pop\", \"act3_control_adults_pop\"],indicator_names,indicator_legends,1,2010,2025) #.write_image(DOCS_PATH /'camau/pops.png', scale=3)"
   ]
  },
  {
   "cell_type": "code",
   "execution_count": null,
   "metadata": {},
   "outputs": [],
   "source": [
    "plot_output_ranges(base_quantiles,targets,['notification','percentage_latent'],indicator_names,indicator_legends,2,2010,2025, option='camau') #.write_image(DOCS_PATH /'camau/targets.png', scale=3)\n"
   ]
  },
  {
   "cell_type": "code",
   "execution_count": null,
   "metadata": {},
   "outputs": [],
   "source": [
    "plot_output_ranges(base_quantiles,targets,['incidence', 'prevalence_infectious', 'adults_prevalence_pulmonary','mortality'],indicator_names,indicator_legends,2,2010,2025, option='camau') #.write_image(DOCS_PATH /'camau/compare.png', scale=3)"
   ]
  },
  {
   "cell_type": "code",
   "execution_count": null,
   "metadata": {},
   "outputs": [],
   "source": [
    "plot_output_ranges(base_quantiles,targets,['detection_rate'],indicator_names,indicator_legends,1,1980,2025, option='camau')"
   ]
  },
  {
   "cell_type": "code",
   "execution_count": null,
   "metadata": {},
   "outputs": [],
   "source": [
    "plot_trial_output_ranges(base_quantiles,targets,['acf_detectionXact3_trialXorgan_pulmonary','acf_detectionXact3_controlXorgan_pulmonary'],indicator_names,2) #.write_image(DOCS_PATH /'camau/trial.png', scale=3)"
   ]
  },
  {
   "cell_type": "code",
   "execution_count": null,
   "metadata": {},
   "outputs": [],
   "source": [
    "# target_plot.write_image(DOCS_PATH / \"targets2.png\", scale=3)"
   ]
  },
  {
   "cell_type": "code",
   "execution_count": null,
   "metadata": {},
   "outputs": [],
   "source": [
    "# spah.write_image(DOCS_PATH / 'spah.png', scale = 3)"
   ]
  },
  {
   "cell_type": "code",
   "execution_count": null,
   "metadata": {},
   "outputs": [],
   "source": [
    "# target_plot_history = plot_output_ranges(outputs['base_scenario'],targets,['total_population','notification','adults_prevalence_pulmonary'],1,1800,2010, history =True)"
   ]
  },
  {
   "cell_type": "code",
   "execution_count": null,
   "metadata": {},
   "outputs": [],
   "source": [
    "# target_plot_history"
   ]
  },
  {
   "cell_type": "code",
   "execution_count": null,
   "metadata": {},
   "outputs": [],
   "source": [
    "# target_plot_history.write_image(DOCS_PATH / 'targets_history.png', scale=3)"
   ]
  },
  {
   "cell_type": "code",
   "execution_count": null,
   "metadata": {},
   "outputs": [],
   "source": [
    "# compare_target_plot = plot_output_ranges(outputs['base_scenario'],targets,['incidence','mortality_raw','prevalence_smear_positive', 'percentage_latent'],2,2010,2025)"
   ]
  },
  {
   "cell_type": "code",
   "execution_count": null,
   "metadata": {},
   "outputs": [],
   "source": [
    "# compare_target_plot.write_image(DOCS_PATH / \"non_targets.png\", scale='3')"
   ]
  },
  {
   "cell_type": "code",
   "execution_count": null,
   "metadata": {},
   "outputs": [],
   "source": [
    "# compare_target_plot"
   ]
  },
  {
   "cell_type": "code",
   "execution_count": null,
   "metadata": {},
   "outputs": [],
   "source": [
    "# screening_plot.write_image(DOCS_PATH / 'screening_plot.png', scale =3)"
   ]
  },
  {
   "cell_type": "code",
   "execution_count": null,
   "metadata": {},
   "outputs": [],
   "source": [
    "# cdr_plot = plot_output_ranges(outputs['base_scenario']['quantiles'],targets,['case_notification_rate'],1,2010,2025)"
   ]
  },
  {
   "cell_type": "code",
   "execution_count": null,
   "metadata": {},
   "outputs": [],
   "source": [
    "# cdr_plot"
   ]
  },
  {
   "cell_type": "code",
   "execution_count": null,
   "metadata": {},
   "outputs": [],
   "source": [
    "# cdr_plot.write_image(DOCS_PATH / 'cdr_plot.png', scale =3)"
   ]
  },
  {
   "cell_type": "code",
   "execution_count": null,
   "metadata": {},
   "outputs": [],
   "source": [
    "# early_plot = plot_output_ranges(outputs['base_scenario']['quantiles'],targets,['incidence_early_prop'] ,1,2010,2025)"
   ]
  },
  {
   "cell_type": "code",
   "execution_count": null,
   "metadata": {},
   "outputs": [],
   "source": [
    "early_plot"
   ]
  },
  {
   "cell_type": "code",
   "execution_count": null,
   "metadata": {},
   "outputs": [],
   "source": [
    "# early_plot.write_image(DOCS_PATH / 'early_plot.png', scale =3)"
   ]
  },
  {
   "cell_type": "code",
   "execution_count": null,
   "metadata": {},
   "outputs": [],
   "source": [
    "# # Simulate data extraction, replace with actual data extraction\n",
    "# data_early = outputs['base_scenario']['quantiles']['incidence_early_prop'][0.5].reset_index()\n",
    "# data_early['type'] = 'Early incidence'\n",
    "\n",
    "# data_late = outputs['base_scenario']['quantiles']['incidence_late_prop'][0.5].reset_index()\n",
    "# data_late['type'] = 'Late incidence'\n",
    "\n",
    "# # Combine dataframes\n",
    "# data_combined = pd.concat([data_early, data_late])\n",
    "# fig = px.area(data_combined, x='time', y=0.5, color='type',\n",
    "#               labels={0.5: 'Proportion (%)', 'time': ''},\n",
    "#               title='',\n",
    "#               range_x=[2000, 2025], range_y=[0,100])  # Update x-axis range\n",
    "\n",
    "# # Update layout to customize legend and axis range\n",
    "# fig.update_layout(\n",
    "#     xaxis=dict(\n",
    "#         title='',  # No x-axis title specified\n",
    "#         title_font=dict(size=12)  # Setting size even if title is not shown\n",
    "#     ),\n",
    "#     yaxis=dict(\n",
    "#         title='Incidence Proportion',\n",
    "#         title_font=dict(size=12)  # Specific font size for y-axis title\n",
    "#     ),\n",
    "#     legend_title_text='',  # Remove legend title\n",
    "#     legend=dict(\n",
    "#         orientation=\"h\",  # Horizontal legend\n",
    "#         yanchor=\"bottom\",\n",
    "#         y=-0.15,  # Position the legend below the plot\n",
    "#         xanchor=\"center\",\n",
    "#         x=0.5,\n",
    "#         font=dict(size=12)  # Font size for legend items\n",
    "#     ),\n",
    "#     margin=dict(l=20, r=20, t=20, b=50),  # Adjusted margins for better spacing\n",
    "#     font=dict(  # Apply font size adjustments\n",
    "#         family=\"Arial, sans-serif\",  # Set font family\n",
    "#         size=12,  # Default font size for other text elements\n",
    "#         color=\"black\"  # Font color\n",
    "#     )\n",
    "# )\n",
    "\n",
    "# fig.show()"
   ]
  },
  {
   "cell_type": "code",
   "execution_count": null,
   "metadata": {},
   "outputs": [],
   "source": [
    "# base_df = outputs['base_scenario']['quantiles']\n",
    "\n",
    "# # Calculate 80% of the original values for `prop_early_latent` and `prop_late_latent`\n",
    "\n",
    "\n",
    "# # Extract data for each compartment, label it, and store in a list\n",
    "# data_frames = []\n",
    "# for compartment in compartments:\n",
    "#     if f'prop_{compartment}' in base_df.columns:\n",
    "#         df = base_df[f'prop_{compartment}'][0.5].reset_index()  # Adjust this if your quantile structure is different\n",
    "#         df[0.5] *= 100  # Convert to percentage\n",
    "#         df['type'] = compartment.replace('_', ' ').capitalize()\n",
    "#         data_frames.append(df)\n",
    "\n",
    "# # Combine all compartment data into one DataFrame for plotting\n",
    "# combined_data = pd.concat(data_frames)\n",
    "\n",
    "# # Plot using Plotly Express\n",
    "# fig = px.area(combined_data, x='time', y=0.5, color='type',\n",
    "#               labels={'0.5': 'Proportion (%)', 'time': 'Time'},\n",
    "#               title='', range_x=[1980, 2025], range_y=[0, 100])\n",
    "\n",
    "# # Update layout\n",
    "# fig.update_layout(\n",
    "#     xaxis=dict(title='', title_font=dict(size=12)),\n",
    "#     yaxis=dict(title='<b>Proportion (%)</b>', title_font=dict(size=12), title_standoff=0),\n",
    "#     legend_title_text='',\n",
    "#     legend=dict(\n",
    "#         orientation=\"h\",\n",
    "#         yanchor=\"bottom\",\n",
    "#         y=-0.2,\n",
    "#         xanchor=\"center\",\n",
    "#         x=0.5,\n",
    "#         font=dict(size=12)\n",
    "#     ),\n",
    "#     height=320,  # Set the figure height\n",
    "#     margin=dict(l=10, r=5, t=10, b=40),\n",
    "#     font=dict(family=\"Arial, sans-serif\", size=12, color=\"black\")\n",
    "# )\n",
    "\n",
    "# # Show the plot\n",
    "# fig.show()\n"
   ]
  },
  {
   "cell_type": "code",
   "execution_count": null,
   "metadata": {},
   "outputs": [],
   "source": [
    "# fig.write_image(DOCS_PATH / 'comps.png', scale =3)"
   ]
  }
 ],
 "metadata": {
  "kernelspec": {
   "display_name": "tbdyn",
   "language": "python",
   "name": "python3"
  },
  "language_info": {
   "codemirror_mode": {
    "name": "ipython",
    "version": 3
   },
   "file_extension": ".py",
   "mimetype": "text/x-python",
   "name": "python",
   "nbconvert_exporter": "python",
   "pygments_lexer": "ipython3",
   "version": "3.10.13"
  }
 },
 "nbformat": 4,
 "nbformat_minor": 2
}
