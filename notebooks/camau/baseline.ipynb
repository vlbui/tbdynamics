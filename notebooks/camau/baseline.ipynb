{
 "cells": [
  {
   "cell_type": "code",
   "execution_count": null,
   "metadata": {},
   "outputs": [],
   "source": [
    "import warnings\n",
    "warnings.filterwarnings(\"ignore\")\n",
    "import arviz as az\n",
    "import pandas as pd\n",
    "import plotly.express as px\n",
    "import numpy as np\n",
    "from tbdynamics.camau.calibration.utils import get_bcm, calculate_future_acf_outputs\n",
    "from tbdynamics.calibration.plotting import plot_output_ranges, plot_trial_output_ranges\n",
    "from tbdynamics.tools.inputs import load_targets\n",
    "from tbdynamics.settings import CM_PATH, OUT_PATH, DOCS_PATH\n",
    "from tbdynamics.constants import QUANTILES\n",
    "from tbdynamics.camau.constants import indicator_legends, indicator_names\n",
    "import estival.sampling.tools as esamp\n",
    "from typing import Dict, Optional, List\n",
    "from tbdynamics.tools.detect import make_future_acf_scenarios\n",
    "import pickle"
   ]
  },
  {
   "cell_type": "code",
   "execution_count": null,
   "metadata": {},
   "outputs": [],
   "source": [
    "pd.options.plotting.backend = \"plotly\""
   ]
  },
  {
   "cell_type": "code",
   "execution_count": null,
   "metadata": {},
   "outputs": [],
   "source": [
    "# loaded_inference_data = az.from_netcdf(OUT_PATH / 'inference_data1.nc')\n",
    "# idata = az.from_netcdf(OUT_PATH / 'extracted_idata.nc')\n",
    "params = {\n",
    "    \"start_population_size\": 30000.0,\n",
    "    \"seed_time\": 1805.0,\n",
    "    \"seed_num\": 1.0,\n",
    "    \"seed_duration\": 1.0,\n",
    "    \"rr_infection_latent\": 0.1890473700762809,\n",
    "    \"rr_infection_recovered\": 0.17781844797545143,\n",
    "    \"smear_positive_death_rate\": 0.3655528915762244,\n",
    "    \"smear_negative_death_rate\": 0.027358324164819155,\n",
    "    \"smear_positive_self_recovery\": 0.18600338108638945,\n",
    "    \"smear_negative_self_recovery\": 0.11333894801537307,\n",
    "    \"screening_scaleup_shape\": 0.3,\n",
    "    \"screening_inflection_time\": 1993,\n",
    "    \"acf_sensitivity\": 0.90,\n",
    "}\n",
    "targets = load_targets(CM_PATH / \"targets.yml\")"
   ]
  },
  {
   "cell_type": "code",
   "execution_count": null,
   "metadata": {},
   "outputs": [],
   "source": [
    "idata_raw = az.from_netcdf(OUT_PATH / 'camau/best/calib_full_out.nc')"
   ]
  },
  {
   "cell_type": "code",
   "execution_count": null,
   "metadata": {},
   "outputs": [],
   "source": [
    "burnt_idata = idata_raw.sel(draw=np.s_[50000:])\n",
    "idata_extract = az.extract(burnt_idata, num_samples=300)"
   ]
  },
  {
   "cell_type": "code",
   "execution_count": null,
   "metadata": {},
   "outputs": [],
   "source": [
    "# outputs = calculate_scenario_outputs(params, idata)\n",
    "# with open(OUT_PATH / 'quant_outputs.pkl', 'wb') as f:\n",
    "#      pickle.dump(outputs, f)"
   ]
  },
  {
   "cell_type": "code",
   "execution_count": null,
   "metadata": {},
   "outputs": [],
   "source": [
    "# with open(OUT_PATH /'camau/quant_outputs.pkl', 'rb') as f:\n",
    "#     outputs = pickle.load(f)\n",
    "covid_effects = {\"detection_reduction\": True, \"contact_reduction\": False}\n",
    "\n",
    "#     # Base scenario (calculate outputs for all indicators)\n",
    "bcm = get_bcm(params, covid_effects)\n",
    "base_results = esamp.model_results_for_samples(idata_extract, bcm).results\n",
    "base_quantiles = esamp.quantiles_for_results(base_results, QUANTILES)"
   ]
  },
  {
   "cell_type": "code",
   "execution_count": null,
   "metadata": {},
   "outputs": [],
   "source": [
    "# base_quantiles.to_pickle(OUT_PATH / 'camau/output0304.pkl')\n",
    "# base_quantiles = pd.read_pickle(OUT_PATH / 'camau/output0304.pkl')"
   ]
  },
  {
   "cell_type": "code",
   "execution_count": null,
   "metadata": {},
   "outputs": [],
   "source": [
    "# target_plot.write_image(DOCS_PATH / \"targets1.png\", scale=3)\n",
    "plot_output_ranges(base_quantiles,targets,[\"total_population\",\"act3_trial_adults_pop\", \"act3_control_adults_pop\"],indicator_names,indicator_legends,1,2010,2025, option = 'camau') #.write_image(DOCS_PATH /'camau/pops.png', scale=3)"
   ]
  },
  {
   "cell_type": "code",
   "execution_count": null,
   "metadata": {},
   "outputs": [],
   "source": [
    "plot_output_ranges(base_quantiles,targets,['notification','percentage_latent_adults'],indicator_names,indicator_legends,2,2010,2025, option='camau') #.write_image(DOCS_PATH /'camau/targets.png', scale=3)\n"
   ]
  },
  {
   "cell_type": "code",
   "execution_count": null,
   "metadata": {},
   "outputs": [],
   "source": [
    "plot_output_ranges(base_quantiles,targets,['incidence', 'prevalence_pulmonary', 'adults_prevalence_pulmonary','mortality'],indicator_names,indicator_legends,2,2010,2025, option='camau') #.write_image(DOCS_PATH /'camau/compare.png', scale=3)"
   ]
  },
  {
   "cell_type": "code",
   "execution_count": null,
   "metadata": {},
   "outputs": [],
   "source": [
    "# plot_output_ranges(base_quantiles,targets,['detection_rate'],indicator_names,indicator_legends,1,1980,2025)"
   ]
  },
  {
   "cell_type": "code",
   "execution_count": null,
   "metadata": {},
   "outputs": [],
   "source": [
    "# plot_output_ranges(base_quantiles,targets,['incidence', 'prevalence_pulmonary', 'adults_prevalence_pulmonary','mortality'],indicator_names,indicator_legends,2,2010,2025, option='camau')"
   ]
  },
  {
   "cell_type": "code",
   "execution_count": null,
   "metadata": {},
   "outputs": [],
   "source": [
    "# plot_trial_output_ranges(base_quantiles,targets,['acf_detectionXact3_trial','acf_detectionXact3_control'],indicator_names,2) #.write_image(DOCS_PATH /'camau/trial.png', scale=3)"
   ]
  },
  {
   "cell_type": "code",
   "execution_count": null,
   "metadata": {},
   "outputs": [],
   "source": [
    "arms = ['act3_trial', 'act3_control', 'act3_other']\n",
    "metrics = ['incidenceX', 'prevalence_infectiousX']\n",
    "indicators = [f\"{metric}{arm}\" for arm in arms for metric in metrics]\n",
    "plot_output_ranges(\n",
    "    base_quantiles,\n",
    "    targets,\n",
    "    indicators,\n",
    "    indicator_names,\n",
    "    indicator_legends,\n",
    "    2,\n",
    "    2010,\n",
    "    2025,\n",
    "    option='camau',\n",
    ") #.write_image(DOCS_PATH / 'camau/output_arms.png', scale=3)"
   ]
  },
  {
   "cell_type": "code",
   "execution_count": null,
   "metadata": {},
   "outputs": [],
   "source": [
    "# target_plot.write_image(DOCS_PATH / \"targets2.png\", scale=3)"
   ]
  },
  {
   "cell_type": "code",
   "execution_count": null,
   "metadata": {},
   "outputs": [],
   "source": [
    "# spah.write_image(DOCS_PATH / 'spah.png', scale = 3)"
   ]
  },
  {
   "cell_type": "code",
   "execution_count": null,
   "metadata": {},
   "outputs": [],
   "source": [
    "# target_plot_history = plot_output_ranges(outputs['base_scenario'],targets,['total_population','notification','adults_prevalence_pulmonary'],1,1800,2010, history =True)"
   ]
  },
  {
   "cell_type": "code",
   "execution_count": null,
   "metadata": {},
   "outputs": [],
   "source": [
    "# target_plot_history"
   ]
  },
  {
   "cell_type": "code",
   "execution_count": null,
   "metadata": {},
   "outputs": [],
   "source": [
    "# target_plot_history.write_image(DOCS_PATH / 'targets_history.png', scale=3)"
   ]
  },
  {
   "cell_type": "code",
   "execution_count": null,
   "metadata": {},
   "outputs": [],
   "source": [
    "# compare_target_plot = plot_output_ranges(outputs['base_scenario'],targets,['incidence','mortality_raw','prevalence_smear_positive', 'percentage_latent'],2,2010,2025)"
   ]
  },
  {
   "cell_type": "code",
   "execution_count": null,
   "metadata": {},
   "outputs": [],
   "source": [
    "# compare_target_plot.write_image(DOCS_PATH / \"non_targets.png\", scale='3')"
   ]
  },
  {
   "cell_type": "code",
   "execution_count": null,
   "metadata": {},
   "outputs": [],
   "source": [
    "# compare_target_plot"
   ]
  },
  {
   "cell_type": "code",
   "execution_count": null,
   "metadata": {},
   "outputs": [],
   "source": [
    "# screening_plot.write_image(DOCS_PATH / 'screening_plot.png', scale =3)"
   ]
  },
  {
   "cell_type": "code",
   "execution_count": null,
   "metadata": {},
   "outputs": [],
   "source": [
    "# cdr_plot = plot_output_ranges(outputs['base_scenario']['quantiles'],targets,['case_notification_rate'],1,2010,2025)"
   ]
  },
  {
   "cell_type": "code",
   "execution_count": null,
   "metadata": {},
   "outputs": [],
   "source": [
    "# cdr_plot.write_image(DOCS_PATH / 'cdr_plot.png', scale =3)"
   ]
  },
  {
   "cell_type": "code",
   "execution_count": null,
   "metadata": {},
   "outputs": [],
   "source": [
    "# early_plot = plot_output_ranges(base_quantiles,targets,['incidence_early_prop'], indicator_names, indicator_legends,1,2000,2025) #.write_image(DOCS_PATH /'camau/early.png', scale=3)"
   ]
  },
  {
   "cell_type": "code",
   "execution_count": null,
   "metadata": {},
   "outputs": [],
   "source": [
    "config = {\n",
    "    \"arm\": [\"trial\", \"control\", \"other\"],\n",
    "    \"every\": [2,4],\n",
    "    \"coverage\": [0.8],\n",
    "}\n",
    "future_acf_scenarios = make_future_acf_scenarios(config)"
   ]
  },
  {
   "cell_type": "code",
   "execution_count": null,
   "metadata": {},
   "outputs": [],
   "source": [
    "future_acf_scenarios"
   ]
  },
  {
   "cell_type": "code",
   "execution_count": null,
   "metadata": {},
   "outputs": [],
   "source": [
    "request_outputs = [\n",
    "    \"notification\",\n",
    "    \"acf_notification\",\n",
    "    \"incidence_raw\",\n",
    "    \"mortality_raw\",\n",
    "    \"prevalence_infectious\",\n",
    "    \"prevalence_pulmonary\",\n",
    "    \"incidence\",\n",
    "    \"notificationXact3_trial\",\n",
    "    \"acf_detectionXact3_trial\",\n",
    "    \"mortality_infectious_rawXact3_trial\",\n",
    "    \"mortality_rateXact3_trial\",\n",
    "    \"cumulative_deathsXact3_trial\",\n",
    "    \"cumulative_diseasedXact3_trial\",\n",
    "    \"prevalence_infectiousXact3_trial\",\n",
    "    \"incidenceXact3_trial\",\n",
    "    \"act3_trial_adults_prevalence\",\n",
    "    \"incidence_adults\"\n",
    "]"
   ]
  },
  {
   "cell_type": "code",
   "execution_count": null,
   "metadata": {},
   "outputs": [],
   "source": [
    "prov_outputs = calculate_future_acf_outputs(params=params, idata_extract=idata_extract,covid_effects=covid_effects, future_acf_scenarios=future_acf_scenarios, request_outputs=request_outputs)"
   ]
  },
  {
   "cell_type": "code",
   "execution_count": null,
   "metadata": {},
   "outputs": [],
   "source": [
    "prov_outputs['status-quo'] = base_quantiles[request_outputs]"
   ]
  },
  {
   "cell_type": "code",
   "execution_count": null,
   "metadata": {},
   "outputs": [],
   "source": [
    "# with open(OUT_PATH / \"camau/prov_scenario.pkl\", \"wb\") as f:\n",
    "#     pickle.dump(prov_outputs, f, protocol=pickle.HIGHEST_PROTOCOL)"
   ]
  },
  {
   "cell_type": "code",
   "execution_count": null,
   "metadata": {},
   "outputs": [],
   "source": [
    "def calculate_diff_cumulative_from_output_dict(\n",
    "    output_dict: Dict[str, pd.DataFrame],\n",
    "    cumulative_start_time: float = 2020.0,\n",
    "    years: List[int] = [2030, 2035],\n",
    "    quantiles: List[float] = QUANTILES,\n",
    "    indicators: List[str] = [\"incidence_raw\", \"mortality_raw\"],\n",
    "    base_scenario_key: str = \"status-quo\",\n",
    ") -> Dict[str, Dict[str, Dict[str, pd.DataFrame]]]:\n",
    "    \"\"\"\n",
    "    Loop through scenario results and compute quantiles of cumulative diff vs base.\n",
    "    Automatically renames indicators for downstream plotting compatibility.\n",
    "    \n",
    "    Returns:\n",
    "        Dict[scenario][abs/rel][indicator] = quantile DataFrames\n",
    "    \"\"\"\n",
    "    # Map raw indicators to standardized names\n",
    "    rename_map = {\n",
    "        \"incidence_raw\": \"cumulative_diseased\",\n",
    "        \"mortality_raw\": \"cumulative_deaths\"\n",
    "    }\n",
    "\n",
    "    base_df = output_dict[base_scenario_key]\n",
    "\n",
    "    # Calculate base cumulative sums\n",
    "    base_cum = {}\n",
    "    yearly_base = base_df.loc[\n",
    "        (base_df.index >= cumulative_start_time) & (base_df.index % 1 == 0)\n",
    "    ]\n",
    "    for ind in indicators:\n",
    "        base_cum[ind] = yearly_base[ind].cumsum()\n",
    "\n",
    "    diff_results = {}\n",
    "\n",
    "    for scenario, df in output_dict.items():\n",
    "        if scenario == base_scenario_key:\n",
    "            continue\n",
    "\n",
    "        yearly_data = df.loc[\n",
    "            (df.index >= cumulative_start_time) & (df.index % 1 == 0)\n",
    "        ]\n",
    "        abs_diff = {}\n",
    "        rel_diff = {}\n",
    "\n",
    "        for ind in indicators:\n",
    "            cum = yearly_data[ind].cumsum()\n",
    "            abs_ = cum - base_cum[ind]\n",
    "            rel_ = abs_ / base_cum[ind] * 100\n",
    "\n",
    "            abs_df = pd.DataFrame(\n",
    "                {q: [abs_.loc[year].quantile(q) for year in years] for q in quantiles},\n",
    "                index=years,\n",
    "            )\n",
    "            rel_df = pd.DataFrame(\n",
    "                {q: [rel_.loc[year].quantile(q) for year in years] for q in quantiles},\n",
    "                index=years,\n",
    "            )\n",
    "\n",
    "            renamed = rename_map.get(ind, ind)\n",
    "            abs_diff[renamed] = abs_df\n",
    "            rel_diff[renamed] = rel_df\n",
    "\n",
    "        diff_results[scenario] = {\"abs\": abs_diff, \"rel\": rel_diff}\n",
    "\n",
    "    return diff_results"
   ]
  },
  {
   "cell_type": "code",
   "execution_count": null,
   "metadata": {},
   "outputs": [],
   "source": [
    "temp = calculate_diff_cumulative_from_output_dict(prov_outputs, years=[2035])"
   ]
  },
  {
   "cell_type": "code",
   "execution_count": null,
   "metadata": {},
   "outputs": [],
   "source": [
    "temp"
   ]
  },
  {
   "cell_type": "code",
   "execution_count": null,
   "metadata": {},
   "outputs": [],
   "source": [
    "from tbdynamics.calibration.plotting import plot_detection_scenarios_comparison_box"
   ]
  },
  {
   "cell_type": "code",
   "execution_count": null,
   "metadata": {},
   "outputs": [],
   "source": [
    "plot_detection_scenarios_comparison_box(temp)"
   ]
  },
  {
   "cell_type": "code",
   "execution_count": null,
   "metadata": {},
   "outputs": [],
   "source": [
    "def calculate_act3_effect(\n",
    "    output_dict: Dict[str, pd.DataFrame],\n",
    "    indicators: List[str] = [\"incidence_raw\", \"mortality_raw\"],\n",
    "    base_scenario_key: str = \"status-quo\",\n",
    ") -> Dict[str, pd.DataFrame]:\n",
    "    \"\"\"\n",
    "    Calculate the effect of ACT3 on specified indicators.\n",
    "    \n",
    "    Returns:\n",
    "        DataFrame with quantiles of the difference between ACT3 and base scenario.\n",
    "    \"\"\"\n",
    "    base_df = output_dict[base_scenario_key]\n",
    "    act3_df = output_dict[\"act3_trial\"]\n",
    "\n",
    "    results = {}\n",
    "    for ind in indicators:\n",
    "        base_cum = base_df[ind].cumsum()\n",
    "        act3_cum = act3_df[ind].cumsum()\n",
    "        diff = act3_cum - base_cum\n",
    "\n",
    "        results[ind] = pd.DataFrame(\n",
    "            {q: [diff.quantile(q)] for q in QUANTILES},\n",
    "            index=[f\"{ind}_act3_effect\"]\n",
    "        )\n",
    "\n",
    "    return results"
   ]
  },
  {
   "cell_type": "code",
   "execution_count": null,
   "metadata": {},
   "outputs": [],
   "source": [
    "def calculate_act3_effect(\n",
    "    params: Dict[str, float],\n",
    "    idata_extract: az.InferenceData,\n",
    "    covid_effects: Dict[str, bool],\n",
    "    cumulative_start_time: float = 2020.0,\n",
    "    years: List[int] = [2030, 2035],\n",
    "    quantiles: List[float] = QUANTILES,\n",
    "    indicators: List[str] = [\"incidence_raw\", \"mortality_raw\"],\n",
    ") -> Dict[str, Dict[str, Dict[str, pd.DataFrame]]]:\n",
    "    \"\"\"\n",
    "    Compare ACT3-style ACF (acf=True) vs no ACF (acf=False) under same COVID effects.\n",
    "    Returns quantiles of absolute and relative differences in cumulative indicators.\n",
    "\n",
    "    Output indicators: cumulative_diseased and cumulative_deaths\n",
    "    \"\"\"\n",
    "\n",
    "    # ACF ON (status-quo)\n",
    "    bcm_acf = get_bcm(params, covid_effects)\n",
    "    results_acf = esamp.model_results_for_samples(idata_extract, bcm_acf).results\n",
    "    yearly_acf = results_acf.loc[\n",
    "        (results_acf.index >= cumulative_start_time) & (results_acf.index % 1 == 0)\n",
    "    ]\n",
    "    base_cum = {ind: yearly_acf[ind].cumsum() for ind in indicators}\n",
    "\n",
    "    # ACF OFF\n",
    "    bcm_no_acf = get_bcm(params, covid_effects, implement_act3=False)\n",
    "    results_no_acf = esamp.model_results_for_samples(idata_extract, bcm_no_acf).results\n",
    "    yearly_no_acf = results_no_acf.loc[\n",
    "        (results_no_acf.index >= cumulative_start_time) & (results_no_acf.index % 1 == 0)\n",
    "    ]\n",
    "\n",
    "    abs_diff = {}\n",
    "    rel_diff = {}\n",
    "\n",
    "    rename_map = {\n",
    "        \"incidence_raw\": \"cumulative_diseased\",\n",
    "        \"mortality_raw\": \"cumulative_deaths\"\n",
    "    }\n",
    "\n",
    "    for ind in indicators:\n",
    "        cum = yearly_no_acf[ind].cumsum()\n",
    "        abs_ = cum - base_cum[ind]\n",
    "        rel_ = abs_ / base_cum[ind] * 100\n",
    "\n",
    "        abs_df = pd.DataFrame(\n",
    "            {q: [abs_.loc[year].quantile(q) for year in years] for q in quantiles},\n",
    "            index=years,\n",
    "        )\n",
    "        rel_df = pd.DataFrame(\n",
    "            {q: [rel_.loc[year].quantile(q) for year in years] for q in quantiles},\n",
    "            index=years,\n",
    "        )\n",
    "\n",
    "        renamed = rename_map.get(ind, ind)\n",
    "        abs_diff[renamed] = abs_df\n",
    "        rel_diff[renamed] = rel_df\n",
    "\n",
    "    return {\"no_acf\": {\"abs\": abs_diff, \"rel\": rel_diff}}"
   ]
  },
  {
   "cell_type": "code",
   "execution_count": null,
   "metadata": {},
   "outputs": [],
   "source": [
    "act3_effect = calculate_act3_effect(\n",
    "    params=params,\n",
    "    idata_extract=idata_extract,\n",
    "    covid_effects=covid_effects,\n",
    "    cumulative_start_time=2014,\n",
    "    years=[2020],\n",
    "    quantiles=QUANTILES,\n",
    "    indicators=[\"incidence_raw\", \"mortality_raw\"],\n",
    ")"
   ]
  }
 ],
 "metadata": {
  "kernelspec": {
   "display_name": "tbdyn",
   "language": "python",
   "name": "python3"
  },
  "language_info": {
   "codemirror_mode": {
    "name": "ipython",
    "version": 3
   },
   "file_extension": ".py",
   "mimetype": "text/x-python",
   "name": "python",
   "nbconvert_exporter": "python",
   "pygments_lexer": "ipython3",
   "version": "3.10.16"
  }
 },
 "nbformat": 4,
 "nbformat_minor": 2
}
