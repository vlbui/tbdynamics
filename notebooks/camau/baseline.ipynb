{
 "cells": [
  {
   "cell_type": "code",
   "execution_count": null,
   "metadata": {},
   "outputs": [],
   "source": [
    "import warnings\n",
    "warnings.filterwarnings(\"ignore\")\n",
    "import arviz as az\n",
    "import pandas as pd\n",
    "import plotly.express as px\n",
    "import numpy as np\n",
    "from tbdynamics.camau.calibration.utils import get_bcm\n",
    "from tbdynamics.calibration.plotting import plot_output_ranges, plot_trial_output_ranges\n",
    "from tbdynamics.tools.inputs import load_targets\n",
    "from tbdynamics.settings import CM_PATH, OUT_PATH, DOCS_PATH\n",
    "from tbdynamics.constants import QUANTILES\n",
    "from tbdynamics.camau.constants import indicator_legends, indicator_names\n",
    "import estival.sampling.tools as esamp\n",
    "from typing import Dict, Optional\n",
    "from tbdynamics.tools.detect import make_future_acf_scenarios"
   ]
  },
  {
   "cell_type": "code",
   "execution_count": null,
   "metadata": {},
   "outputs": [],
   "source": [
    "# loaded_inference_data = az.from_netcdf(OUT_PATH / 'inference_data1.nc')\n",
    "# idata = az.from_netcdf(OUT_PATH / 'extracted_idata.nc')\n",
    "params = {\n",
    "    \"start_population_size\": 30000.0,\n",
    "    \"seed_time\": 1805.0,\n",
    "    \"seed_num\": 1.0,\n",
    "    \"seed_duration\": 1.0,\n",
    "    # \"contact_rate\": 0.02,\n",
    "    \"rr_infection_latent\": 0.1890473700762809,\n",
    "    \"rr_infection_recovered\": 0.17781844797545143,\n",
    "    \"smear_positive_death_rate\": 0.3655528915762244,\n",
    "    \"smear_negative_death_rate\": 0.027358324164819155,\n",
    "    \"smear_positive_self_recovery\": 0.18600338108638945,\n",
    "    \"smear_negative_self_recovery\": 0.11333894801537307,\n",
    "    \"screening_scaleup_shape\": 0.3,\n",
    "    \"screening_inflection_time\": 1993,\n",
    "    # \"time_to_screening_end_asymp\": 2.1163556520843936,\n",
    "    \"acf_sensitivity\": 0.90,\n",
    "    # \"prop_mixing_same_stratum\": 0.6920672992582717,\n",
    "    # \"early_prop_adjuster\": -0.017924441638418186,\n",
    "    # \"late_reactivation_adjuster\": 1.1083422207175728,\n",
    "    # \"total_population_dispersion\": 3644.236227852164,\n",
    "    # \"notif_dispersion\": 88.37092488550051,\n",
    "    # \"latent_dispersion\": 7.470896188551709,\n",
    "}\n",
    "targets = load_targets(CM_PATH / \"targets.yml\")"
   ]
  },
  {
   "cell_type": "code",
   "execution_count": null,
   "metadata": {},
   "outputs": [],
   "source": [
    "idata_raw = az.from_netcdf(OUT_PATH / 'camau/best/calib_full_out.nc')"
   ]
  },
  {
   "cell_type": "code",
   "execution_count": null,
   "metadata": {},
   "outputs": [],
   "source": [
    "burnt_idata = idata_raw.sel(draw=np.s_[5000:])\n",
    "idata_extract = az.extract(burnt_idata, num_samples=300)"
   ]
  },
  {
   "cell_type": "code",
   "execution_count": null,
   "metadata": {},
   "outputs": [],
   "source": [
    "# outputs = calculate_scenario_outputs(params, idata)\n",
    "# with open(OUT_PATH / 'quant_outputs.pkl', 'wb') as f:\n",
    "#      pickle.dump(outputs, f)"
   ]
  },
  {
   "cell_type": "code",
   "execution_count": null,
   "metadata": {},
   "outputs": [],
   "source": [
    "# with open(OUT_PATH /'camau/quant_outputs.pkl', 'rb') as f:\n",
    "#     outputs = pickle.load(f)\n",
    "covid_effects = {\"detection_reduction\": True, \"contact_reduction\": False}\n",
    "\n",
    "#     # Base scenario (calculate outputs for all indicators)\n",
    "bcm = get_bcm(params, covid_effects)\n",
    "base_results = esamp.model_results_for_samples(idata_extract, bcm).results\n",
    "base_quantiles = esamp.quantiles_for_results(base_results, QUANTILES)"
   ]
  },
  {
   "cell_type": "code",
   "execution_count": null,
   "metadata": {},
   "outputs": [],
   "source": [
    "# base_quantiles.to_pickle(OUT_PATH / 'camau/output0304.pkl')\n",
    "# base_quantiles = pd.read_pickle(OUT_PATH / 'camau/output0304.pkl')"
   ]
  },
  {
   "cell_type": "code",
   "execution_count": null,
   "metadata": {},
   "outputs": [],
   "source": [
    "# target_plot.write_image(DOCS_PATH / \"targets1.png\", scale=3)\n",
    "plot_output_ranges(base_quantiles,targets,[\"total_population\",\"act3_trial_adults_pop\", \"act3_control_adults_pop\"],indicator_names,indicator_legends,1,2010,2025, option = 'camau') #.write_image(DOCS_PATH /'camau/pops.png', scale=3)"
   ]
  },
  {
   "cell_type": "code",
   "execution_count": null,
   "metadata": {},
   "outputs": [],
   "source": [
    "plot_output_ranges(base_quantiles,targets,['notification','percentage_latent_adults'],indicator_names,indicator_legends,2,2010,2025, option='camau') #.write_image(DOCS_PATH /'camau/targets.png', scale=3)\n"
   ]
  },
  {
   "cell_type": "code",
   "execution_count": null,
   "metadata": {},
   "outputs": [],
   "source": [
    "plot_output_ranges(base_quantiles,targets,['incidence', 'prevalence_pulmonary', 'adults_prevalence_pulmonary','mortality'],indicator_names,indicator_legends,2,2010,2025, option='camau') #.write_image(DOCS_PATH /'camau/compare.png', scale=3)"
   ]
  },
  {
   "cell_type": "code",
   "execution_count": null,
   "metadata": {},
   "outputs": [],
   "source": [
    "plot_output_ranges(base_quantiles,targets,['detection_rate'],indicator_names,indicator_legends,1,1980,2025)"
   ]
  },
  {
   "cell_type": "code",
   "execution_count": null,
   "metadata": {},
   "outputs": [],
   "source": [
    "plot_output_ranges(base_quantiles,targets,['incidence', 'prevalence_pulmonary', 'adults_prevalence_pulmonary','mortality'],indicator_names,indicator_legends,2,2010,2025, option='camau')"
   ]
  },
  {
   "cell_type": "code",
   "execution_count": null,
   "metadata": {},
   "outputs": [],
   "source": [
    "plot_trial_output_ranges(base_quantiles,targets,['acf_detectionXact3_trial','acf_detectionXact3_control'],indicator_names,2) #.write_image(DOCS_PATH /'camau/trial.png', scale=3)"
   ]
  },
  {
   "cell_type": "code",
   "execution_count": null,
   "metadata": {},
   "outputs": [],
   "source": [
    "arms = ['act3_trial', 'act3_control', 'act3_other']\n",
    "metrics = ['incidenceX', 'prevalence_infectiousX']\n",
    "indicators = [f\"{metric}{arm}\" for arm in arms for metric in metrics]\n",
    "plot_output_ranges(\n",
    "    base_quantiles,\n",
    "    targets,\n",
    "    indicators,\n",
    "    indicator_names,\n",
    "    indicator_legends,\n",
    "    2,\n",
    "    2010,\n",
    "    2025,\n",
    "    option='camau',\n",
    ") #.write_image(DOCS_PATH / 'camau/output_arms.png', scale=3)"
   ]
  },
  {
   "cell_type": "code",
   "execution_count": null,
   "metadata": {},
   "outputs": [],
   "source": [
    "# target_plot.write_image(DOCS_PATH / \"targets2.png\", scale=3)"
   ]
  },
  {
   "cell_type": "code",
   "execution_count": null,
   "metadata": {},
   "outputs": [],
   "source": [
    "# spah.write_image(DOCS_PATH / 'spah.png', scale = 3)"
   ]
  },
  {
   "cell_type": "code",
   "execution_count": null,
   "metadata": {},
   "outputs": [],
   "source": [
    "# target_plot_history = plot_output_ranges(outputs['base_scenario'],targets,['total_population','notification','adults_prevalence_pulmonary'],1,1800,2010, history =True)"
   ]
  },
  {
   "cell_type": "code",
   "execution_count": null,
   "metadata": {},
   "outputs": [],
   "source": [
    "# target_plot_history"
   ]
  },
  {
   "cell_type": "code",
   "execution_count": null,
   "metadata": {},
   "outputs": [],
   "source": [
    "# target_plot_history.write_image(DOCS_PATH / 'targets_history.png', scale=3)"
   ]
  },
  {
   "cell_type": "code",
   "execution_count": null,
   "metadata": {},
   "outputs": [],
   "source": [
    "# compare_target_plot = plot_output_ranges(outputs['base_scenario'],targets,['incidence','mortality_raw','prevalence_smear_positive', 'percentage_latent'],2,2010,2025)"
   ]
  },
  {
   "cell_type": "code",
   "execution_count": null,
   "metadata": {},
   "outputs": [],
   "source": [
    "# compare_target_plot.write_image(DOCS_PATH / \"non_targets.png\", scale='3')"
   ]
  },
  {
   "cell_type": "code",
   "execution_count": null,
   "metadata": {},
   "outputs": [],
   "source": [
    "# compare_target_plot"
   ]
  },
  {
   "cell_type": "code",
   "execution_count": null,
   "metadata": {},
   "outputs": [],
   "source": [
    "# screening_plot.write_image(DOCS_PATH / 'screening_plot.png', scale =3)"
   ]
  },
  {
   "cell_type": "code",
   "execution_count": null,
   "metadata": {},
   "outputs": [],
   "source": [
    "# cdr_plot = plot_output_ranges(outputs['base_scenario']['quantiles'],targets,['case_notification_rate'],1,2010,2025)"
   ]
  },
  {
   "cell_type": "code",
   "execution_count": null,
   "metadata": {},
   "outputs": [],
   "source": [
    "# cdr_plot.write_image(DOCS_PATH / 'cdr_plot.png', scale =3)"
   ]
  },
  {
   "cell_type": "code",
   "execution_count": null,
   "metadata": {},
   "outputs": [],
   "source": [
    "# early_plot = plot_output_ranges(base_quantiles,targets,['incidence_early_prop'], indicator_names, indicator_legends,1,2000,2025) #.write_image(DOCS_PATH /'camau/early.png', scale=3)"
   ]
  },
  {
   "cell_type": "code",
   "execution_count": null,
   "metadata": {},
   "outputs": [],
   "source": [
    "def calculate_future_acf_outputs(\n",
    "    params: Dict[str, float],\n",
    "    idata_extract: az.InferenceData,\n",
    "    covid_effects: Optional[Dict[str, bool]] = None,\n",
    "    future_acf_scenarios: Dict[str, Dict[float, float]]=None,\n",
    ") -> Dict[str, pd.DataFrame]:\n",
    "    \"\"\"\n",
    "    Calculate the model outputs for future ACF scenarios.\n",
    "\n",
    "    Args:\n",
    "        params: Dictionary containing model parameters.\n",
    "        idata_extract: InferenceData object containing the model data.\n",
    "        future_acf_scenarios: Dictionary of future ACF scenarios with their parameters.\n",
    "\n",
    "    Returns:\n",
    "        A dictionary containing the results for each future ACF scenario.\n",
    "    \"\"\"\n",
    "    future_outputs = {}\n",
    "\n",
    "    for scenario_name, scenario_params in future_acf_scenarios.items():\n",
    "        # Get the model results for the current scenario\n",
    "        bcm = get_bcm(params, covid_effects, future_acf_scenarios={scenario_name: scenario_params})\n",
    "        base_results = esamp.model_results_for_samples(idata_extract, bcm).results\n",
    "        base_quantiles = esamp.quantiles_for_results(base_results, QUANTILES)\n",
    "\n",
    "        # Extract relevant indicators\n",
    "        # indicators = [\"notification\", \"total_population\", \"adults_prevalence_pulmonary\"]\n",
    "        future_outputs[scenario_name] = base_quantiles\n",
    "\n",
    "    return future_outputs"
   ]
  },
  {
   "cell_type": "code",
   "execution_count": null,
   "metadata": {},
   "outputs": [],
   "source": [
    "config = {\n",
    "    \"arm\": [\"trial\"],\n",
    "    \"every\": [2,4],\n",
    "    \"coverage\": [0.5, 0.8],\n",
    "}\n",
    "future_acf_scenarios = make_future_acf_scenarios(config)"
   ]
  },
  {
   "cell_type": "code",
   "execution_count": null,
   "metadata": {},
   "outputs": [],
   "source": [
    "future_acf_scenarios"
   ]
  },
  {
   "cell_type": "code",
   "execution_count": null,
   "metadata": {},
   "outputs": [],
   "source": [
    "outputs = calculate_future_acf_outputs(params, idata_extract,covid_effects, future_acf_scenarios)"
   ]
  },
  {
   "cell_type": "code",
   "execution_count": null,
   "metadata": {},
   "outputs": [],
   "source": [
    "outputs['trial_2_80']['act3_trial_adults_prevalence'].loc[2025:2036].plot()"
   ]
  },
  {
   "cell_type": "code",
   "execution_count": null,
   "metadata": {},
   "outputs": [],
   "source": [
    "outputs['trial_4_80']['act3_trial_adults_prevalence'].loc[2025:2036].plot()"
   ]
  },
  {
   "cell_type": "code",
   "execution_count": null,
   "metadata": {},
   "outputs": [],
   "source": [
    "base_quantiles['act3_trial_adults_prevalence'].loc[2025:2036].plot()"
   ]
  }
 ],
 "metadata": {
  "kernelspec": {
   "display_name": "tbdyn",
   "language": "python",
   "name": "python3"
  },
  "language_info": {
   "codemirror_mode": {
    "name": "ipython",
    "version": 3
   },
   "file_extension": ".py",
   "mimetype": "text/x-python",
   "name": "python",
   "nbconvert_exporter": "python",
   "pygments_lexer": "ipython3",
   "version": "3.10.16"
  }
 },
 "nbformat": 4,
 "nbformat_minor": 2
}
