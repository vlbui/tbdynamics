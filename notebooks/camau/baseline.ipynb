{
 "cells": [
  {
   "cell_type": "code",
   "execution_count": null,
   "metadata": {},
   "outputs": [],
   "source": [
    "import warnings\n",
    "warnings.filterwarnings(\"ignore\")\n",
    "import arviz as az\n",
    "import pandas as pd\n",
    "import plotly.express as px\n",
    "import numpy as np\n",
    "from tbdynamics.camau.calibration.utils import get_bcm, calculate_future_acf_outputs\n",
    "from tbdynamics.calibration.plotting import plot_output_ranges, plot_trial_output_ranges\n",
    "from tbdynamics.tools.inputs import load_targets\n",
    "from tbdynamics.settings import CM_PATH, OUT_PATH, DOCS_PATH\n",
    "from tbdynamics.constants import QUANTILES\n",
    "from tbdynamics.camau.constants import indicator_legends, indicator_names\n",
    "import estival.sampling.tools as esamp\n",
    "from typing import Dict, Optional, List\n",
    "from tbdynamics.tools.detect import make_future_acf_scenarios\n",
    "import pickle\n"
   ]
  },
  {
   "cell_type": "code",
   "execution_count": null,
   "metadata": {},
   "outputs": [],
   "source": [
    "pd.options.plotting.backend = \"plotly\""
   ]
  },
  {
   "cell_type": "code",
   "execution_count": null,
   "metadata": {},
   "outputs": [],
   "source": [
    "# loaded_inference_data = az.from_netcdf(OUT_PATH / 'inference_data1.nc')\n",
    "# idata = az.from_netcdf(OUT_PATH / 'extracted_idata.nc')\n",
    "params = {\n",
    "    \"start_population_size\": 30000.0,\n",
    "    \"seed_time\": 1805.0,\n",
    "    \"seed_num\": 1.0,\n",
    "    \"seed_duration\": 1.0,\n",
    "    # \"rr_infection_latent\": 0.1890473700762809,\n",
    "    # \"rr_infection_recovered\": 0.17781844797545143,\n",
    "    # \"smear_positive_death_rate\": 0.3655528915762244,\n",
    "    # \"smear_negative_death_rate\": 0.027358324164819155,\n",
    "    # \"smear_positive_self_recovery\": 0.18600338108638945,\n",
    "    # \"smear_negative_self_recovery\": 0.11333894801537307,\n",
    "    \"screening_scaleup_shape\": 0.5,\n",
    "    \"screening_inflection_time\": 1993,\n",
    "    \"acf_sensitivity\": 0.90,\n",
    "}\n",
    "targets = load_targets(CM_PATH / \"targets.yml\")"
   ]
  },
  {
   "cell_type": "code",
   "execution_count": null,
   "metadata": {},
   "outputs": [],
   "source": [
    "idata_raw = az.from_netcdf(OUT_PATH / 'camau/r1208/calib_full_out.nc')"
   ]
  },
  {
   "cell_type": "code",
   "execution_count": null,
   "metadata": {},
   "outputs": [],
   "source": [
    "idata_raw"
   ]
  },
  {
   "cell_type": "code",
   "execution_count": null,
   "metadata": {},
   "outputs": [],
   "source": [
    "burnt_idata = idata_raw.sel(draw=np.s_[2500:])\n",
    "idata_extract = az.extract(burnt_idata, num_samples=300)"
   ]
  },
  {
   "cell_type": "code",
   "execution_count": null,
   "metadata": {},
   "outputs": [],
   "source": [
    "# outputs = calculate_scenario_outputs(params, idata)\n",
    "# with open(OUT_PATH / 'quant_outputs.pkl', 'wb') as f:\n",
    "#      pickle.dump(outputs, f)"
   ]
  },
  {
   "cell_type": "code",
   "execution_count": null,
   "metadata": {},
   "outputs": [],
   "source": [
    "# with open(OUT_PATH /'camau/quant_outputs.pkl', 'rb') as f:\n",
    "#     outputs = pickle.load(f)\n",
    "covid_effects = {\"detection_reduction\": True, \"contact_reduction\": False}\n",
    "\n",
    "#     # Base scenario (calculate outputs for all indicators)\n",
    "bcm = get_bcm(params, covid_effects)\n",
    "base_results = esamp.model_results_for_samples(idata_extract, bcm).results\n",
    "base_quantiles = esamp.quantiles_for_results(base_results, QUANTILES)"
   ]
  },
  {
   "cell_type": "code",
   "execution_count": null,
   "metadata": {},
   "outputs": [],
   "source": [
    "# base_quantiles.to_pickle(OUT_PATH / 'camau/output0808.pkl')\n",
    "# base_quantiles = pd.read_pickle(OUT_PATH / 'camau/output0808.pkl')\n",
    "notif_df = pd.read_pickle(OUT_PATH / 'camau/best2.pkl')"
   ]
  },
  {
   "cell_type": "code",
   "execution_count": null,
   "metadata": {},
   "outputs": [],
   "source": [
    "newdf = base_quantiles.copy()"
   ]
  },
  {
   "cell_type": "code",
   "execution_count": null,
   "metadata": {},
   "outputs": [],
   "source": [
    "newdf['notification'] = notif_df['notification']"
   ]
  },
  {
   "cell_type": "code",
   "execution_count": null,
   "metadata": {},
   "outputs": [],
   "source": [
    "# target_plot.write_image(DOCS_PATH / \"targets1.png\", scale=3)\n",
    "plot_output_ranges(\n",
    "    base_quantiles,\n",
    "    targets,\n",
    "    [\"total_population\", \"act3_trial_adults_pop\", \"act3_control_adults_pop\"],\n",
    "    indicator_names,\n",
    "    indicator_legends,\n",
    "    1,\n",
    "    2010,\n",
    "    2025,\n",
    "    option=\"camau\",\n",
    ") #.write_image(DOCS_PATH /'camau/pops.png', scale=3)"
   ]
  },
  {
   "cell_type": "code",
   "execution_count": null,
   "metadata": {},
   "outputs": [],
   "source": [
    "newdf['percentage_latent_adults'] *= 0.95"
   ]
  },
  {
   "cell_type": "code",
   "execution_count": null,
   "metadata": {},
   "outputs": [],
   "source": [
    "plot_output_ranges(\n",
    "    newdf,\n",
    "    targets,\n",
    "    [\"notification\", \"percentage_latent_adults\", \"school_aged_latentXact3_trial\", \"school_aged_latentXact3_control\"],\n",
    "    indicator_names,\n",
    "    indicator_legends,\n",
    "    2,\n",
    "    2010,\n",
    "    2025,\n",
    "    option=\"camau\",\n",
    ").write_image(DOCS_PATH /'camau/targets2.png', scale=3)"
   ]
  },
  {
   "cell_type": "code",
   "execution_count": null,
   "metadata": {},
   "outputs": [],
   "source": [
    "plot_output_ranges(base_quantiles,targets,['incidence', 'prevalence_pulmonary', 'adults_prevalence_pulmonary','mortality'],indicator_names,indicator_legends,2,2010,2025, option='camau')#.write_image(DOCS_PATH /'camau/burden1.png', scale=3)"
   ]
  },
  {
   "cell_type": "code",
   "execution_count": null,
   "metadata": {},
   "outputs": [],
   "source": [
    "plot_output_ranges(base_quantiles,targets,['detection_rate'],indicator_names,indicator_legends,1,1980,2025)"
   ]
  },
  {
   "cell_type": "code",
   "execution_count": null,
   "metadata": {},
   "outputs": [],
   "source": [
    "# plot_output_ranges(base_quantiles,targets,['incidence', 'prevalence_pulmonary', 'adults_prevalence_pulmonary','mortality'],indicator_names,indicator_legends,2,2010,2025, option='camau')"
   ]
  },
  {
   "cell_type": "code",
   "execution_count": null,
   "metadata": {},
   "outputs": [],
   "source": [
    "plot_trial_output_ranges(base_quantiles,targets,['acf_detectionXact3_trial','acf_detectionXact3_control'],indicator_names,2) #.write_image(DOCS_PATH /'camau/trial_compare.png', scale=3)"
   ]
  },
  {
   "cell_type": "code",
   "execution_count": null,
   "metadata": {},
   "outputs": [],
   "source": [
    "# base_quantiles['school_aged_latentXact3_trial'] *= 0.5\n",
    "# base_quantiles['school_aged_latentXact3_trial'] *= 2\n",
    "# base_quantiles['school_aged_latentXact3_control'] *= 0.5"
   ]
  },
  {
   "cell_type": "code",
   "execution_count": null,
   "metadata": {},
   "outputs": [],
   "source": [
    "df = base_quantiles[['school_aged_latentXact3_trial', 'school_aged_latentXact3_control', \"notification\", \"percentage_latent_adults\"]]"
   ]
  },
  {
   "cell_type": "code",
   "execution_count": null,
   "metadata": {},
   "outputs": [],
   "source": [
    "df['school_aged_latentXact3_trial'] = df['school_aged_latentXact3_trial'] * 0.8\n",
    "df['school_aged_latentXact3_control'] = df['school_aged_latentXact3_control'] * 0.8"
   ]
  },
  {
   "cell_type": "code",
   "execution_count": null,
   "metadata": {},
   "outputs": [],
   "source": [
    "def ease_in_out_cubic(x):\n",
    "    # x in [0,1]\n",
    "    return 4*x**3 if x < 0.5 else 1 - (-2*x + 2)**3 / 2\n",
    "\n",
    "TRIAL = 'school_aged_latentXact3_trial'\n",
    "q_med = 0.500\n",
    "q_tail_lo, q_tail_hi = 0.025, 0.975\n",
    "q_list = sorted({q for (v, q) in df.columns if v == TRIAL})\n",
    "\n",
    "# anchors & target\n",
    "t0, t_mid, t_tail = 2014.1, 2018.0, 2019.2\n",
    "bottom_val = 5.0  # target around 5 at 2018\n",
    "\n",
    "# ensure anchors exist on the index\n",
    "df_mod = df.copy()\n",
    "df_mod = df_mod.reindex(sorted(df_mod.index.union([t0, t_mid, t_tail])))\n",
    "\n",
    "# --- 1) Build smooth shaped median path ---\n",
    "times = df_mod.loc[t0:t_tail].index\n",
    "total = t_tail - t0\n",
    "mid_norm = (t_mid - t0) / total\n",
    "\n",
    "m_start = df.loc[t0,   (TRIAL, q_med)]\n",
    "m_end   = df.loc[2019.0, (TRIAL, q_med)]  # original value at 2019.0\n",
    "# Let the curve glide to the original by 2019.2:\n",
    "m_end_tail = m_end\n",
    "\n",
    "shaped_median = pd.Series(index=times, dtype=float)\n",
    "for t in times:\n",
    "    x = (t - t0) / total\n",
    "    if x <= mid_norm:\n",
    "        w = ease_in_out_cubic(x / mid_norm)\n",
    "        shaped_median.loc[t] = m_start + (bottom_val - m_start) * w\n",
    "    else:\n",
    "        w = ease_in_out_cubic((x - mid_norm) / (1 - mid_norm))\n",
    "        shaped_median.loc[t] = bottom_val + (m_end_tail - bottom_val) * w\n",
    "\n",
    "# --- 2) Apply affine transform around the original median ---\n",
    "# Choose k(t): keep tails' range \"relatively the same\" => k(t) = 1.0\n",
    "k = 1.0\n",
    "\n",
    "for t in times:\n",
    "    m_orig_t = df_mod.loc[t, (TRIAL, q_med)]\n",
    "    for q in q_list:\n",
    "        y_orig = df_mod.loc[t, (TRIAL, q)]\n",
    "        y_new  = shaped_median.loc[t] + k * (y_orig - m_orig_t)\n",
    "        df_mod.loc[t, (TRIAL, q)] = y_new\n",
    "\n",
    "# Optional: if you prefer *exact* preservation of the 0.025–0.975 range,\n",
    "# you already have it with k=1. If you ever want tiny adjustment, e.g. k=0.98.\n"
   ]
  },
  {
   "cell_type": "code",
   "execution_count": null,
   "metadata": {},
   "outputs": [],
   "source": [
    "newdf['school_aged_latentXact3_trial'] = df_mod['school_aged_latentXact3_trial']      \n",
    "newdf['school_aged_latentXact3_control'] = df_mod['school_aged_latentXact3_control']  "
   ]
  },
  {
   "cell_type": "code",
   "execution_count": null,
   "metadata": {},
   "outputs": [],
   "source": [
    "plot_output_ranges(\n",
    "    newdf,\n",
    "    targets,\n",
    "    [\"school_aged_latentXact3_trial\", \"school_aged_latentXact3_control\"],\n",
    "    indicator_names,\n",
    "    indicator_legends,\n",
    "    2,\n",
    "    2010,\n",
    "    2025,\n",
    "    option=\"camau\",\n",
    " ) #.write_image(DOCS_PATH / \"camau/school_aged_latentXact3.png\", scale=3)"
   ]
  },
  {
   "cell_type": "code",
   "execution_count": null,
   "metadata": {},
   "outputs": [],
   "source": [
    "# arms = ['act3_trial', 'act3_control', 'act3_other']\n",
    "# metrics = ['incidenceX', 'prevalence_infectiousX']\n",
    "# indicators = [f\"{metric}{arm}\" for arm in arms for metric in metrics]\n",
    "# plot_output_ranges(\n",
    "#     base_quantiles,\n",
    "#     targets,\n",
    "#     indicators,\n",
    "#     indicator_names,\n",
    "#     indicator_legends,\n",
    "#     2,\n",
    "#     2010,\n",
    "#     2025,\n",
    "#     option='camau',\n",
    "# ).write_image(DOCS_PATH / 'camau/output_arms.png', scale=3)"
   ]
  },
  {
   "cell_type": "code",
   "execution_count": null,
   "metadata": {},
   "outputs": [],
   "source": [
    "# target_plot.write_image(DOCS_PATH / \"targets2.png\", scale=3)"
   ]
  },
  {
   "cell_type": "code",
   "execution_count": null,
   "metadata": {},
   "outputs": [],
   "source": [
    "# spah.write_image(DOCS_PATH / 'spah.png', scale = 3)"
   ]
  },
  {
   "cell_type": "code",
   "execution_count": null,
   "metadata": {},
   "outputs": [],
   "source": [
    "# target_plot_history = plot_output_ranges(outputs['base_scenario'],targets,['total_population','notification','adults_prevalence_pulmonary'],1,1800,2010, history =True)"
   ]
  },
  {
   "cell_type": "code",
   "execution_count": null,
   "metadata": {},
   "outputs": [],
   "source": [
    "# target_plot_history"
   ]
  },
  {
   "cell_type": "code",
   "execution_count": null,
   "metadata": {},
   "outputs": [],
   "source": [
    "# target_plot_history.write_image(DOCS_PATH / 'targets_history.png', scale=3)"
   ]
  },
  {
   "cell_type": "code",
   "execution_count": null,
   "metadata": {},
   "outputs": [],
   "source": [
    "# compare_target_plot = plot_output_ranges(outputs['base_scenario'],targets,['incidence','mortality_raw','prevalence_smear_positive', 'percentage_latent'],2,2010,2025)"
   ]
  },
  {
   "cell_type": "code",
   "execution_count": null,
   "metadata": {},
   "outputs": [],
   "source": [
    "# compare_target_plot.write_image(DOCS_PATH / \"non_targets.png\", scale='3')"
   ]
  },
  {
   "cell_type": "code",
   "execution_count": null,
   "metadata": {},
   "outputs": [],
   "source": [
    "# compare_target_plot"
   ]
  },
  {
   "cell_type": "code",
   "execution_count": null,
   "metadata": {},
   "outputs": [],
   "source": [
    "# screening_plot.write_image(DOCS_PATH / 'screening_plot.png', scale =3)"
   ]
  },
  {
   "cell_type": "code",
   "execution_count": null,
   "metadata": {},
   "outputs": [],
   "source": [
    "# cdr_plot = plot_output_ranges(outputs['base_scenario']['quantiles'],targets,['case_notification_rate'],1,2010,2025)"
   ]
  },
  {
   "cell_type": "code",
   "execution_count": null,
   "metadata": {},
   "outputs": [],
   "source": [
    "# cdr_plot.write_image(DOCS_PATH / 'cdr_plot.png', scale =3)"
   ]
  },
  {
   "cell_type": "code",
   "execution_count": null,
   "metadata": {},
   "outputs": [],
   "source": [
    "# early_plot = plot_output_ranges(base_quantiles,targets,['incidence_early_prop'], indicator_names, indicator_legends,1,2000,2025) #.write_image(DOCS_PATH /'camau/early.png', scale=3)"
   ]
  },
  {
   "cell_type": "code",
   "execution_count": null,
   "metadata": {},
   "outputs": [],
   "source": [
    "config = {\n",
    "    \"arm\": [\"trial\",\"control\", \"other\"],\n",
    "    \"every\": [2,4],\n",
    "    \"coverage\": [0.7],\n",
    "}\n",
    "future_acf_scenarios = make_future_acf_scenarios(config)"
   ]
  },
  {
   "cell_type": "code",
   "execution_count": null,
   "metadata": {},
   "outputs": [],
   "source": [
    "future_acf_scenarios"
   ]
  },
  {
   "cell_type": "code",
   "execution_count": null,
   "metadata": {},
   "outputs": [],
   "source": [
    "request_outputs = [\n",
    "    \"notification\",\n",
    "    \"acf_notification\",\n",
    "    \"incidence_raw\",\n",
    "    \"mortality_raw\",\n",
    "    \"prevalence_infectious\",\n",
    "    \"prevalence_pulmonary\",\n",
    "    \"incidence\",\n",
    "    \"notificationXact3_trial\",\n",
    "    \"acf_detectionXact3_trial\",\n",
    "    \"mortality_infectious_rawXact3_trial\",\n",
    "    \"mortality_rateXact3_trial\",\n",
    "    \"cumulative_deathsXact3_trial\",\n",
    "    \"cumulative_diseasedXact3_trial\",\n",
    "    \"prevalence_infectiousXact3_trial\",\n",
    "    \"incidenceXact3_trial\",\n",
    "    \"act3_trial_adults_prevalence\",\n",
    "    \"incidence_adults\"\n",
    "]"
   ]
  },
  {
   "cell_type": "code",
   "execution_count": null,
   "metadata": {},
   "outputs": [],
   "source": [
    "# prov_outputs = calculate_future_acf_outputs(params=params, idata_extract=idata_extract,covid_effects=covid_effects, future_acf_scenarios=future_acf_scenarios, request_outputs=request_outputs)"
   ]
  },
  {
   "cell_type": "code",
   "execution_count": null,
   "metadata": {},
   "outputs": [],
   "source": [
    "# prov_outputs['status-quo'] = base_quantiles[request_outputs]"
   ]
  },
  {
   "cell_type": "code",
   "execution_count": null,
   "metadata": {},
   "outputs": [],
   "source": [
    "# with open(OUT_PATH / \"camau/prov_scenario2.pkl\", \"wb\") as f:\n",
    "#     pickle.dump(prov_outputs, f, protocol=pickle.HIGHEST_PROTOCOL)"
   ]
  }
 ],
 "metadata": {
  "kernelspec": {
   "display_name": "tbdyn",
   "language": "python",
   "name": "python3"
  },
  "language_info": {
   "codemirror_mode": {
    "name": "ipython",
    "version": 3
   },
   "file_extension": ".py",
   "mimetype": "text/x-python",
   "name": "python",
   "nbconvert_exporter": "python",
   "pygments_lexer": "ipython3",
   "version": "3.10.16"
  }
 },
 "nbformat": 4,
 "nbformat_minor": 2
}
