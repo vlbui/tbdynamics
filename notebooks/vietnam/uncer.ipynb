{
 "cells": [
  {
   "cell_type": "markdown",
   "metadata": {},
   "source": [
    "## Note\n",
    "This notebook is used to genrate and save outputs as pickle files "
   ]
  },
  {
   "cell_type": "code",
   "execution_count": 1,
   "metadata": {},
   "outputs": [
    {
     "name": "stderr",
     "output_type": "stream",
     "text": [
      "WARNING (pytensor.tensor.blas): Using NumPy C-API based implementation for BLAS functions.\n"
     ]
    }
   ],
   "source": [
    "import warnings\n",
    "warnings.filterwarnings(\"ignore\")\n",
    "\n",
    "from pathlib import Path\n",
    "from typing import Dict, List, Optional\n",
    "\n",
    "import pickle\n",
    "import numpy as np\n",
    "import pandas as pd\n",
    "import arviz as az\n",
    "import plotly.express as px\n",
    "import plotly.graph_objects as go\n",
    "\n",
    "import estival.priors as esp\n",
    "import estival.targets as est\n",
    "from estival.model import BayesianCompartmentalModel\n",
    "from estival.sampling import tools as esamp\n",
    "\n",
    "from tbdynamics.constants import QUANTILES\n",
    "from tbdynamics.settings import DATA_PATH, BASE_PATH, VN_PATH\n",
    "from tbdynamics.tools.inputs import load_params, load_targets, matrix\n",
    "from tbdynamics.vietnam.model import build_model\n",
    "from tbdynamics.vietnam.constants import params_name\n",
    "from tbdynamics.vietnam.calibration.utils import (\n",
    "    calculate_scenario_outputs,\n",
    "    calculate_covid_diff_cum_quantiles,\n",
    "    calculate_scenario_diff_cum_quantiles,\n",
    "    calculate_diff_cum_detection_reduction,\n",
    "    get_targets,\n",
    "    get_all_priors,\n",
    "    get_bcm\n",
    ")\n",
    "from tbdynamics.calibration.plotting import plot_abs_diff_scatter_multi\n",
    "import pandas as pd\n",
    "import plotly.graph_objects as go\n",
    "from plotly.subplots import make_subplots\n",
    "from typing import List, Optional, Literal\n"
   ]
  },
  {
   "cell_type": "code",
   "execution_count": 2,
   "metadata": {},
   "outputs": [],
   "source": [
    "# extract data - only run for first time\n",
    "RUN_PATH = Path.cwd().parent.parent / 'runs/results'\n",
    "OUT_PATH = Path.cwd().parent.parent / 'data/outputs/vietnam'"
   ]
  },
  {
   "cell_type": "code",
   "execution_count": 3,
   "metadata": {},
   "outputs": [],
   "source": [
    "idata_raw = az.from_netcdf(RUN_PATH / 'calib_full_out_best.nc')\n",
    "burnt_idata = idata_raw.sel(draw=np.s_[50000:])\n",
    "idata = az.extract(burnt_idata, num_samples=300)\n",
    "# inference_data = az.convert_to_inference_data(idata_extract.reset_index('sample'))\n",
    "# az.to_netcdf(inference_data, OUT_PATH /'extracted_data.nc')"
   ]
  },
  {
   "cell_type": "code",
   "execution_count": 4,
   "metadata": {},
   "outputs": [],
   "source": [
    "#  Load saved idata\n",
    "# idata = az.from_netcdf(BASE_PATH / 'idata/idata_detection.nc')\n",
    "params = {\n",
    "    \"start_population_size\": 2000000.0,\n",
    "    \"seed_time\": 1805.0,\n",
    "    \"seed_num\": 1.0,\n",
    "    \"seed_duration\": 1.0,\n",
    "}\n",
    "scenario_config = {\"detection_reduction\": True, \"contact_reduction\": False}"
   ]
  },
  {
   "cell_type": "code",
   "execution_count": 5,
   "metadata": {},
   "outputs": [],
   "source": [
    "# bcm = get_bcm(params, scenario_config, None)\n",
    "# base_results = esamp.model_results_for_samples(idata, bcm).results"
   ]
  },
  {
   "cell_type": "code",
   "execution_count": 6,
   "metadata": {},
   "outputs": [],
   "source": [
    "# full_params_df = burnt_idata.posterior.to_dataframe().reset_index()"
   ]
  },
  {
   "cell_type": "code",
   "execution_count": 7,
   "metadata": {},
   "outputs": [],
   "source": [
    "def calculate_covid_diff_cum_merge(\n",
    "    params: Dict[str, float],\n",
    "    idata_extract: az.InferenceData,\n",
    "    cumulative_start_time: float = 2020.0,\n",
    ") -> pd.DataFrame:\n",
    "    \"\"\"\n",
    "    Run models for two COVID scenarios using extracted InferenceData,\n",
    "    compute cumulative incidence and deaths for all years, and return absolute differences\n",
    "    merged with posterior parameters.\n",
    "\n",
    "    Args:\n",
    "        params: Dictionary of model parameters.\n",
    "        idata_extract: InferenceData object from az.extract().\n",
    "        cumulative_start_time: Starting point for cumulative calculation.\n",
    "\n",
    "    Returns:\n",
    "        DataFrame with cumulative values and absolute differences for each year,\n",
    "        merged with posterior parameters and sample IDs.\n",
    "    \"\"\"\n",
    "    # Flatten posterior samples\n",
    "    df_params = idata_extract.to_dataframe()\n",
    "    df_params = df_params.drop(columns=[c for c in ['chain', 'draw'] if c in df_params.columns], errors='ignore')\n",
    "    df_params = df_params.reset_index()\n",
    "\n",
    "    covid_configs = [\n",
    "        {\"detection_reduction\": False, \"contact_reduction\": False},\n",
    "        {\"detection_reduction\": True, \"contact_reduction\": False},\n",
    "    ]\n",
    "\n",
    "    result_list = []\n",
    "\n",
    "    for i, covid_effects in enumerate(covid_configs):\n",
    "        bcm = get_bcm(params, covid_effects)\n",
    "        model_res = esamp.model_results_for_samples(idata_extract, bcm).results\n",
    "\n",
    "        subset = model_res[[\"incidence_raw\", \"mortality_raw\"]]\n",
    "\n",
    "        long_df = subset.stack(level=[0, 1, 2]).reset_index()\n",
    "        long_df.columns = [\"time\", \"variable\", \"chain\", \"draw\", \"value\"]\n",
    "\n",
    "        # Filter for yearly values ≥ start time\n",
    "        yearly_df = long_df[\n",
    "            (long_df[\"time\"] >= cumulative_start_time) & (long_df[\"time\"] % 1 == 0)\n",
    "        ].copy()\n",
    "\n",
    "        yearly_df = yearly_df.sort_values([\"variable\", \"chain\", \"draw\", \"time\"])\n",
    "        yearly_df[\"cumulative\"] = yearly_df.groupby([\"variable\", \"chain\", \"draw\"])[\"value\"].cumsum()\n",
    "\n",
    "        # Pivot to wide format for all years\n",
    "        final_pivot = yearly_df.pivot_table(\n",
    "            index=[\"chain\", \"draw\", \"time\"],\n",
    "            columns=\"variable\",\n",
    "            values=\"cumulative\"\n",
    "        ).reset_index()\n",
    "\n",
    "        suffix = f\"_scen{i}\"\n",
    "        final_pivot = final_pivot.rename(columns={\n",
    "            \"incidence_raw\": f\"cumulative_diseased{suffix}\",\n",
    "            \"mortality_raw\": f\"cumulative_deaths{suffix}\"\n",
    "        })\n",
    "\n",
    "        result_list.append(final_pivot)\n",
    "\n",
    "    # Merge both scenarios on chain, draw, time\n",
    "    merged = pd.merge(result_list[0], result_list[1], on=[\"chain\", \"draw\", \"time\"])\n",
    "\n",
    "    # Calculate absolute differences for all time points\n",
    "    merged[\"abs_diff_cumulative_diseased\"] = (\n",
    "        merged[\"cumulative_diseased_scen1\"] - merged[\"cumulative_diseased_scen0\"]\n",
    "    )\n",
    "    merged[\"abs_diff_cumulative_deaths\"] = (\n",
    "        merged[\"cumulative_deaths_scen1\"] - merged[\"cumulative_deaths_scen0\"]\n",
    "    )\n",
    "\n",
    "    # Merge with posterior parameter values\n",
    "    final_merged = pd.merge(merged, df_params, on=[\"chain\", \"draw\"])\n",
    "\n",
    "    return final_merged"
   ]
  },
  {
   "cell_type": "code",
   "execution_count": 8,
   "metadata": {},
   "outputs": [],
   "source": [
    "df = calculate_covid_diff_cum_merge(params, idata)"
   ]
  },
  {
   "cell_type": "code",
   "execution_count": 28,
   "metadata": {},
   "outputs": [],
   "source": [
    "def plot_abs_diff_scatter_multi(\n",
    "    df: pd.DataFrame,\n",
    "    outcome: Literal[\"cumulative_diseased\", \"cumulative_deaths\"] = \"cumulative_diseased\",\n",
    "    params: Optional[List[str]] = None,\n",
    "    year: float = 2035.0,\n",
    "    n_cols: int = 3\n",
    ") -> go.Figure:\n",
    "    \"\"\"\n",
    "    Plot absolute differences vs posterior parameters for a specific year using subplots.\n",
    "\n",
    "    Args:\n",
    "        df: DataFrame from `calculate_covid_diff_cum_merge`.\n",
    "        outcome: Outcome to plot ('cumulative_diseased' or 'cumulative_deaths').\n",
    "        params: List of posterior parameters to plot. If None, selects automatically.\n",
    "        year: Single year to include in the plot.\n",
    "\n",
    "    Returns:\n",
    "        Plotly Figure with scatter plots.\n",
    "    \"\"\"\n",
    "    df_filtered = df[df[\"time\"].round(1) == round(year, 1)].copy()\n",
    "\n",
    "    # Auto-select parameter names if not given\n",
    "    if params is None:\n",
    "        exclude = {\n",
    "            \"chain\", \"draw\", \"time\",\n",
    "            f\"cumulative_diseased_scen0\", f\"cumulative_diseased_scen1\",\n",
    "            f\"cumulative_deaths_scen0\", f\"cumulative_deaths_scen1\",\n",
    "            f\"abs_diff_cumulative_diseased\", f\"abs_diff_cumulative_deaths\"\n",
    "        }\n",
    "        params = [\n",
    "            col for col in df.columns\n",
    "            if col not in exclude and \"_dispersion\" not in col and df[col].dtype.kind in \"fi\"\n",
    "        ]\n",
    "    # subplot_titles = [params_name.get(p, p) for p in params]\n",
    "    # Set up subplots\n",
    "    n_rows = (len(params) + n_cols - 1) // n_cols\n",
    "    fig = make_subplots(rows=n_rows, cols=n_cols, subplot_titles=params, vertical_spacing=0.07)\n",
    "\n",
    "    for i, param in enumerate(params):\n",
    "        row = i // n_cols + 1\n",
    "        col = i % n_cols + 1\n",
    "\n",
    "        fig.add_trace(\n",
    "            go.Scatter(\n",
    "                x=df_filtered[param],\n",
    "                y=df_filtered[f\"abs_diff_{outcome}\"],\n",
    "                mode=\"markers\",\n",
    "                marker=dict(size=4, color=\"#636efa\"),  # Default Plotly blue\n",
    "                showlegend=False,\n",
    "            ),\n",
    "            row=row,\n",
    "            col=col,\n",
    "        )\n",
    "\n",
    "        fig.update_xaxes(title_text=\"\", row=row, col=col)\n",
    "        fig.update_yaxes(title_text=\"\", row=row, col=col, type = \"log\")\n",
    "    for annotation in fig['layout']['annotations']:\n",
    "        annotation['font'] = dict(size=10)\n",
    "\n",
    "    fig.update_layout(\n",
    "        height=150 * n_rows,\n",
    "        title=\"\",\n",
    "        margin=dict(t=20, b=10),\n",
    "    )\n",
    "      # Add vertical centered annotation for y-axis\n",
    "    fig.add_annotation(\n",
    "        text=\"Cumulative number of new TB episodes by 2035\",\n",
    "        textangle=-90,\n",
    "        xref=\"paper\", yref=\"paper\",\n",
    "        x=-0.15, y=0.5,\n",
    "        showarrow=False,\n",
    "        font=dict(size=12),\n",
    "    )\n",
    "\n",
    "    return fig"
   ]
  },
  {
   "cell_type": "code",
   "execution_count": 10,
   "metadata": {},
   "outputs": [],
   "source": [
    "# plot_abs_diff_scatter_multi(df,  outcome=\"cumulative_diseased\") #.write_image('uncer.png', scale=3)"
   ]
  },
  {
   "cell_type": "code",
   "execution_count": null,
   "metadata": {},
   "outputs": [],
   "source": [
    "# params = [\"contact_rate\", \"smear_positive_death_rate\", \"incidence_props_pulmonary\", \"incidence_props_smear_positive_among_pulmonary\", \"smear_negative_death_rate\", \"smear_positive_self_recovery\", \"smear_negative_self_recovery\", \"detection_reduction\"]\n",
    "plot_abs_diff_scatter_multi(df, outcome=\"cumulative_diseased\", n_cols = 2) #.write_image('uncer3.png', scale=3)"
   ]
  },
  {
   "cell_type": "markdown",
   "metadata": {},
   "source": [
    "### Calculate the basecase outputs with scenarios of improving case detection"
   ]
  },
  {
   "cell_type": "code",
   "execution_count": 12,
   "metadata": {},
   "outputs": [],
   "source": [
    "# basecase = calculate_scenario_outputs(params, idata)\n",
    "# with open(OUT_PATH / 'quant_outputs3.pkl', 'wb') as f:\n",
    "#      pickle.dump(basecase, f)"
   ]
  },
  {
   "cell_type": "markdown",
   "metadata": {},
   "source": [
    "### Output for differences in cumulative diseased and cumulative deaths of COVID-19 vs no COVID-19"
   ]
  },
  {
   "cell_type": "code",
   "execution_count": 13,
   "metadata": {},
   "outputs": [],
   "source": [
    "# covid_cum_outputs = calculate_covid_diff_cum_quantiles(params, idata)\n",
    "# with open(OUT_PATH / 'covid_diff_quantiles.pkl', 'wb') as f:\n",
    "#      pickle.dump(covid_cum_outputs, f)"
   ]
  },
  {
   "cell_type": "markdown",
   "metadata": {},
   "source": [
    "### TB notifications in with different settings of COVID-19, with log likelihood"
   ]
  },
  {
   "cell_type": "code",
   "execution_count": 14,
   "metadata": {},
   "outputs": [],
   "source": [
    "# notif_covid_outputs = calculate_notifications_for_covid(params, idata)\n",
    "# with open(OUT_PATH /'notif_for_covid_with_ll.pkl', 'wb') as f:\n",
    "#      pickle.dump(notif_covid_outputs, f)"
   ]
  },
  {
   "cell_type": "markdown",
   "metadata": {},
   "source": [
    "### Cumulative diseased and death with different case detection scenarios"
   ]
  },
  {
   "cell_type": "code",
   "execution_count": 15,
   "metadata": {},
   "outputs": [],
   "source": [
    "# scenarios_diff_quantiles = calculate_scenario_diff_cum_quantiles(params, idata, [2.0, 5.0, 12.0], extreme_transmission=True)\n",
    "# with open(OUT_PATH/ 'scenarios_diff_outputs2.pkl', 'wb') as f:\n",
    "#     pickle.dump(scenarios_diff_quantiles,f)"
   ]
  }
 ],
 "metadata": {
  "kernelspec": {
   "display_name": "tbdyn",
   "language": "python",
   "name": "python3"
  },
  "language_info": {
   "codemirror_mode": {
    "name": "ipython",
    "version": 3
   },
   "file_extension": ".py",
   "mimetype": "text/x-python",
   "name": "python",
   "nbconvert_exporter": "python",
   "pygments_lexer": "ipython3",
   "version": "3.10.16"
  }
 },
 "nbformat": 4,
 "nbformat_minor": 2
}
