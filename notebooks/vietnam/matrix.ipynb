{
 "cells": [
  {
   "cell_type": "code",
   "execution_count": null,
   "metadata": {},
   "outputs": [],
   "source": [
    "from tbdynamics.tools.inputs import matrix, conmat\n",
    "from tbdynamics.constants import AGE_STRATA\n",
    "import matplotlib.pyplot as plt\n",
    "import seaborn as sns\n",
    "from scipy.spatial.distance import cdist"
   ]
  },
  {
   "cell_type": "markdown",
   "metadata": {},
   "source": [
    "# Plotting matrices"
   ]
  },
  {
   "cell_type": "markdown",
   "metadata": {},
   "source": [
    "## Matrix comes from socialmixr package"
   ]
  },
  {
   "cell_type": "code",
   "execution_count": null,
   "metadata": {},
   "outputs": [],
   "source": [
    "def plot_contact_matrix(contact_matrix, age_groups, title):\n",
    "    \"\"\"\n",
    "    Plots a contact matrix with the given age groups as labels.\n",
    "\n",
    "    Args:\n",
    "    - contact_matrix: A 2D numpy array representing the contact rates between age groups.\n",
    "    - age_groups: A list of strings representing the labels for the age groups.\n",
    "    \"\"\"\n",
    "    plt.figure(figsize=(8, 6))\n",
    "    sns.heatmap(contact_matrix, annot=True, fmt=\".2f\", cmap=\"YlGnBu\", cbar_kws={'label': ''},\n",
    "                xticklabels=age_groups, yticklabels=age_groups)\n",
    "\n",
    "    plt.xlabel(\"Age Group\")\n",
    "    plt.ylabel(\"Age Group\")\n",
    "    plt.title(title)\n",
    "    plt.gca().xaxis.set_label_position('top')\n",
    "    plt.gca().xaxis.tick_top()  # Move x-axis ticks and ticklabels to the top\n",
    "    plt.xticks(rotation=45, ha=\"right\")\n",
    "    plt.show()"
   ]
  },
  {
   "cell_type": "markdown",
   "metadata": {},
   "source": [
    "**Explanation**: The **contact_matrix** function in R facilitates the creation of contact matrices from survey data of Horby 2005 (semi-rural setting), offering capabilities for age group customization, age-based weighting, and the application of various filters to enhance the analysis. It processes survey data from Vietnam with specified age brackets (0, 5, 15, 35, 50, 70) and employs age weighting (weigh.age = TRUE), accounting for the age distribution of the Vietnamese population and calculating the average number of daily contacts for each age category. The age distribution is aligned with Vietnam's population as of 2020.\n",
    "Given that Horby's original dataset includes only age groups rather than the precise ages of participants, this process attempts to assign a specific age within each age group and conducts bootstrap sampling a thousand times (n = 1000), averaging the results from these samples.\n",
    "The outcome is a total count of daily contact matrix for all locations. To obtain the ultimate results, each matrix value has been scaled up by a factor of 365.25."
   ]
  },
  {
   "cell_type": "markdown",
   "metadata": {},
   "source": [
    "## Matrix comes from conmat package"
   ]
  },
  {
   "cell_type": "code",
   "execution_count": null,
   "metadata": {},
   "outputs": [],
   "source": [
    "plot_contact_matrix(matrix, AGE_STRATA, \"Yearly contact matrix from survey\")"
   ]
  },
  {
   "cell_type": "code",
   "execution_count": null,
   "metadata": {},
   "outputs": [],
   "source": [
    "plot_contact_matrix(conmat, AGE_STRATA, \"Yearly contact matrix extrapolated from conmat\")"
   ]
  },
  {
   "cell_type": "markdown",
   "metadata": {},
   "source": [
    "The **conmat package** utilizes data from **polymod** to extend and generate a contact matrix tailored to the Vietnamese population in 2020, employing Generalized Additive Models (GAM). The outcome is a total count of daily contact matrix of all locations. To achieve the final product, each value in the matrix was multiplied by 365.25."
   ]
  }
 ],
 "metadata": {
  "kernelspec": {
   "display_name": "tbdyn",
   "language": "python",
   "name": "python3"
  },
  "language_info": {
   "codemirror_mode": {
    "name": "ipython",
    "version": 3
   },
   "file_extension": ".py",
   "mimetype": "text/x-python",
   "name": "python",
   "nbconvert_exporter": "python",
   "pygments_lexer": "ipython3",
   "version": "3.10.13"
  }
 },
 "nbformat": 4,
 "nbformat_minor": 2
}
