{
 "cells": [
  {
   "cell_type": "code",
   "execution_count": 1,
   "metadata": {
    "metadata": {}
   },
   "outputs": [
    {
     "name": "stderr",
     "output_type": "stream",
     "text": [
      "WARNING (pytensor.configdefaults): g++ not available, if using conda: `conda install m2w64-toolchain`\n",
      "WARNING (pytensor.configdefaults): g++ not detected!  PyTensor will be unable to compile C-implementations and will default to Python. Performance may be severely degraded. To remove this warning, set PyTensor flags cxx to an empty string.\n",
      "WARNING (pytensor.tensor.blas): Using NumPy C-API based implementation for BLAS functions.\n"
     ]
    }
   ],
   "source": [
    "import warnings\n",
    "warnings.filterwarnings(\"ignore\")\n",
    "import numpy as np\n",
    "from pathlib import Path\n",
    "import pymc as pm\n",
    "import arviz as az\n",
    "import multiprocessing as mp\n",
    "from estival.wrappers import pymc as epm\n",
    "from estival.sampling import tools as esamp\n",
    "from estival.wrappers import nevergrad as eng\n",
    "from estival.utils.parallel import map_parallel\n",
    "import nevergrad as ng\n",
    "# from autumn.infrastructure.remote import springboard\n",
    "from tbdynamics.vietnam.calibration.utils import get_bcm\n",
    "from estival.utils.sample import SampleTypes"
   ]
  },
  {
   "cell_type": "code",
   "execution_count": null,
   "metadata": {},
   "outputs": [],
   "source": [
    "covid_configs = {\n",
    "        # 'no_covid': {\n",
    "        #     \"detection_reduction\": False,\n",
    "        #     \"contact_reduction\": False\n",
    "        # },  # No reduction\n",
    "        'detection': {\n",
    "            \"detection_reduction\": True,\n",
    "            \"contact_reduction\": False\n",
    "        },  # No contact reduction\n",
    "        # 'contact': {\n",
    "        #     \"detection_reduction\": False,\n",
    "        #     \"contact_reduction\": True\n",
    "        # },  # Only contact reduction\n",
    "        'detection_and_contact': {\n",
    "            \"detection_reduction\": True,\n",
    "            \"contact_reduction\": True\n",
    "        },  # With detection + contact reduction\n",
    "    }\n",
    "\n",
    "covid_effects = {\n",
    "    'detection_reduction':True,\n",
    "    'contact_reduction':False\n",
    "}\n",
    "params = {\n",
    "    \"start_population_size\": 2000000.0,\n",
    "    \"seed_time\": 1805.0,\n",
    "    \"seed_num\": 1.0,\n",
    "    \"seed_duration\": 1.0,\n",
    "}"
   ]
  },
  {
   "cell_type": "code",
   "execution_count": 3,
   "metadata": {},
   "outputs": [],
   "source": [
    "def calibrate(out_path, params, covid_effects, draws, tune):\n",
    "    bcm = get_bcm(params, covid_effects)\n",
    "    def optimize_ng_with_idx(item):\n",
    "        idx, sample = item\n",
    "        opt = eng.optimize_model(bcm, budget=500, opt_class=ng.optimizers.TwoPointsDE, suggested = sample, num_workers=8)\n",
    "        rec= opt.minimize(500)\n",
    "        return idx, rec.value[1]\n",
    "\n",
    "    lhs_samples = bcm.sample.lhs(16, ci=0.67)\n",
    "    lhs_lle = esamp.likelihood_extras_for_samples(lhs_samples, bcm)\n",
    "    lhs_sorted = lhs_lle.sort_values(\"loglikelihood\", ascending=False)\n",
    "    opt_samples_idx = map_parallel(optimize_ng_with_idx, lhs_sorted.iterrows())\n",
    "    best_opt_samps = bcm.sample.convert(opt_samples_idx)\n",
    "    init_samps = best_opt_samps.convert(SampleTypes.LIST_OF_DICTS)[0:8]\n",
    "    n_chains = 8\n",
    "    n_samples = 1000\n",
    "    with pm.Model() as pm_model:\n",
    "        variables = epm.use_model(bcm)\n",
    "        idata_raw = pm.sample(\n",
    "            step=[pm.DEMetropolisZ(variables, proposal_dist=pm.NormalProposal)],\n",
    "            draws=draws,\n",
    "            cores= 16,\n",
    "            tune=tune,\n",
    "            discard_tuned_samples=False,\n",
    "            chains=n_chains,\n",
    "            progressbar=True,\n",
    "            initvals=init_samps,\n",
    "        )\n",
    "    idata_raw.to_netcdf(str(out_path / \"calib_full_out.nc\"))\n",
    "\n",
    "    # burnt_idata = idata_raw.sel(draw=np.s_[50000:])\n",
    "    # idata_extract = az.extract(burnt_idata, num_samples=n_samples)\n",
    "    # bcm.sample.convert(idata_extract).to_hdf5(out_path / \"calib_extract_out.h5\")\n",
    "\n",
    "    # spaghetti_res = esamp.model_results_for_samples(idata_extract, bcm)\n",
    "    # spaghetti_res.results.to_hdf(str(out_path / \"results.hdf\"), \"spaghetti\")\n",
    "\n",
    "    # like_df = esamp.likelihood_extras_for_idata(idata_raw, bcm)\n",
    "    # like_df.to_hdf(str(out_path / \"results.hdf\"), \"likelihood\")\n",
    "\n",
    "\n",
    "# def run_calibration(bridge: springboard.task.TaskBridge, bcm, draws, tune):\n",
    "#     import multiprocessing as mp\n",
    "#     mp.set_start_method(\"forkserver\")\n",
    "#     idata_raw = calibrate(bridge.out_path, bcm, draws, tune)\n",
    "#     bridge.logger.info(\"Calibration complete\")"
   ]
  },
  {
   "cell_type": "code",
   "execution_count": null,
   "metadata": {},
   "outputs": [],
   "source": [
    "def calibrate_with_configs(out_path, params, covid_configs, draws, tune):\n",
    "    for config_name, covid_effects in covid_configs.items():\n",
    "        # Call the original calibrate function with each covid_effects\n",
    "        bcm = get_bcm(params, covid_effects)\n",
    "        \n",
    "        def optimize_ng_with_idx(item):\n",
    "            idx, sample = item\n",
    "            opt = eng.optimize_model(bcm, budget=1000, opt_class=ng.optimizers.TwoPointsDE, suggested=sample, num_workers=8)\n",
    "            rec = opt.minimize(500)\n",
    "            return idx, rec.value[1]\n",
    "\n",
    "        lhs_samples = bcm.sample.lhs(16, ci=0.67)\n",
    "        lhs_lle = esamp.likelihood_extras_for_samples(lhs_samples, bcm)\n",
    "        lhs_sorted = lhs_lle.sort_values(\"loglikelihood\", ascending=False)\n",
    "        opt_samples_idx = map_parallel(optimize_ng_with_idx, lhs_sorted.iterrows())\n",
    "        best_opt_samps = bcm.sample.convert(opt_samples_idx)\n",
    "        init_samps = best_opt_samps.convert(SampleTypes.LIST_OF_DICTS)[0:8]\n",
    "        n_chains = 8\n",
    "        # n_samples = 1000\n",
    "        \n",
    "        with pm.Model() as pm_model:\n",
    "            variables = epm.use_model(bcm)\n",
    "            idata_raw = pm.sample(\n",
    "                step=[pm.DEMetropolisZ(variables)],\n",
    "                draws=draws,\n",
    "                cores=16,\n",
    "                tune=tune,\n",
    "                discard_tuned_samples=False,\n",
    "                chains=n_chains,\n",
    "                progressbar=True,\n",
    "                initvals=init_samps,\n",
    "            )\n",
    "        \n",
    "        # Save results using the configuration key in the filenames\n",
    "        idata_raw.to_netcdf(str(out_path / f\"calib_full_out_{config_name}.nc\"))\n",
    "        # burnt_idata = idata_raw.sel(draw=np.s_[5000:])\n",
    "        # idata_extract = az.extract(burnt_idata, num_samples=n_samples)\n",
    "        # bcm.sample.convert(idata_extract).to_hdf5(out_path / f\"calib_extract_out_{config_name}.h5\")\n",
    "        \n",
    "        # spaghetti_res = esamp.model_results_for_samples(idata_extract, bcm)\n",
    "        # spaghetti_res.results.to_hdf(str(out_path / f\"results_{config_name}.hdf\"), \"spaghetti\")\n",
    "        \n",
    "        # like_df = esamp.likelihood_extras_for_idata(idata_raw, bcm)\n",
    "        # like_df.to_hdf(str(out_path / f\"results_{config_name}.hdf\"), \"likelihood\")\n"
   ]
  },
  {
   "cell_type": "code",
   "execution_count": 5,
   "metadata": {
    "metadata": {}
   },
   "outputs": [],
   "source": [
    "OUT_PATH = Path.cwd().parent.parent / 'runs/r0705'"
   ]
  },
  {
   "cell_type": "code",
   "execution_count": 6,
   "metadata": {},
   "outputs": [
    {
     "data": {
      "text/plain": [
       "WindowsPath('e:/tbdynamics/runs/r0705')"
      ]
     },
     "execution_count": 6,
     "metadata": {},
     "output_type": "execute_result"
    }
   ],
   "source": [
    "OUT_PATH"
   ]
  },
  {
   "cell_type": "code",
   "execution_count": 7,
   "metadata": {},
   "outputs": [
    {
     "ename": "ValueError",
     "evalue": "Number of initval dicts (16) does not match the number of chains (8).",
     "output_type": "error",
     "traceback": [
      "\u001b[1;31m---------------------------------------------------------------------------\u001b[0m",
      "\u001b[1;31mValueError\u001b[0m                                Traceback (most recent call last)",
      "Cell \u001b[1;32mIn[7], line 3\u001b[0m\n\u001b[0;32m      1\u001b[0m draws\u001b[38;5;241m=\u001b[39m \u001b[38;5;241m10000\u001b[39m\n\u001b[0;32m      2\u001b[0m tune \u001b[38;5;241m=\u001b[39m \u001b[38;5;241m5000\u001b[39m\n\u001b[1;32m----> 3\u001b[0m \u001b[43mcalibrate_with_configs\u001b[49m\u001b[43m(\u001b[49m\u001b[43mOUT_PATH\u001b[49m\u001b[43m,\u001b[49m\u001b[43mparams\u001b[49m\u001b[43m,\u001b[49m\u001b[43m \u001b[49m\u001b[43mcovid_configs\u001b[49m\u001b[43m,\u001b[49m\u001b[43m \u001b[49m\u001b[43mdraws\u001b[49m\u001b[43m,\u001b[49m\u001b[43m \u001b[49m\u001b[43mtune\u001b[49m\u001b[43m)\u001b[49m\n",
      "Cell \u001b[1;32mIn[4], line 23\u001b[0m, in \u001b[0;36mcalibrate_with_configs\u001b[1;34m(out_path, params, covid_configs, draws, tune)\u001b[0m\n\u001b[0;32m     21\u001b[0m \u001b[38;5;28;01mwith\u001b[39;00m pm\u001b[38;5;241m.\u001b[39mModel() \u001b[38;5;28;01mas\u001b[39;00m pm_model:\n\u001b[0;32m     22\u001b[0m     variables \u001b[38;5;241m=\u001b[39m epm\u001b[38;5;241m.\u001b[39muse_model(bcm)\n\u001b[1;32m---> 23\u001b[0m     idata_raw \u001b[38;5;241m=\u001b[39m \u001b[43mpm\u001b[49m\u001b[38;5;241;43m.\u001b[39;49m\u001b[43msample\u001b[49m\u001b[43m(\u001b[49m\n\u001b[0;32m     24\u001b[0m \u001b[43m        \u001b[49m\u001b[43mstep\u001b[49m\u001b[38;5;241;43m=\u001b[39;49m\u001b[43m[\u001b[49m\u001b[43mpm\u001b[49m\u001b[38;5;241;43m.\u001b[39;49m\u001b[43mDEMetropolisZ\u001b[49m\u001b[43m(\u001b[49m\u001b[43mvariables\u001b[49m\u001b[43m)\u001b[49m\u001b[43m]\u001b[49m\u001b[43m,\u001b[49m\n\u001b[0;32m     25\u001b[0m \u001b[43m        \u001b[49m\u001b[43mdraws\u001b[49m\u001b[38;5;241;43m=\u001b[39;49m\u001b[43mdraws\u001b[49m\u001b[43m,\u001b[49m\n\u001b[0;32m     26\u001b[0m \u001b[43m        \u001b[49m\u001b[43mcores\u001b[49m\u001b[38;5;241;43m=\u001b[39;49m\u001b[38;5;241;43m16\u001b[39;49m\u001b[43m,\u001b[49m\n\u001b[0;32m     27\u001b[0m \u001b[43m        \u001b[49m\u001b[43mtune\u001b[49m\u001b[38;5;241;43m=\u001b[39;49m\u001b[43mtune\u001b[49m\u001b[43m,\u001b[49m\n\u001b[0;32m     28\u001b[0m \u001b[43m        \u001b[49m\u001b[43mdiscard_tuned_samples\u001b[49m\u001b[38;5;241;43m=\u001b[39;49m\u001b[38;5;28;43;01mFalse\u001b[39;49;00m\u001b[43m,\u001b[49m\n\u001b[0;32m     29\u001b[0m \u001b[43m        \u001b[49m\u001b[43mchains\u001b[49m\u001b[38;5;241;43m=\u001b[39;49m\u001b[43mn_chains\u001b[49m\u001b[43m,\u001b[49m\n\u001b[0;32m     30\u001b[0m \u001b[43m        \u001b[49m\u001b[43mprogressbar\u001b[49m\u001b[38;5;241;43m=\u001b[39;49m\u001b[38;5;28;43;01mTrue\u001b[39;49;00m\u001b[43m,\u001b[49m\n\u001b[0;32m     31\u001b[0m \u001b[43m        \u001b[49m\u001b[43minitvals\u001b[49m\u001b[38;5;241;43m=\u001b[39;49m\u001b[43minit_samps\u001b[49m\u001b[43m,\u001b[49m\n\u001b[0;32m     32\u001b[0m \u001b[43m    \u001b[49m\u001b[43m)\u001b[49m\n\u001b[0;32m     34\u001b[0m \u001b[38;5;66;03m# Save results using the configuration key in the filenames\u001b[39;00m\n\u001b[0;32m     35\u001b[0m idata_raw\u001b[38;5;241m.\u001b[39mto_netcdf(\u001b[38;5;28mstr\u001b[39m(out_path \u001b[38;5;241m/\u001b[39m \u001b[38;5;124mf\u001b[39m\u001b[38;5;124m\"\u001b[39m\u001b[38;5;124mcalib_full_out_\u001b[39m\u001b[38;5;132;01m{\u001b[39;00mconfig_name\u001b[38;5;132;01m}\u001b[39;00m\u001b[38;5;124m.nc\u001b[39m\u001b[38;5;124m\"\u001b[39m))\n",
      "File \u001b[1;32mc:\\tools\\Anaconda3\\envs\\tb\\lib\\site-packages\\pymc\\sampling\\mcmc.py:608\u001b[0m, in \u001b[0;36msample\u001b[1;34m(draws, tune, chains, cores, random_seed, progressbar, step, nuts_sampler, initvals, init, jitter_max_retries, n_init, trace, discard_tuned_samples, compute_convergence_checks, keep_warning_stat, return_inferencedata, idata_kwargs, nuts_sampler_kwargs, callback, mp_ctx, model, **kwargs)\u001b[0m\n\u001b[0;32m    593\u001b[0m     initial_points, step \u001b[38;5;241m=\u001b[39m init_nuts(\n\u001b[0;32m    594\u001b[0m         init\u001b[38;5;241m=\u001b[39minit,\n\u001b[0;32m    595\u001b[0m         chains\u001b[38;5;241m=\u001b[39mchains,\n\u001b[1;32m   (...)\u001b[0m\n\u001b[0;32m    603\u001b[0m         \u001b[38;5;241m*\u001b[39m\u001b[38;5;241m*\u001b[39mkwargs,\n\u001b[0;32m    604\u001b[0m     )\n\u001b[0;32m    606\u001b[0m \u001b[38;5;28;01mif\u001b[39;00m initial_points \u001b[38;5;129;01mis\u001b[39;00m \u001b[38;5;28;01mNone\u001b[39;00m:\n\u001b[0;32m    607\u001b[0m     \u001b[38;5;66;03m# Time to draw/evaluate numeric start points for each chain.\u001b[39;00m\n\u001b[1;32m--> 608\u001b[0m     ipfns \u001b[38;5;241m=\u001b[39m \u001b[43mmake_initial_point_fns_per_chain\u001b[49m\u001b[43m(\u001b[49m\n\u001b[0;32m    609\u001b[0m \u001b[43m        \u001b[49m\u001b[43mmodel\u001b[49m\u001b[38;5;241;43m=\u001b[39;49m\u001b[43mmodel\u001b[49m\u001b[43m,\u001b[49m\n\u001b[0;32m    610\u001b[0m \u001b[43m        \u001b[49m\u001b[43moverrides\u001b[49m\u001b[38;5;241;43m=\u001b[39;49m\u001b[43minitvals\u001b[49m\u001b[43m,\u001b[49m\n\u001b[0;32m    611\u001b[0m \u001b[43m        \u001b[49m\u001b[43mjitter_rvs\u001b[49m\u001b[38;5;241;43m=\u001b[39;49m\u001b[38;5;28;43mset\u001b[39;49m\u001b[43m(\u001b[49m\u001b[43m)\u001b[49m\u001b[43m,\u001b[49m\n\u001b[0;32m    612\u001b[0m \u001b[43m        \u001b[49m\u001b[43mchains\u001b[49m\u001b[38;5;241;43m=\u001b[39;49m\u001b[43mchains\u001b[49m\u001b[43m,\u001b[49m\n\u001b[0;32m    613\u001b[0m \u001b[43m    \u001b[49m\u001b[43m)\u001b[49m\n\u001b[0;32m    614\u001b[0m     initial_points \u001b[38;5;241m=\u001b[39m [ipfn(seed) \u001b[38;5;28;01mfor\u001b[39;00m ipfn, seed \u001b[38;5;129;01min\u001b[39;00m \u001b[38;5;28mzip\u001b[39m(ipfns, random_seed_list)]\n\u001b[0;32m    616\u001b[0m \u001b[38;5;66;03m# One final check that shapes and logps at the starting points are okay.\u001b[39;00m\n",
      "File \u001b[1;32mc:\\tools\\Anaconda3\\envs\\tb\\lib\\site-packages\\pymc\\initial_point.py:104\u001b[0m, in \u001b[0;36mmake_initial_point_fns_per_chain\u001b[1;34m(model, overrides, jitter_rvs, chains)\u001b[0m\n\u001b[0;32m     94\u001b[0m     ipfns \u001b[38;5;241m=\u001b[39m [\n\u001b[0;32m     95\u001b[0m         make_initial_point_fn(\n\u001b[0;32m     96\u001b[0m             model\u001b[38;5;241m=\u001b[39mmodel,\n\u001b[1;32m   (...)\u001b[0m\n\u001b[0;32m    101\u001b[0m         \u001b[38;5;28;01mfor\u001b[39;00m chain_overrides \u001b[38;5;129;01min\u001b[39;00m overrides\n\u001b[0;32m    102\u001b[0m     ]\n\u001b[0;32m    103\u001b[0m \u001b[38;5;28;01melse\u001b[39;00m:\n\u001b[1;32m--> 104\u001b[0m     \u001b[38;5;28;01mraise\u001b[39;00m \u001b[38;5;167;01mValueError\u001b[39;00m(\n\u001b[0;32m    105\u001b[0m         \u001b[38;5;124mf\u001b[39m\u001b[38;5;124m\"\u001b[39m\u001b[38;5;124mNumber of initval dicts (\u001b[39m\u001b[38;5;132;01m{\u001b[39;00m\u001b[38;5;28mlen\u001b[39m(overrides)\u001b[38;5;132;01m}\u001b[39;00m\u001b[38;5;124m) does not match the number of chains (\u001b[39m\u001b[38;5;132;01m{\u001b[39;00mchains\u001b[38;5;132;01m}\u001b[39;00m\u001b[38;5;124m).\u001b[39m\u001b[38;5;124m\"\u001b[39m\n\u001b[0;32m    106\u001b[0m     )\n\u001b[0;32m    108\u001b[0m \u001b[38;5;28;01mreturn\u001b[39;00m ipfns\n",
      "\u001b[1;31mValueError\u001b[0m: Number of initval dicts (16) does not match the number of chains (8)."
     ]
    }
   ],
   "source": [
    "draws= 10000\n",
    "tune = 5000\n",
    "calibrate_with_configs(OUT_PATH,params, covid_configs, draws, tune)"
   ]
  }
 ],
 "metadata": {
  "kernelspec": {
   "display_name": "tb",
   "language": "python",
   "name": "python3"
  },
  "language_info": {
   "codemirror_mode": {
    "name": "ipython",
    "version": 3
   },
   "file_extension": ".py",
   "mimetype": "text/x-python",
   "name": "python",
   "nbconvert_exporter": "python",
   "pygments_lexer": "ipython3",
   "version": "3.10.15"
  }
 },
 "nbformat": 4,
 "nbformat_minor": 2
}
