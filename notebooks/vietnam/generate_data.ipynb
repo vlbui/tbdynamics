{
 "cells": [
  {
   "cell_type": "markdown",
   "metadata": {},
   "source": [
    "## Note\n",
    "This notebook is used to genrate and save outputs as pickle files "
   ]
  },
  {
   "cell_type": "code",
   "execution_count": 1,
   "metadata": {},
   "outputs": [
    {
     "name": "stderr",
     "output_type": "stream",
     "text": [
      "WARNING (pytensor.configdefaults): g++ not available, if using conda: `conda install m2w64-toolchain`\n",
      "WARNING (pytensor.configdefaults): g++ not detected!  PyTensor will be unable to compile C-implementations and will default to Python. Performance may be severely degraded. To remove this warning, set PyTensor flags cxx to an empty string.\n",
      "WARNING (pytensor.tensor.blas): Using NumPy C-API based implementation for BLAS functions.\n"
     ]
    }
   ],
   "source": [
    "import warnings\n",
    "\n",
    "warnings.filterwarnings(\"ignore\")\n",
    "from tbdynamics.vietnam.calibration.utils import (\n",
    "    calculate_scenario_outputs,\n",
    "    calculate_covid_diff_cum_quantiles,\n",
    "    calculate_scenario_diff_cum_quantiles,\n",
    ")\n",
    "from tbdynamics.settings import DATA_PATH\n",
    "from pathlib import Path\n",
    "import arviz as az\n",
    "import pickle\n",
    "import numpy as np"
   ]
  },
  {
   "cell_type": "code",
   "execution_count": 2,
   "metadata": {},
   "outputs": [],
   "source": [
    "# extract data - only run for first time\n",
    "RUN_PATH = Path.cwd().parent.parent / 'runs/r1910'\n",
    "OUT_PATH = Path.cwd().parent.parent / 'data/outputs/vietnam'"
   ]
  },
  {
   "cell_type": "code",
   "execution_count": 3,
   "metadata": {},
   "outputs": [],
   "source": [
    "# idata = az.from_netcdf(RUN_PATH / 'calib_full_out_detection.nc')\n",
    "# burnt_idata = idata.sel(draw=np.s_[50000:])\n",
    "# idata_extract = az.extract(burnt_idata, num_samples=1000)\n",
    "# inference_data = az.convert_to_inference_data(idata_extract.reset_index('sample'))\n",
    "# az.to_netcdf(inference_data, OUT_PATH /'extracted_data.nc')"
   ]
  },
  {
   "cell_type": "code",
   "execution_count": 4,
   "metadata": {},
   "outputs": [],
   "source": [
    "#  Load saved idata\n",
    "idata = az.from_netcdf(Path(OUT_PATH / 'idata/idata_detection.nc'))\n",
    "params = {\n",
    "    \"start_population_size\": 2000000.0,\n",
    "    \"seed_time\": 1805.0,\n",
    "    \"seed_num\": 1.0,\n",
    "    \"seed_duration\": 1.0,\n",
    "}"
   ]
  },
  {
   "cell_type": "markdown",
   "metadata": {},
   "source": [
    "### Calculate the basecase outputs with scenarios of improving case detection"
   ]
  },
  {
   "cell_type": "code",
   "execution_count": null,
   "metadata": {},
   "outputs": [],
   "source": [
    "basecase = calculate_scenario_outputs(params, idata, extreme_transmission=False)\n",
    "with open(OUT_PATH / 'quant_outputs3.pkl', 'wb') as f:\n",
    "     pickle.dump(basecase, f)"
   ]
  },
  {
   "cell_type": "markdown",
   "metadata": {},
   "source": [
    "### Output for differences in cumulative diseased and cumulative deaths of COVID-19 vs no COVID-19"
   ]
  },
  {
   "cell_type": "code",
   "execution_count": 6,
   "metadata": {},
   "outputs": [],
   "source": [
    "# covid_cum_outputs = calculate_covid_diff_cum_quantiles(params, idata)\n",
    "# with open(OUT_PATH / 'covid_diff_quantiles.pkl', 'wb') as f:\n",
    "#      pickle.dump(covid_cum_outputs, f)"
   ]
  },
  {
   "cell_type": "markdown",
   "metadata": {},
   "source": [
    "### TB notifications in with different settings of COVID-19, with log likelihood"
   ]
  },
  {
   "cell_type": "code",
   "execution_count": 7,
   "metadata": {},
   "outputs": [],
   "source": [
    "# notif_covid_outputs = calculate_notifications_for_covid(params, idata)\n",
    "# with open(OUT_PATH /'notif_for_covid_with_ll.pkl', 'wb') as f:\n",
    "#      pickle.dump(notif_covid_outputs, f)"
   ]
  },
  {
   "cell_type": "markdown",
   "metadata": {},
   "source": [
    "### Cumulative diseased and death with different case detection scenarios"
   ]
  },
  {
   "cell_type": "code",
   "execution_count": 8,
   "metadata": {},
   "outputs": [],
   "source": [
    "# scenarios_diff_quantiles = calculate_scenario_diff_cum_quantiles(params, idata, [2.0, 5.0, 12.0], extreme_transmission=True)\n",
    "# with open(OUT_PATH/ 'scenarios_diff_outputs2.pkl', 'wb') as f:\n",
    "#     pickle.dump(scenarios_diff_quantiles,f)"
   ]
  }
 ],
 "metadata": {
  "kernelspec": {
   "display_name": "tbdyn",
   "language": "python",
   "name": "python3"
  },
  "language_info": {
   "codemirror_mode": {
    "name": "ipython",
    "version": 3
   },
   "file_extension": ".py",
   "mimetype": "text/x-python",
   "name": "python",
   "nbconvert_exporter": "python",
   "pygments_lexer": "ipython3",
   "version": "3.10.13"
  }
 },
 "nbformat": 4,
 "nbformat_minor": 2
}
