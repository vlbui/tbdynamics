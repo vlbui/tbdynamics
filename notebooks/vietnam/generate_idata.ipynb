{
 "cells": [
  {
   "cell_type": "code",
   "execution_count": null,
   "metadata": {},
   "outputs": [],
   "source": [
    "from tbdynamics.constants import covid_configs, quantiles\n",
    "from tbdynamics.calibration.utils import load_idata, extract_and_save_idata\n",
    "from tbdynamics.vietnam.calibration.utils import (\n",
    "    get_bcm,\n",
    "    run_model_for_covid,\n",
    "    calculate_waic_comparison,\n",
    ")\n",
    "from tbdynamics.tools.inputs import load_targets\n",
    "from tbdynamics. settings import BASE_PATH, DATA_PATH, VN_PATH, DOCS_PATH\n",
    "from tbdynamics.calibration.plotting import plot_output_ranges, plot_outputs_for_covid, plot_covid_configs_comparison_box\n",
    "import pickle\n",
    "from pathlib import Path\n"
   ]
  },
  {
   "cell_type": "code",
   "execution_count": null,
   "metadata": {},
   "outputs": [],
   "source": [
    "# az.rcParams[\"stats.ic_pointwise\"] = False\n",
    "# Example usage\n",
    "RUN_PATH = BASE_PATH / 'runs/r1910'\n",
    "IDATA_PATH = DATA_PATH / 'outputs/vietnam/idata'\n",
    "OUT_PATH = Path.cwd().parent.parent / 'data/outputs'"
   ]
  },
  {
   "cell_type": "code",
   "execution_count": null,
   "metadata": {},
   "outputs": [],
   "source": [
    "# Load inference data\n",
    "inference_data_dict = load_idata(RUN_PATH, covid_configs)\n",
    "# Extract and save the inference data\n"
   ]
  },
  {
   "cell_type": "code",
   "execution_count": null,
   "metadata": {},
   "outputs": [],
   "source": [
    "extract_and_save_idata(inference_data_dict, IDATA_PATH)"
   ]
  },
  {
   "cell_type": "code",
   "execution_count": null,
   "metadata": {},
   "outputs": [],
   "source": [
    "params = {\n",
    "    \"start_population_size\": 2000000.0,\n",
    "    \"seed_time\": 1805.0,\n",
    "    \"seed_num\": 1.0,\n",
    "    \"seed_duration\": 1.0,\n",
    "}"
   ]
  },
  {
   "cell_type": "code",
   "execution_count": null,
   "metadata": {},
   "outputs": [],
   "source": [
    "# extracted_idata = load_extracted_idata(OUT_PATH, covid_configs)"
   ]
  },
  {
   "cell_type": "code",
   "execution_count": null,
   "metadata": {},
   "outputs": [],
   "source": [
    "# Run the model for all scenarios and extract the outputs\n",
    "# covid_outputs = run_model_for_covid(params, IDATA_PATH, covid_configs, quantiles)"
   ]
  },
  {
   "cell_type": "code",
   "execution_count": null,
   "metadata": {},
   "outputs": [],
   "source": [
    "# OUT_PATH = Path.cwd().parent.parent / 'data/outputs'\n",
    "# with open(OUT_PATH /'covid_outputs.pkl', 'wb') as f:\n",
    "#      pickle.dump(covid_outputs, f)"
   ]
  },
  {
   "cell_type": "code",
   "execution_count": null,
   "metadata": {},
   "outputs": [],
   "source": [
    "import pickle\n",
    "from pathlib import Path\n",
    "OUT_PATH = Path.cwd().parent.parent / 'data/outputs'\n",
    "with open(OUT_PATH /'covid_outputs.pkl', 'wb') as f:\n",
    "     pickle.dump(covid_outputs, f)"
   ]
  },
  {
   "cell_type": "code",
   "execution_count": null,
   "metadata": {},
   "outputs": [],
   "source": [
    "# waic = calculate_waic_comparison(covid_outputs)"
   ]
  },
  {
   "cell_type": "code",
   "execution_count": null,
   "metadata": {},
   "outputs": [],
   "source": [
    "# waic"
   ]
  },
  {
   "cell_type": "code",
   "execution_count": null,
   "metadata": {},
   "outputs": [],
   "source": [
    "# waic.to_csv(DOCS_PATH /'waic.csv')"
   ]
  },
  {
   "cell_type": "code",
   "execution_count": null,
   "metadata": {},
   "outputs": [],
   "source": [
    "targets = load_targets(VN_PATH / 'targets.yml')"
   ]
  },
  {
   "cell_type": "code",
   "execution_count": null,
   "metadata": {},
   "outputs": [],
   "source": [
    "covid_outputs['detection']['indicator_outputs'].columns"
   ]
  },
  {
   "cell_type": "code",
   "execution_count": null,
   "metadata": {},
   "outputs": [],
   "source": [
    "plot_output_ranges(covid_outputs['detection']['indicator_outputs'], targets, ['notification'], 1, 2010, 2025)"
   ]
  },
  {
   "cell_type": "code",
   "execution_count": null,
   "metadata": {},
   "outputs": [],
   "source": [
    "plot_outputs_for_covid(covid_outputs, targets, 'adults_prevalence_pulmonary')"
   ]
  },
  {
   "cell_type": "code",
   "execution_count": null,
   "metadata": {},
   "outputs": [],
   "source": [
    "# plot_outputs_for_covid(covid_outputs, targets).write_image(DOCS_PATH / 'covid_comparison.png', scale =3 )"
   ]
  }
 ],
 "metadata": {
  "kernelspec": {
   "display_name": "tbdyn",
   "language": "python",
   "name": "python3"
  },
  "language_info": {
   "codemirror_mode": {
    "name": "ipython",
    "version": 3
   },
   "file_extension": ".py",
   "mimetype": "text/x-python",
   "name": "python",
   "nbconvert_exporter": "python",
   "pygments_lexer": "ipython3",
   "version": "3.10.13"
  }
 },
 "nbformat": 4,
 "nbformat_minor": 2
}
