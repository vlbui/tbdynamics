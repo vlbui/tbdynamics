{
 "cells": [
  {
   "cell_type": "code",
   "execution_count": 29,
   "metadata": {},
   "outputs": [],
   "source": [
    "import warnings\n",
    "\n",
    "warnings.filterwarnings(\"ignore\")\n",
    "from pathlib import Path\n",
    "import arviz as az\n",
    "\n",
    "from tbdynamics.calibration.plotting import plot_spaghetti, plot_output_ranges\n",
    "from tbdynamics.tools.inputs import load_targets\n",
    "from tbdynamics.settings import VN_PATH, OUT_PATH, DOCS_PATH\n",
    "from tbdynamics.constants import compartments\n",
    "import pickle\n",
    "import pandas as pd\n",
    "import plotly.express as px"
   ]
  },
  {
   "cell_type": "code",
   "execution_count": 30,
   "metadata": {},
   "outputs": [],
   "source": [
    "# loaded_inference_data = az.from_netcdf(OUT_PATH / 'inference_data1.nc')\n",
    "# idata = az.from_netcdf(OUT_PATH / 'extracted_idata.nc')\n",
    "params = {\n",
    "    \"start_population_size\": 2000000.0,\n",
    "    \"seed_time\": 1805.0,\n",
    "    \"seed_num\": 1.0,\n",
    "    \"seed_duration\": 1.0,\n",
    "}\n",
    "targets = load_targets(VN_PATH / \"targets.yml\")"
   ]
  },
  {
   "cell_type": "code",
   "execution_count": 31,
   "metadata": {},
   "outputs": [],
   "source": [
    "# outputs = calculate_scenario_outputs(params, idata)\n",
    "# with open(OUT_PATH / 'quant_outputs.pkl', 'wb') as f:\n",
    "#      pickle.dump(outputs, f)"
   ]
  },
  {
   "cell_type": "code",
   "execution_count": 32,
   "metadata": {},
   "outputs": [],
   "source": [
    "with open(OUT_PATH /'vietnam/quant_outputs3.pkl', 'rb') as f:\n",
    "    outputs = pickle.load(f)"
   ]
  },
  {
   "cell_type": "code",
   "execution_count": 58,
   "metadata": {},
   "outputs": [],
   "source": [
    "target_plot = plot_output_ranges(outputs['base_scenario']['quantiles'],targets,['adults_prevalence_pulmonary', 'incidence','mortality', 'percentage_latent'],2,2010,2025)"
   ]
  },
  {
   "cell_type": "code",
   "execution_count": null,
   "metadata": {},
   "outputs": [],
   "source": [
    "target_plot"
   ]
  },
  {
   "cell_type": "code",
   "execution_count": null,
   "metadata": {},
   "outputs": [],
   "source": [
    "# target_plot.write_image(DOCS_PATH / \"targets1.png\", scale=3)\n",
    "plot_output_ranges(outputs['base_scenario']['quantiles'],targets,['mortality_raw'],1,2010,2025)"
   ]
  },
  {
   "cell_type": "code",
   "execution_count": 36,
   "metadata": {},
   "outputs": [],
   "source": [
    "target_plot = plot_output_ranges(outputs['base_scenario']['quantiles'],targets,['total_population','prevalence_smear_positive'],2,2010,2025)\n"
   ]
  },
  {
   "cell_type": "code",
   "execution_count": 37,
   "metadata": {},
   "outputs": [],
   "source": [
    "target_plot.write_image(DOCS_PATH / \"targets2.png\", scale=3)"
   ]
  },
  {
   "cell_type": "code",
   "execution_count": 38,
   "metadata": {},
   "outputs": [],
   "source": [
    "# spah.write_image(DOCS_PATH / 'spah.png', scale = 3)"
   ]
  },
  {
   "cell_type": "code",
   "execution_count": 39,
   "metadata": {},
   "outputs": [],
   "source": [
    "# target_plot_history = plot_output_ranges(outputs['base_scenario'],targets,['total_population','notification','adults_prevalence_pulmonary'],1,1800,2010, history =True)"
   ]
  },
  {
   "cell_type": "code",
   "execution_count": 40,
   "metadata": {},
   "outputs": [],
   "source": [
    "# target_plot_history"
   ]
  },
  {
   "cell_type": "code",
   "execution_count": 41,
   "metadata": {},
   "outputs": [],
   "source": [
    "# target_plot_history.write_image(DOCS_PATH / 'targets_history.png', scale=3)"
   ]
  },
  {
   "cell_type": "code",
   "execution_count": 42,
   "metadata": {},
   "outputs": [],
   "source": [
    "# compare_target_plot = plot_output_ranges(outputs['base_scenario'],targets,['incidence','mortality_raw','prevalence_smear_positive', 'percentage_latent'],2,2010,2025)"
   ]
  },
  {
   "cell_type": "code",
   "execution_count": 43,
   "metadata": {},
   "outputs": [],
   "source": [
    "# compare_target_plot.write_image(DOCS_PATH / \"non_targets.png\", scale='3')"
   ]
  },
  {
   "cell_type": "code",
   "execution_count": 44,
   "metadata": {},
   "outputs": [],
   "source": [
    "# compare_target_plot"
   ]
  },
  {
   "cell_type": "code",
   "execution_count": 45,
   "metadata": {},
   "outputs": [],
   "source": [
    "screening_plot=plot_output_ranges(outputs['base_scenario']['quantiles'],targets,['detection_rate'],1,1981,2025)"
   ]
  },
  {
   "cell_type": "code",
   "execution_count": 46,
   "metadata": {},
   "outputs": [],
   "source": [
    "screening_plot.write_image(DOCS_PATH / 'screening_plot.png', scale =3)"
   ]
  },
  {
   "cell_type": "code",
   "execution_count": null,
   "metadata": {},
   "outputs": [],
   "source": [
    "screening_plot"
   ]
  },
  {
   "cell_type": "code",
   "execution_count": 48,
   "metadata": {},
   "outputs": [],
   "source": [
    "cdr_plot = plot_output_ranges(outputs['base_scenario']['quantiles'],targets,['case_notification_rate'],1,2010,2025)"
   ]
  },
  {
   "cell_type": "code",
   "execution_count": null,
   "metadata": {},
   "outputs": [],
   "source": [
    "cdr_plot"
   ]
  },
  {
   "cell_type": "code",
   "execution_count": 50,
   "metadata": {},
   "outputs": [],
   "source": [
    "# cdr_plot.write_image(DOCS_PATH / 'cdr_plot.png', scale =3)"
   ]
  },
  {
   "cell_type": "code",
   "execution_count": 51,
   "metadata": {},
   "outputs": [],
   "source": [
    "early_plot = plot_output_ranges(outputs['base_scenario']['quantiles'],targets,['incidence_early_prop'] ,1,2010,2025)"
   ]
  },
  {
   "cell_type": "code",
   "execution_count": null,
   "metadata": {},
   "outputs": [],
   "source": [
    "early_plot"
   ]
  },
  {
   "cell_type": "code",
   "execution_count": 53,
   "metadata": {},
   "outputs": [],
   "source": [
    "early_plot.write_image(DOCS_PATH / 'early_plot.png', scale =3)"
   ]
  },
  {
   "cell_type": "code",
   "execution_count": 54,
   "metadata": {},
   "outputs": [],
   "source": [
    "# # Simulate data extraction, replace with actual data extraction\n",
    "# data_early = outputs['base_scenario']['quantiles']['incidence_early_prop'][0.5].reset_index()\n",
    "# data_early['type'] = 'Early incidence'\n",
    "\n",
    "# data_late = outputs['base_scenario']['quantiles']['incidence_late_prop'][0.5].reset_index()\n",
    "# data_late['type'] = 'Late incidence'\n",
    "\n",
    "# # Combine dataframes\n",
    "# data_combined = pd.concat([data_early, data_late])\n",
    "# fig = px.area(data_combined, x='time', y=0.5, color='type',\n",
    "#               labels={0.5: 'Proportion (%)', 'time': ''},\n",
    "#               title='',\n",
    "#               range_x=[2000, 2025], range_y=[0,100])  # Update x-axis range\n",
    "\n",
    "# # Update layout to customize legend and axis range\n",
    "# fig.update_layout(\n",
    "#     xaxis=dict(\n",
    "#         title='',  # No x-axis title specified\n",
    "#         title_font=dict(size=12)  # Setting size even if title is not shown\n",
    "#     ),\n",
    "#     yaxis=dict(\n",
    "#         title='Incidence Proportion',\n",
    "#         title_font=dict(size=12)  # Specific font size for y-axis title\n",
    "#     ),\n",
    "#     legend_title_text='',  # Remove legend title\n",
    "#     legend=dict(\n",
    "#         orientation=\"h\",  # Horizontal legend\n",
    "#         yanchor=\"bottom\",\n",
    "#         y=-0.15,  # Position the legend below the plot\n",
    "#         xanchor=\"center\",\n",
    "#         x=0.5,\n",
    "#         font=dict(size=12)  # Font size for legend items\n",
    "#     ),\n",
    "#     margin=dict(l=20, r=20, t=20, b=50),  # Adjusted margins for better spacing\n",
    "#     font=dict(  # Apply font size adjustments\n",
    "#         family=\"Arial, sans-serif\",  # Set font family\n",
    "#         size=12,  # Default font size for other text elements\n",
    "#         color=\"black\"  # Font color\n",
    "#     )\n",
    "# )\n",
    "\n",
    "# fig.show()"
   ]
  },
  {
   "cell_type": "code",
   "execution_count": null,
   "metadata": {},
   "outputs": [],
   "source": [
    "base_df = outputs['base_scenario']['quantiles']\n",
    "\n",
    "# Calculate 80% of the original values for `prop_early_latent` and `prop_late_latent`\n",
    "\n",
    "\n",
    "# Extract data for each compartment, label it, and store in a list\n",
    "data_frames = []\n",
    "for compartment in compartments:\n",
    "    if f'prop_{compartment}' in base_df.columns:\n",
    "        df = base_df[f'prop_{compartment}'][0.5].reset_index()  # Adjust this if your quantile structure is different\n",
    "        df[0.5] *= 100  # Convert to percentage\n",
    "        df['type'] = compartment.replace('_', ' ').capitalize()\n",
    "        data_frames.append(df)\n",
    "\n",
    "# Combine all compartment data into one DataFrame for plotting\n",
    "combined_data = pd.concat(data_frames)\n",
    "\n",
    "# Plot using Plotly Express\n",
    "fig = px.area(combined_data, x='time', y=0.5, color='type',\n",
    "              labels={'0.5': 'Proportion (%)', 'time': 'Time'},\n",
    "              title='', range_x=[1980, 2025], range_y=[0, 100])\n",
    "\n",
    "# Update layout\n",
    "fig.update_layout(\n",
    "    xaxis=dict(title='', title_font=dict(size=12)),\n",
    "    yaxis=dict(title='<b>Proportion (%)</b>', title_font=dict(size=12), title_standoff=0),\n",
    "    legend_title_text='',\n",
    "    legend=dict(\n",
    "        orientation=\"h\",\n",
    "        yanchor=\"bottom\",\n",
    "        y=-0.2,\n",
    "        xanchor=\"center\",\n",
    "        x=0.5,\n",
    "        font=dict(size=12)\n",
    "    ),\n",
    "    height=320,  # Set the figure height\n",
    "    margin=dict(l=10, r=5, t=10, b=40),\n",
    "    font=dict(family=\"Arial, sans-serif\", size=12, color=\"black\")\n",
    ")\n",
    "\n",
    "# Show the plot\n",
    "fig.show()\n"
   ]
  },
  {
   "cell_type": "code",
   "execution_count": 56,
   "metadata": {},
   "outputs": [],
   "source": [
    "# fig.write_image(DOCS_PATH / 'comps.png', scale =3)"
   ]
  }
 ],
 "metadata": {
  "kernelspec": {
   "display_name": "tb",
   "language": "python",
   "name": "python3"
  },
  "language_info": {
   "codemirror_mode": {
    "name": "ipython",
    "version": 3
   },
   "file_extension": ".py",
   "mimetype": "text/x-python",
   "name": "python",
   "nbconvert_exporter": "python",
   "pygments_lexer": "ipython3",
   "version": "3.10.15"
  }
 },
 "nbformat": 4,
 "nbformat_minor": 2
}
