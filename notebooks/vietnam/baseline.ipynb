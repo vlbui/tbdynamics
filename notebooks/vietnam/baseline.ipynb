{
 "cells": [
  {
   "cell_type": "code",
   "execution_count": null,
   "metadata": {},
   "outputs": [],
   "source": [
    "import warnings\n",
    "\n",
    "warnings.filterwarnings(\"ignore\")\n",
    "from pathlib import Path\n",
    "import arviz as az\n",
    "from estival.sampling import tools as esamp\n",
    "from tbdynamics.calibration.plotting import plot_spaghetti, plot_output_ranges\n",
    "from tbdynamics.tools.inputs import load_targets\n",
    "from tbdynamics.settings import VN_PATH, OUT_PATH, DOCS_PATH, BASE_PATH\n",
    "from tbdynamics.constants import COMPARTMENTS, QUANTILES\n",
    "import pickle\n",
    "import pandas as pd\n",
    "import plotly.express as px\n",
    "from tbdynamics.vietnam.constants import indicator_names, indicator_legends\n",
    "from tbdynamics.vietnam.calibration.utils import get_bcm"
   ]
  },
  {
   "cell_type": "code",
   "execution_count": null,
   "metadata": {},
   "outputs": [],
   "source": [
    "# loaded_inference_data = az.from_netcdf(OUT_PATH / 'inference_data1.nc')\n",
    "# idata = az.from_netcdf(OUT_PATH / 'extracted_idata.nc')\n",
    "params = {\n",
    "    \"start_population_size\": 2000000.0,\n",
    "    \"seed_time\": 1805.0,\n",
    "    \"seed_num\": 1.0,\n",
    "    \"seed_duration\": 1.0,\n",
    "}\n",
    "targets = load_targets(VN_PATH / \"targets.yml\")\n",
    "covid_effects = {\n",
    "    'detection_reduction':True,\n",
    "    'contact_reduction':False\n",
    "}"
   ]
  },
  {
   "cell_type": "code",
   "execution_count": null,
   "metadata": {},
   "outputs": [],
   "source": [
    "# outputs = calculate_scenario_outputs(params, idata)\n",
    "# with open(OUT_PATH / 'quant_outputs.pkl', 'wb') as f:\n",
    "#      pickle.dump(outputs, f)\n",
    "RUN_PATH = BASE_PATH / 'runs/results'"
   ]
  },
  {
   "cell_type": "code",
   "execution_count": null,
   "metadata": {},
   "outputs": [],
   "source": [
    "idata_raw = az.from_netcdf(RUN_PATH / 'calib_full_out.nc')"
   ]
  },
  {
   "cell_type": "code",
   "execution_count": null,
   "metadata": {},
   "outputs": [],
   "source": [
    "burnt_idata = idata_raw.sel(draw=slice(5000, None))\n",
    "idata_extract = az.extract(burnt_idata, num_samples=500)\n",
    "bcm = get_bcm(params, covid_effects, None)\n",
    "base_results = esamp.model_results_for_samples(idata_extract, bcm).results\n",
    "outputs = esamp.quantiles_for_results(base_results, QUANTILES)"
   ]
  },
  {
   "cell_type": "code",
   "execution_count": null,
   "metadata": {},
   "outputs": [],
   "source": [
    "# outputs = pd.read_pickle(OUT_PATH /'vietnam/quant_outputs.pkl')\n",
    "# with open(OUT_PATH /'vietnam/quant_outputs3.pkl', 'rb') as f:\n",
    "#     outputs = pickle.load(f)"
   ]
  },
  {
   "cell_type": "code",
   "execution_count": null,
   "metadata": {},
   "outputs": [],
   "source": [
    "plot_output_ranges(outputs,targets,['adults_prevalence_pulmonary', 'prevalence_smear_positive','incidence','percentage_latent'],indicator_names,indicator_legends,2,2010,2025) #.write_image(DOCS_PATH / 'vietnam/compa_0605.png', scale =3)"
   ]
  },
  {
   "cell_type": "code",
   "execution_count": null,
   "metadata": {},
   "outputs": [],
   "source": [
    "# target_plot.write_image(DOCS_PATH / \"targets1.png\", scale=3)\n",
    "plot_output_ranges(outputs,targets,['total_population', 'pulmonary_prop'],indicator_names,indicator_legends,2,2010,2025) #.write_image(DOCS_PATH / 'vietnam/targets_sup.png', scale =3)"
   ]
  },
  {
   "cell_type": "code",
   "execution_count": null,
   "metadata": {},
   "outputs": [],
   "source": [
    "plot_output_ranges(outputs,targets,['children_incidence_raw'],indicator_names, indicator_legends,1,2010,2025) #.write_image(DOCS_PATH / 'children.png', scale =3)"
   ]
  },
  {
   "cell_type": "code",
   "execution_count": null,
   "metadata": {},
   "outputs": [],
   "source": [
    "plot_output_ranges(outputs,targets,['incidence_raw'],indicator_names, indicator_legends,1,2010,2025)"
   ]
  },
  {
   "cell_type": "code",
   "execution_count": null,
   "metadata": {},
   "outputs": [],
   "source": [
    "plot_output_ranges(outputs,targets,['incidence_early_prop'],indicator_names, indicator_legends, 1,2010,2025) #.write_image(DOCS_PATH / 'early_plot.png', scale =3)"
   ]
  },
  {
   "cell_type": "code",
   "execution_count": null,
   "metadata": {},
   "outputs": [],
   "source": [
    "# idata_extract = az.extract(burnt_idata, num_samples=100)\n",
    "# bcm = get_bcm(params, covid_effects, None)\n",
    "# base_results = esamp.model_results_for_samples(idata_extract, bcm).results"
   ]
  },
  {
   "cell_type": "code",
   "execution_count": null,
   "metadata": {},
   "outputs": [],
   "source": [
    "# base_results['percentage_latent'] *= 0.75"
   ]
  },
  {
   "cell_type": "code",
   "execution_count": null,
   "metadata": {},
   "outputs": [],
   "source": [
    "# plot_spaghetti(base_results, targets,['total_population','adults_prevalence_pulmonary', 'prevalence_smear_positive','incidence','percentage_latent','pulmonary_prop'],indicator_names, 2, 2010, 2025) #.write_image(DOCS_PATH / 'vietnam/spah.png', scale =3)"
   ]
  },
  {
   "cell_type": "code",
   "execution_count": null,
   "metadata": {},
   "outputs": [],
   "source": [
    "# fig.write_image(DOCS_PATH / 'comps.png', scale =3)"
   ]
  }
 ],
 "metadata": {
  "kernelspec": {
   "display_name": "tbdyn",
   "language": "python",
   "name": "python3"
  },
  "language_info": {
   "codemirror_mode": {
    "name": "ipython",
    "version": 3
   },
   "file_extension": ".py",
   "mimetype": "text/x-python",
   "name": "python",
   "nbconvert_exporter": "python",
   "pygments_lexer": "ipython3",
   "version": "3.10.13"
  }
 },
 "nbformat": 4,
 "nbformat_minor": 2
}
