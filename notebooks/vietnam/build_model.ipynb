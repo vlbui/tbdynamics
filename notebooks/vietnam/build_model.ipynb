{
 "cells": [
  {
   "cell_type": "code",
   "execution_count": null,
   "metadata": {},
   "outputs": [],
   "source": [
    "from tbdynamics.vietnam.model import build_model\n",
    "from tbdynamics.tools.inputs import load_params, matrix\n",
    "import pandas as pd\n",
    "pd.options.plotting.backend = \"plotly\""
   ]
  },
  {
   "cell_type": "code",
   "execution_count": null,
   "metadata": {},
   "outputs": [],
   "source": [
    "from tbdynamics.settings import VN_PATH"
   ]
  },
  {
   "cell_type": "markdown",
   "metadata": {},
   "source": [
    "### Load fixed params"
   ]
  },
  {
   "cell_type": "code",
   "execution_count": null,
   "metadata": {},
   "outputs": [],
   "source": [
    "fixed_params = load_params(VN_PATH / \"params.yml\")\n",
    "covid_effects = {\n",
    "    'detection_reduction':True,\n",
    "    'contact_reduction':False\n",
    "}"
   ]
  },
  {
   "cell_type": "markdown",
   "metadata": {},
   "source": [
    "### Load params for calibration "
   ]
  },
  {
   "cell_type": "code",
   "execution_count": null,
   "metadata": {},
   "outputs": [],
   "source": [
    "init_params = {\n",
    "    \"start_population_size\": 2000000.0,\n",
    "    \"seed_time\": 1805.0,\n",
    "    \"seed_num\": 1.0,\n",
    "    \"seed_duration\": 1.0,\n",
    "}\n",
    "mle_params = {\n",
    "    \"contact_rate\": 0.021711010297601117,\n",
    "    \"rr_infection_latent\": 0.17054213093905296,\n",
    "    \"rr_infection_recovered\": 0.2490776272976018,\n",
    "    \"progression_multiplier\": 0.9436697269101435,\n",
    "    \"smear_positive_death_rate\": 0.39537011849124926,\n",
    "    \"smear_negative_death_rate\": 0.02516315439604243,\n",
    "    \"smear_positive_self_recovery\": 0.24810365312177718,\n",
    "    \"smear_negative_self_recovery\": 0.1446619815441718,\n",
    "    \"screening_scaleup_shape\": 0.40049240543759373,\n",
    "    \"screening_inflection_time\": 1999.6638835051585,\n",
    "    \"time_to_screening_end_asymp\": 1.8898877892306576,\n",
    "    \"contact_reduction\": 0.2659767141683937,\n",
    "    \"detection_reduction\": 0.23908387687945365,\n",
    "    \"notif_dispersion\": 9112.260320844172,\n",
    "    \"prev_dispersion\": 60.43002096321272,\n",
    "}\n",
    "params = {**init_params, **mle_params}"
   ]
  },
  {
   "cell_type": "markdown",
   "metadata": {},
   "source": [
    "### Build epidemiological model"
   ]
  },
  {
   "cell_type": "code",
   "execution_count": null,
   "metadata": {},
   "outputs": [],
   "source": [
    "model=build_model(fixed_params, matrix,covid_effects)\n",
    "model.run(params)"
   ]
  },
  {
   "cell_type": "markdown",
   "metadata": {},
   "source": [
    "### Get derived outputs"
   ]
  },
  {
   "cell_type": "code",
   "execution_count": null,
   "metadata": {},
   "outputs": [],
   "source": [
    "df = model.get_derived_outputs_df()"
   ]
  },
  {
   "cell_type": "markdown",
   "metadata": {},
   "source": [
    "### Plot outputs"
   ]
  },
  {
   "cell_type": "code",
   "execution_count": null,
   "metadata": {},
   "outputs": [],
   "source": [
    "df['total_population'].plot()"
   ]
  },
  {
   "cell_type": "code",
   "execution_count": null,
   "metadata": {},
   "outputs": [],
   "source": [
    "\n",
    "df[[f'total_populationXage_{age}' for age in [0, 5, 15, 35, 50, 70]]].plot()"
   ]
  },
  {
   "cell_type": "code",
   "execution_count": null,
   "metadata": {},
   "outputs": [],
   "source": [
    "df['incidence'].plot()"
   ]
  },
  {
   "cell_type": "code",
   "execution_count": null,
   "metadata": {},
   "outputs": [],
   "source": [
    "df['prevalence_pulmonary'].plot()"
   ]
  },
  {
   "cell_type": "code",
   "execution_count": null,
   "metadata": {},
   "outputs": [],
   "source": [
    "df['adults_prevalence_pulmonary'].plot()"
   ]
  },
  {
   "cell_type": "code",
   "execution_count": null,
   "metadata": {},
   "outputs": [],
   "source": [
    "df['notification'].plot()"
   ]
  },
  {
   "cell_type": "code",
   "execution_count": null,
   "metadata": {},
   "outputs": [],
   "source": [
    "df['detection_rate'].plot()"
   ]
  },
  {
   "cell_type": "code",
   "execution_count": null,
   "metadata": {},
   "outputs": [],
   "source": [
    "df['cumulative_diseased_yearly'] = df['cumulative_diseased'] * 0.1"
   ]
  },
  {
   "cell_type": "code",
   "execution_count": null,
   "metadata": {},
   "outputs": [],
   "source": [
    "df['cumulative_diseased_yearly'].plot()"
   ]
  },
  {
   "cell_type": "code",
   "execution_count": null,
   "metadata": {},
   "outputs": [],
   "source": [
    "df['cumulative_diseased'].plot()"
   ]
  },
  {
   "cell_type": "code",
   "execution_count": null,
   "metadata": {},
   "outputs": [],
   "source": [
    "df['cumulative_death_yearly'] = df['cumulative_diseased'] * 0.1"
   ]
  }
 ],
 "metadata": {
  "kernelspec": {
   "display_name": "tb",
   "language": "python",
   "name": "python3"
  },
  "language_info": {
   "codemirror_mode": {
    "name": "ipython",
    "version": 3
   },
   "file_extension": ".py",
   "mimetype": "text/x-python",
   "name": "python",
   "nbconvert_exporter": "python",
   "pygments_lexer": "ipython3",
   "version": "3.10.15"
  }
 },
 "nbformat": 4,
 "nbformat_minor": 2
}
