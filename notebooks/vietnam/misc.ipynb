{
 "cells": [
  {
   "cell_type": "code",
   "execution_count": null,
   "metadata": {},
   "outputs": [],
   "source": [
    "import matplotlib.pyplot as plt\n",
    "import matplotlib\n",
    "matplotlib.rcParams['font.family'] = 'Arial'\n",
    "matplotlib.rcParams['font.size'] = 12\n",
    "\n",
    "# BCG multiplier dictionary and converting to model efficacy\n",
    "bcg_multiplier_dict = {\n",
    "    \"0\": 0.3,\n",
    "    \"5\": 0.3,\n",
    "    \"15\": 0.3,\n",
    "    \"30\": 1.0,\n",
    "    \"50\": 1.0,\n",
    "    \"70\": 1.0,\n",
    "    \"100\": 1.0\n",
    "}\n",
    "years = [int(year) for year in bcg_multiplier_dict.keys()]\n",
    "model_values = [100 * (1 - bcg_multiplier_dict[str(year)]) for year in years]\n",
    "\n",
    "# Nguidjop data with specific periods and values\n",
    "nguidjop_periods = [(0, 9), (10, 19), (20, 29), (30, 40)]\n",
    "nguidjop_values = [61, 58, 38, 42]\n",
    "\n",
    "# MRC data extracted as periods and values\n",
    "mrc_periods = [(0, 2.5), (2.5, 5), (5, 7.5), (7.5, 10), (10, 15)]\n",
    "mrc_values = [81, 87, 70, 68, 59]\n",
    "\n",
    "# Create the plot\n",
    "plt.figure(figsize=(10, 6))\n",
    "plt.plot(years, model_values, label='Model', color='red', linestyle='-')\n",
    "# Adding solid lines for MRC data\n",
    "for (start, end), value in zip(mrc_periods, mrc_values):\n",
    "    plt.plot([start, end], [value, value], 'g--', label='MRC 1972' if start == 0 else None)  # Solid green line for MRC data\n",
    "# Adding solid lines for Nguidjop data periods\n",
    "for (start, end), value in zip(nguidjop_periods, nguidjop_values):\n",
    "    plt.plot([start, end], [value, value], 'k--', label='Nguipdop-Djomo 2016' if start == 0 else None)  # Solid black line for each period\n",
    "\n",
    "# Customize the plot\n",
    "plt.xlabel('Years after vaccination')\n",
    "plt.ylabel('BCG Vaccine Efficacy (%)')\n",
    "plt.title('')\n",
    "plt.legend()\n",
    "plt.grid(True)\n",
    "plt.ylim(-5, 100)  # Lifting the baseline of y-axis a little above 0\n",
    "plt.xlim(0, 102)  # Adjust the x-axis limit to cover up to 70 years based on your longest time point\n",
    "plt.xticks(range(0, max(years) + 1, 10))\n",
    "# Show the plot\n",
    "plt.show()"
   ]
  },
  {
   "cell_type": "code",
   "execution_count": null,
   "metadata": {},
   "outputs": [],
   "source": [
    "import yaml\n",
    "from pathlib import Path\n",
    "from tbdynamics.settings import BASE_PATH, VN_PATH"
   ]
  },
  {
   "cell_type": "code",
   "execution_count": null,
   "metadata": {},
   "outputs": [],
   "source": [
    "def read_and_merge_yaml(base_path, target_path):\n",
    "    \"\"\"\n",
    "    Read 'params.yml' from the base directory and a target directory,\n",
    "    merging the contents with the target overwriting the base.\n",
    "\n",
    "    Args:\n",
    "        base_path (Path): The base directory to read the initial 'params.yml'.\n",
    "        target_path (Path): The target directory where another 'params.yml' may exist and override the base.\n",
    "\n",
    "    Returns:\n",
    "        dict: A dictionary representing the merged contents of the YAML files.\n",
    "    \"\"\"\n",
    "    config = {}\n",
    "\n",
    "    # Read the YAML file from the base directory\n",
    "    base_yaml_path = base_path / 'params/params.yml'\n",
    "    if base_yaml_path.exists():\n",
    "        with base_yaml_path.open('r') as file:\n",
    "            config = yaml.safe_load(file) or {}\n",
    "\n",
    "    # Read the YAML file from the target directory\n",
    "    target_yaml_path = target_path / 'params.yml'\n",
    "    if target_yaml_path.exists():\n",
    "        with target_yaml_path.open('r') as file:\n",
    "            target_config = yaml.safe_load(file) or {}\n",
    "            # Update the base config with target config, overwriting duplicates\n",
    "            config.update(target_config)\n",
    "\n",
    "    return config"
   ]
  },
  {
   "cell_type": "code",
   "execution_count": null,
   "metadata": {},
   "outputs": [],
   "source": [
    "read_and_merge_yaml(BASE_PATH, VN_PATH)"
   ]
  }
 ],
 "metadata": {
  "kernelspec": {
   "display_name": "tb",
   "language": "python",
   "name": "python3"
  },
  "language_info": {
   "codemirror_mode": {
    "name": "ipython",
    "version": 3
   },
   "file_extension": ".py",
   "mimetype": "text/x-python",
   "name": "python",
   "nbconvert_exporter": "python",
   "pygments_lexer": "ipython3",
   "version": "3.10.15"
  }
 },
 "nbformat": 4,
 "nbformat_minor": 2
}
