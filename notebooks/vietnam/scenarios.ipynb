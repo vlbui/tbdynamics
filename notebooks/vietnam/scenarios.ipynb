{
 "cells": [
  {
   "cell_type": "code",
   "execution_count": null,
   "metadata": {},
   "outputs": [],
   "source": [
    "import warnings\n",
    "\n",
    "warnings.filterwarnings(\"ignore\")\n",
    "from pathlib import Path\n",
    "from tbdynamics.calibration.plotting import (\n",
    "    plot_covid_configs_comparison_box,\n",
    "    plot_outputs_for_covid,\n",
    "    plot_scenario_output_ranges_by_col,\n",
    "    plot_detection_scenarios_comparison_box,\n",
    "    plot_covid_configs_comparison_box_combined,\n",
    ")\n",
    "from tbdynamics.settings import DATA_PATH, VN_PATH, DOCS_PATH\n",
    "import pickle\n",
    "from tbdynamics.tools.inputs import load_targets\n",
    "import pandas as pd\n",
    "import plotly.graph_objects as go\n",
    "from plotly.subplots import make_subplots\n",
    "import plotly.express as px\n",
    "from typing import Dict"
   ]
  },
  {
   "cell_type": "code",
   "execution_count": null,
   "metadata": {},
   "outputs": [],
   "source": [
    "# OUT_PATH = Path.cwd() / 'runs/r2508'\n",
    "# idata = az.from_netcdf(OUT_PATH / 'calib_full_out.nc')\n",
    "# burnt_idata = idata.sel(draw=np.s_[50000:])\n",
    "# idata_extract = az.extract(burnt_idata, num_samples=500)\n",
    "# inference_data = az.convert_to_inference_data(idata_extract.reset_index('sample'))\n",
    "# az.to_netcdf(inference_data, 'inference_data1.nc')"
   ]
  },
  {
   "cell_type": "code",
   "execution_count": null,
   "metadata": {},
   "outputs": [],
   "source": [
    "params = {\n",
    "    \"start_population_size\": 2000000.0,\n",
    "    \"seed_time\": 1805.0,\n",
    "    \"seed_num\": 1.0,\n",
    "    \"seed_duration\": 1.0,\n",
    "}\n",
    "# loaded_inference_data = az.from_netcdf('inference_data.nc')\n",
    "# idata = az.from_netcdf('inference_data.nc')\n",
    "targets = load_targets(VN_PATH / 'targets.yml')\n",
    "OUT_PATH = Path(DATA_PATH / 'outputs/vietnam/pickle')"
   ]
  },
  {
   "cell_type": "markdown",
   "metadata": {},
   "source": [
    "### Loading data"
   ]
  },
  {
   "cell_type": "code",
   "execution_count": null,
   "metadata": {},
   "outputs": [],
   "source": [
    "with open(OUT_PATH /'quant_outputs.pkl', 'rb') as f:\n",
    "    outputs = pickle.load(f)"
   ]
  },
  {
   "cell_type": "code",
   "execution_count": null,
   "metadata": {},
   "outputs": [],
   "source": [
    "with open(OUT_PATH /'notif_for_covid_with_ll.pkl', 'rb') as f:\n",
    "     notif_outputs = pickle.load(f)"
   ]
  },
  {
   "cell_type": "code",
   "execution_count": null,
   "metadata": {},
   "outputs": [],
   "source": [
    "with open(OUT_PATH / 'covid_diff_quantiles.pkl', 'rb') as f:\n",
    "    covid_diff = pickle.load(f)"
   ]
  },
  {
   "cell_type": "code",
   "execution_count": null,
   "metadata": {},
   "outputs": [],
   "source": [
    "with open(OUT_PATH/ 'scenarios_diff_outputs.pkl', 'rb') as f:\n",
    "    scenarios_diff = pickle.load(f)"
   ]
  },
  {
   "cell_type": "code",
   "execution_count": null,
   "metadata": {},
   "outputs": [],
   "source": [
    "covid_diff"
   ]
  },
  {
   "cell_type": "markdown",
   "metadata": {},
   "source": [
    "### COVID-19"
   ]
  },
  {
   "cell_type": "code",
   "execution_count": null,
   "metadata": {},
   "outputs": [],
   "source": [
    "# covid_config_plots = plot_outputs_for_covid(notif_outputs,targets)"
   ]
  },
  {
   "cell_type": "code",
   "execution_count": null,
   "metadata": {},
   "outputs": [],
   "source": [
    "# covid_config_plots.write_image(DOCS_PATH / 'covid_notif.png',scale =3)"
   ]
  },
  {
   "cell_type": "code",
   "execution_count": null,
   "metadata": {},
   "outputs": [],
   "source": [
    "data = {'abs': {\n",
    "        'cumulative_diseased': pd.DataFrame({\n",
    "            0.025: [-1022.49, -5527.40, -16479.87, -25833.71, -30340.75],\n",
    "            0.250: [849.30, 3226.19, 7841.87, 9496.50, 9987.73],\n",
    "            0.500: [2334.16, 5253.32, 8231.95, 12505.88, 18259.03],\n",
    "            0.750: [3370.53, 12646.34, 26878.16, 34029.36, 36577.23],\n",
    "            0.975: [5882.10, 11411.43, 37124.04, 51379.98, 54448.19]\n",
    "        }, index=[2021.0, 2022.0, 2025.0, 2030.0, 2035.0]),\n",
    "\n",
    "        'cumulative_deaths': pd.DataFrame({\n",
    "            0.025: [-540.92, -2778.14, -6441.61, -8666.73, -9497.50],\n",
    "            0.250: [113.98, 308.10, 1373.65, 1973.69, 3069.54],\n",
    "            0.500: [717.08, 2026.66, 2115.98, 3252.94, 5629.52],\n",
    "            0.750: [1077.85, 2195.02, 3660.76, 4575.35, 9031.85],\n",
    "            0.975: [2234.79, 5478.08, 9746.35, 12041.62, 13168.49]\n",
    "        }, index=[2021.0, 2022.0, 2025.0, 2030.0, 2035.0])\n",
    "    },\n",
    "}\n",
    "\n",
    "# data = {\n",
    "#     'abs': {\n",
    "#         'cumulative_diseased': pd.DataFrame({\n",
    "#             0.025: [-1022.49, -5527.40, -16479.87, -25833.71, -30340.75],\n",
    "#             0.250: [1149.302329, 4226.190187, 8841.870962, 11496.502653, 11987.734349],\n",
    "#             0.500: [1034.16, 3853.32, 8231.95, 10505.88, 11259.03],\n",
    "#             0.750: [3370.528803, 12646.342404, 26878.163179, 34029.359300, 36577.226273],\n",
    "#             0.975: [5882.098055, 21411.425025, 47124.042869, 61379.980959, 64448.189405],\n",
    "#         }, index=[2021.0, 2022.0, 2025.0, 2030.0, 2035.0]),\n",
    "\n",
    "#         'cumulative_deaths': pd.DataFrame({\n",
    "#             0.025: [-540.92, -2778.14, -6441.61, -8666.73, -9497.50],\n",
    "#             0.250: [113.98, -308.10, -1373.65, -1973.69, -2369.54],\n",
    "#             0.500: [517.08, 1926.66, 4115.98, 5252.94, 5629.52],\n",
    "#             0.750: [1077.85, 2195.02, 3660.76, 4575.35, 5031.85],\n",
    "#             0.975: [2234.79, 5478.08, 9746.35, 12041.62, 13168.49]\n",
    "#         }, index=[2021.0, 2022.0, 2025.0, 2030.0, 2035.0])\n",
    "#     },\n",
    "# }"
   ]
  },
  {
   "cell_type": "code",
   "execution_count": null,
   "metadata": {},
   "outputs": [],
   "source": [
    "covid_comparison= plot_covid_configs_comparison_box(data, \"abs\",False)"
   ]
  },
  {
   "cell_type": "code",
   "execution_count": null,
   "metadata": {},
   "outputs": [],
   "source": [
    "# covid_comparison.write_image(DOCS_PATH / 'covid_comparison_a4.png', scale = 3)\n",
    "plot_covid_configs_comparison_box(covid_diff, \"abs\",False)"
   ]
  },
  {
   "cell_type": "code",
   "execution_count": null,
   "metadata": {},
   "outputs": [],
   "source": [
    "covid_comparison"
   ]
  },
  {
   "cell_type": "markdown",
   "metadata": {},
   "source": [
    "### Future projection"
   ]
  },
  {
   "cell_type": "code",
   "execution_count": null,
   "metadata": {},
   "outputs": [],
   "source": [
    "scenarios_diff_plot = plot_detection_scenarios_comparison_box(scenarios_diff,plot_type=\"abs\", log_scale=True)"
   ]
  },
  {
   "cell_type": "code",
   "execution_count": null,
   "metadata": {},
   "outputs": [],
   "source": [
    "scenarios_diff_plot #.write_image(DOCS_PATH / 'scenario_comparison_log.png', scale =3)"
   ]
  },
  {
   "cell_type": "code",
   "execution_count": null,
   "metadata": {},
   "outputs": [],
   "source": [
    "# sce_range = plot_scenario_output_ranges_by_col(outputs,plot_scenario_mode=3,y=0.45, x=0.95)"
   ]
  },
  {
   "cell_type": "code",
   "execution_count": null,
   "metadata": {},
   "outputs": [],
   "source": [
    "# sce_range.write_image(DOCS_PATH / 'sce_range3.png', scale =3)"
   ]
  },
  {
   "cell_type": "code",
   "execution_count": null,
   "metadata": {},
   "outputs": [],
   "source": [
    "# with open(OUT_PATH /'quant_outputs2.pkl', 'rb') as f:\n",
    "#     outputs = pickle.load(f)"
   ]
  },
  {
   "cell_type": "code",
   "execution_count": null,
   "metadata": {},
   "outputs": [],
   "source": [
    "plot_covid_configs_comparison_box_combined(covid_diff, data) #.write_image(DOCS_PATH / 'covid_comparison_combined.png', scale=3)"
   ]
  }
 ],
 "metadata": {
  "kernelspec": {
   "display_name": "tbdyn",
   "language": "python",
   "name": "python3"
  },
  "language_info": {
   "codemirror_mode": {
    "name": "ipython",
    "version": 3
   },
   "file_extension": ".py",
   "mimetype": "text/x-python",
   "name": "python",
   "nbconvert_exporter": "python",
   "pygments_lexer": "ipython3",
   "version": "3.10.13"
  }
 },
 "nbformat": 4,
 "nbformat_minor": 2
}
