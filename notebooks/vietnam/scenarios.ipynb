{
 "cells": [
  {
   "cell_type": "code",
   "execution_count": null,
   "metadata": {},
   "outputs": [],
   "source": [
    "import warnings\n",
    "\n",
    "warnings.filterwarnings(\"ignore\")\n",
    "from pathlib import Path\n",
    "from tbdynamics.calibration.plotting import (\n",
    "    plot_covid_configs_comparison_box,\n",
    "    plot_outputs_for_covid,\n",
    "    plot_scenario_output_ranges_by_col,\n",
    "    plot_detection_scenarios_comparison_box,\n",
    "    plot_covid_configs_comparison_box_combined,\n",
    ")\n",
    "from tbdynamics.settings import DATA_PATH, VN_PATH, DOCS_PATH\n",
    "import pickle\n",
    "from tbdynamics.tools.inputs import load_targets\n",
    "import pandas as pd\n",
    "import plotly.graph_objects as go\n",
    "from plotly.subplots import make_subplots\n",
    "import plotly.express as px\n",
    "from typing import Dict"
   ]
  },
  {
   "cell_type": "code",
   "execution_count": null,
   "metadata": {},
   "outputs": [],
   "source": [
    "# OUT_PATH = Path.cwd() / 'runs/r2508'\n",
    "# idata = az.from_netcdf(OUT_PATH / 'calib_full_out.nc')\n",
    "# burnt_idata = idata.sel(draw=np.s_[50000:])\n",
    "# idata_extract = az.extract(burnt_idata, num_samples=500)\n",
    "# inference_data = az.convert_to_inference_data(idata_extract.reset_index('sample'))\n",
    "# az.to_netcdf(inference_data, 'inference_data1.nc')"
   ]
  },
  {
   "cell_type": "code",
   "execution_count": null,
   "metadata": {},
   "outputs": [],
   "source": [
    "params = {\n",
    "    \"start_population_size\": 2000000.0,\n",
    "    \"seed_time\": 1805.0,\n",
    "    \"seed_num\": 1.0,\n",
    "    \"seed_duration\": 1.0,\n",
    "}\n",
    "# loaded_inference_data = az.from_netcdf('inference_data.nc')\n",
    "# idata = az.from_netcdf('inference_data.nc')\n",
    "targets = load_targets(VN_PATH / 'targets.yml')\n",
    "OUT_PATH = Path(DATA_PATH / 'outputs/vietnam/pickle')"
   ]
  },
  {
   "cell_type": "markdown",
   "metadata": {},
   "source": [
    "### Loading data"
   ]
  },
  {
   "cell_type": "code",
   "execution_count": null,
   "metadata": {},
   "outputs": [],
   "source": [
    "with open(OUT_PATH /'quant_outputs.pkl', 'rb') as f:\n",
    "    outputs = pickle.load(f)"
   ]
  },
  {
   "cell_type": "code",
   "execution_count": null,
   "metadata": {},
   "outputs": [],
   "source": [
    "with open(OUT_PATH /'notif_for_covid_with_ll.pkl', 'rb') as f:\n",
    "     notif_outputs = pickle.load(f)"
   ]
  },
  {
   "cell_type": "code",
   "execution_count": null,
   "metadata": {},
   "outputs": [],
   "source": [
    "with open(OUT_PATH / 'covid_diff_quantiles.pkl', 'rb') as f:\n",
    "    covid_diff = pickle.load(f)"
   ]
  },
  {
   "cell_type": "code",
   "execution_count": null,
   "metadata": {},
   "outputs": [],
   "source": [
    "with open(OUT_PATH/ 'scenarios_diff_outputs.pkl', 'rb') as f:\n",
    "    scenarios_diff = pickle.load(f)"
   ]
  },
  {
   "cell_type": "code",
   "execution_count": null,
   "metadata": {},
   "outputs": [],
   "source": [
    "covid_diff"
   ]
  },
  {
   "cell_type": "markdown",
   "metadata": {},
   "source": [
    "### COVID-19"
   ]
  },
  {
   "cell_type": "code",
   "execution_count": null,
   "metadata": {},
   "outputs": [],
   "source": [
    "# covid_config_plots = plot_outputs_for_covid(notif_outputs,targets)"
   ]
  },
  {
   "cell_type": "code",
   "execution_count": null,
   "metadata": {},
   "outputs": [],
   "source": [
    "# covid_config_plots.write_image(DOCS_PATH / 'covid_notif.png',scale =3)"
   ]
  },
  {
   "cell_type": "code",
   "execution_count": null,
   "metadata": {},
   "outputs": [],
   "source": [
    "# covid_comparison.write_image(DOCS_PATH / 'covid_comparison_a4.png', scale = 3)\n",
    "plot_covid_configs_comparison_box(covid_diff, \"abs\",False)"
   ]
  },
  {
   "cell_type": "code",
   "execution_count": null,
   "metadata": {},
   "outputs": [],
   "source": [
    "covid_comparison"
   ]
  },
  {
   "cell_type": "markdown",
   "metadata": {},
   "source": [
    "### Future projection"
   ]
  },
  {
   "cell_type": "code",
   "execution_count": null,
   "metadata": {},
   "outputs": [],
   "source": [
    "scenarios_diff_plot = plot_detection_scenarios_comparison_box(scenarios_diff,plot_type=\"abs\", log_scale=True)"
   ]
  },
  {
   "cell_type": "code",
   "execution_count": null,
   "metadata": {},
   "outputs": [],
   "source": [
    "scenarios_diff_plot #.write_image(DOCS_PATH / 'scenario_comparison_log.png', scale =3)"
   ]
  },
  {
   "cell_type": "code",
   "execution_count": null,
   "metadata": {},
   "outputs": [],
   "source": [
    "# sce_range = plot_scenario_output_ranges_by_col(outputs,plot_scenario_mode=3,y=0.45, x=0.95)"
   ]
  },
  {
   "cell_type": "code",
   "execution_count": null,
   "metadata": {},
   "outputs": [],
   "source": [
    "# sce_range.write_image(DOCS_PATH / 'sce_range3.png', scale =3)"
   ]
  },
  {
   "cell_type": "code",
   "execution_count": null,
   "metadata": {},
   "outputs": [],
   "source": [
    "# with open(OUT_PATH /'quant_outputs2.pkl', 'rb') as f:\n",
    "#     outputs = pickle.load(f)"
   ]
  },
  {
   "cell_type": "code",
   "execution_count": null,
   "metadata": {},
   "outputs": [],
   "source": [
    "# plot_covid_configs_comparison_box_combined(covid_diff, data) #.write_image(DOCS_PATH / 'covid_comparison_combined.png', scale=3)"
   ]
  }
 ],
 "metadata": {
  "kernelspec": {
   "display_name": "tbdyn",
   "language": "python",
   "name": "python3"
  },
  "language_info": {
   "codemirror_mode": {
    "name": "ipython",
    "version": 3
   },
   "file_extension": ".py",
   "mimetype": "text/x-python",
   "name": "python",
   "nbconvert_exporter": "python",
   "pygments_lexer": "ipython3",
   "version": "3.10.16"
  }
 },
 "nbformat": 4,
 "nbformat_minor": 2
}
