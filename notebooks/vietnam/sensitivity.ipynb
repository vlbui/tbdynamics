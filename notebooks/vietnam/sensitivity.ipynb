{
 "cells": [
  {
   "cell_type": "code",
   "execution_count": null,
   "id": "0f2f0cf9",
   "metadata": {},
   "outputs": [],
   "source": [
    "import warnings\n",
    "\n",
    "warnings.filterwarnings(\"ignore\")\n",
    "from tbdynamics.vietnam.calibration.utils import (\n",
    "    calculate_scenario_outputs,\n",
    "    calculate_covid_diff_cum_quantiles,\n",
    "    calculate_scenario_diff_cum_quantiles,\n",
    "    calculate_diff_cum_detection_reduction\n",
    ")\n",
    "from tbdynamics.calibration.plotting import plot_sensitivity_subplots\n",
    "from tbdynamics.settings import DATA_PATH, BASE_PATH, VN_PATH\n",
    "from tbdynamics.constants import QUANTILES\n",
    "from tbdynamics.tools.inputs import load_params, load_targets, matrix\n",
    "from tbdynamics.vietnam.model import build_model\n",
    "from pathlib import Path\n",
    "import arviz as az\n",
    "import numpy as np\n",
    "from typing import Union, List\n",
    "from scipy.stats import qmc\n",
    "import pandas as pd\n",
    "import plotly.express as px\n",
    "from typing import Union"
   ]
  },
  {
   "cell_type": "code",
   "execution_count": null,
   "id": "cbda245c",
   "metadata": {},
   "outputs": [],
   "source": [
    "pd.options.plotting.backend = \"plotly\""
   ]
  },
  {
   "cell_type": "code",
   "execution_count": null,
   "id": "0872807d",
   "metadata": {},
   "outputs": [],
   "source": [
    "RUN_PATH = Path.cwd().parent.parent / 'runs/r0205'\n",
    "OUT_PATH = Path.cwd().parent.parent / 'data/outputs/vietnam'"
   ]
  },
  {
   "cell_type": "code",
   "execution_count": null,
   "id": "a2b4bcc6",
   "metadata": {},
   "outputs": [],
   "source": [
    "idata_raw = az.from_netcdf(RUN_PATH / 'calib_full_out.nc')\n",
    "burnt_idata = idata_raw.sel(draw=np.s_[50000:])\n",
    "idata = az.extract(burnt_idata, num_samples=1000)"
   ]
  },
  {
   "cell_type": "code",
   "execution_count": null,
   "id": "3e938da9",
   "metadata": {},
   "outputs": [],
   "source": [
    "init_params = {\n",
    "    \"start_population_size\": 2000000.0,\n",
    "    \"seed_time\": 1805.0,\n",
    "    \"seed_num\": 1.0,\n",
    "    \"seed_duration\": 1.0,\n",
    "}\n",
    "fixed_params = load_params(VN_PATH / \"params.yml\")\n",
    "covid_effects = {\n",
    "    'detection_reduction':True,\n",
    "    'contact_reduction':False\n",
    "}"
   ]
  },
  {
   "cell_type": "code",
   "execution_count": null,
   "id": "24c52ce7",
   "metadata": {},
   "outputs": [],
   "source": [
    "# summary = az.summary(idata_raw, hdi_prob=0.95)\n",
    "# Extract mean, lower, and upper bounds of 95% CrI\n",
    "# mean = summary.loc[\"detection_reduction\", \"mean\"]\n",
    "# lower = summary.loc[\"detection_reduction\", \"hdi_2.5%\"]\n",
    "# upper = summary.loc[\"detection_reduction\", \"hdi_97.5%\"]"
   ]
  },
  {
   "cell_type": "code",
   "execution_count": null,
   "id": "817356cd",
   "metadata": {},
   "outputs": [],
   "source": [
    "# mle_params = summary[\"mean\"].to_dict()\n",
    "# params = init_params | mle_params\n",
    "# model=build_model(fixed_params, matrix,covid_effects)\n",
    "# model.run(params)\n",
    "# base_results = model.get_derived_outputs_df()\n",
    "# yearly_base = base_results.loc[\n",
    "#         (base_results.index >= 2020) & (base_results.index % 1 == 0)\n",
    "#     ]\n",
    "# base_cum_diseased = yearly_base[\"incidence_raw\"].cumsum()\n",
    "# base_cum_deaths = yearly_base[\"mortality_raw\"].cumsum()"
   ]
  },
  {
   "cell_type": "code",
   "execution_count": null,
   "id": "f4f6cc24",
   "metadata": {},
   "outputs": [],
   "source": [
    "def extract_param_ranges(idata, hdi_prob=0.95):\n",
    "    summary = az.summary(idata, hdi_prob=hdi_prob)\n",
    "    mle_params = summary[\"mean\"].to_dict()\n",
    "    ranges = {\n",
    "        param: (\n",
    "            summary.loc[param, f\"hdi_{(1 - hdi_prob) / 2:.1%}\"],\n",
    "            summary.loc[param, f\"hdi_{1 - (1 - hdi_prob) / 2:.1%}\"]\n",
    "        )\n",
    "        for param in summary.index\n",
    "    }\n",
    "    return mle_params, ranges"
   ]
  },
  {
   "cell_type": "code",
   "execution_count": null,
   "id": "c79f8d2c",
   "metadata": {},
   "outputs": [],
   "source": [
    "def run_sensitivity_analysis(\n",
    "    params_to_vary: Union[str, List[str]],\n",
    "    init_params: dict,\n",
    "    fixed_params: dict,\n",
    "    mle_params: dict,\n",
    "    param_ranges: dict,\n",
    "    improved_detection_multiplier=None,\n",
    "    n_samples: int = 100,\n",
    "    target_year: int = 2035,\n",
    "):\n",
    "    if isinstance(params_to_vary, str):\n",
    "        params_to_vary = [params_to_vary]\n",
    "\n",
    "    sub_ranges = {param: param_ranges[param] for param in params_to_vary}\n",
    "    results_dict = {}\n",
    "\n",
    "    for param in params_to_vary:\n",
    "        low, high = sub_ranges[param]\n",
    "        sampler = qmc.LatinHypercube(d=1)\n",
    "        samples = qmc.scale(sampler.random(n=n_samples), [low], [high]).flatten()\n",
    "\n",
    "        param_results = []\n",
    "\n",
    "        for val in samples:\n",
    "            sample_params = init_params | mle_params | {param: val}\n",
    "\n",
    "            # Run base model\n",
    "            model_base = build_model(fixed_params, matrix, covid_effects, improved_detection_multiplier)\n",
    "            model_base.run(sample_params)\n",
    "            yearly_base = model_base.get_derived_outputs_df().loc[\n",
    "                (model_base.get_derived_outputs_df().index >= 2020) & \n",
    "                (model_base.get_derived_outputs_df().index % 1 == 0)\n",
    "            ]\n",
    "            cum_diseased_base = yearly_base[\"incidence_raw\"].cumsum().loc[target_year]\n",
    "            cum_deaths_base = yearly_base[\"mortality_raw\"].cumsum().loc[target_year]\n",
    "\n",
    "            # Run improved detection model\n",
    "            model_improved = build_model(fixed_params, matrix, covid_effects, improved_detection_multiplier)\n",
    "            model_improved.run(sample_params)\n",
    "            yearly_improved = model_improved.get_derived_outputs_df().loc[\n",
    "                (model_improved.get_derived_outputs_df().index >= 2020) & \n",
    "                (model_improved.get_derived_outputs_df().index % 1 == 0)\n",
    "            ]\n",
    "            cum_diseased_improved = yearly_improved[\"incidence_raw\"].cumsum().loc[target_year]\n",
    "            cum_deaths_improved = yearly_improved[\"mortality_raw\"].cumsum().loc[target_year]\n",
    "\n",
    "            # Calculate differences (improved - base)\n",
    "            param_results.append({\n",
    "                \"value\": val,\n",
    "                \"diff_cum_diseased\": cum_diseased_improved - cum_diseased_base,\n",
    "                \"diff_cum_deaths\": cum_deaths_improved - cum_deaths_base,\n",
    "            })\n",
    "\n",
    "        results_dict[param] = pd.DataFrame(param_results)\n",
    "\n",
    "    return results_dict"
   ]
  },
  {
   "cell_type": "code",
   "execution_count": null,
   "id": "937a0bec",
   "metadata": {},
   "outputs": [],
   "source": [
    "# mle_params, full_param_ranges = extract_param_ranges(burnt_idata)"
   ]
  },
  {
   "cell_type": "code",
   "execution_count": null,
   "id": "2d93529a",
   "metadata": {},
   "outputs": [],
   "source": [
    "# mle_params"
   ]
  },
  {
   "cell_type": "code",
   "execution_count": null,
   "id": "8cc8bddb",
   "metadata": {},
   "outputs": [],
   "source": [
    "# df = run_sensitivity_analysis(\n",
    "#     params_to_vary=[\"contact_rate\", \"smear_positive_death_rate\"],\n",
    "#     init_params=init_params,\n",
    "#     fixed_params=fixed_params,\n",
    "#     mle_params=mle_params,\n",
    "#     param_ranges=full_param_ranges,\n",
    "#     improved_detection_multiplier = 5.0,\n",
    "#     n_samples=20, \n",
    "# )"
   ]
  },
  {
   "cell_type": "code",
   "execution_count": null,
   "id": "bf832372",
   "metadata": {},
   "outputs": [],
   "source": [
    "# pd.to_pickle(df, DATA_PATH / \"outputs/vietnam/sensitivity_results.csv\")\n",
    "df_dict = pd.read_pickle(DATA_PATH / \"outputs/vietnam/sensitivity_results.csv\")"
   ]
  },
  {
   "cell_type": "code",
   "execution_count": null,
   "id": "70af328e",
   "metadata": {},
   "outputs": [],
   "source": [
    "keys_to_remove = [\"smear_positive_death_rate\"]\n",
    "df = {k: v for k, v in df_dict.items() if k not in keys_to_remove}"
   ]
  },
  {
   "cell_type": "code",
   "execution_count": null,
   "id": "24841471",
   "metadata": {},
   "outputs": [],
   "source": [
    "plot_sensitivity_subplots(df)"
   ]
  },
  {
   "cell_type": "code",
   "execution_count": null,
   "id": "efd53fbf",
   "metadata": {},
   "outputs": [],
   "source": []
  },
  {
   "cell_type": "code",
   "execution_count": null,
   "id": "10d2d3ad",
   "metadata": {},
   "outputs": [],
   "source": [
    "# df_smear = run_sensitivity_analysis(\n",
    "#     params_to_vary=[\"contact_rate\"],\n",
    "#     init_params=init_params,\n",
    "#     fixed_params=fixed_params,\n",
    "#     mle_params=mle_params,\n",
    "#     param_ranges=full_param_ranges,\n",
    "#     improved_detection_multiplier = 5.0,\n",
    "#     n_samples=20, \n",
    "# )"
   ]
  }
 ],
 "metadata": {
  "kernelspec": {
   "display_name": "tbdyn",
   "language": "python",
   "name": "python3"
  },
  "language_info": {
   "codemirror_mode": {
    "name": "ipython",
    "version": 3
   },
   "file_extension": ".py",
   "mimetype": "text/x-python",
   "name": "python",
   "nbconvert_exporter": "python",
   "pygments_lexer": "ipython3",
   "version": "3.10.13"
  }
 },
 "nbformat": 4,
 "nbformat_minor": 5
}
